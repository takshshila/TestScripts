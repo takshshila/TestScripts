{
 "cells": [
  {
   "cell_type": "code",
   "execution_count": 1,
   "id": "16965e97-49ae-4254-99dd-9919254bec39",
   "metadata": {},
   "outputs": [],
   "source": [
    "import pandas as pd\n",
    "from tqdm import tqdm\n",
    "import os\n",
    "import numpy as np\n",
    "from pathlib import Path\n",
    "import csv\n",
    "import random\n",
    "\n",
    "from sklearn.model_selection import train_test_split\n",
    "from sklearn.model_selection import KFold\n",
    "from sklearn.model_selection import GridSearchCV\n",
    "from sklearn.model_selection import RandomizedSearchCV\n",
    "from sklearn.model_selection import cross_val_score\n",
    "\n",
    "from sklearn.tree import DecisionTreeRegressor\n",
    "from sklearn.ensemble import RandomForestRegressor\n",
    "from sklearn.ensemble import GradientBoostingRegressor\n",
    "# import lightgbm as lgb\n",
    "\n",
    "from sklearn.metrics import (precision_score, recall_score, roc_auc_score, accuracy_score, mean_squared_error,\n",
    "                             confusion_matrix, precision_recall_curve, roc_curve, brier_score_loss)\n",
    "\n",
    "from scipy.stats import uniform as sp_randFloat\n",
    "from scipy.stats import randint as sp_randInt"
   ]
  },
  {
   "cell_type": "code",
   "execution_count": 2,
   "id": "d42cfaa0-b5bb-48c4-af2f-516bb6649166",
   "metadata": {},
   "outputs": [],
   "source": [
    "# Decision Tree module -> hyperparameter tuning\n",
    "\n",
    "def DT_pred_tuned(train_path, validation_path, train_column_drop, validation_column, details=None):\n",
    "    \n",
    "    df_train = pd.read_csv(train_path)\n",
    "    df_validation = pd.read_csv(validation_path)\n",
    "    \n",
    "    X = df_train.drop(train_column_drop, axis = 1)\n",
    "    y = df_train[validation_column]\n",
    "    \n",
    "    X_validation = df_validation.drop(train_column_drop, axis = 1)\n",
    "    y_validation = df_validation[validation_column]\n",
    "    \n",
    "    # Build models with hyperparameters sets\n",
    "    RSC = RandomizedSearchCV(\n",
    "        estimator=DecisionTreeRegressor(),\n",
    "        param_distributions={\n",
    "            'criterion': ['squared_error'],\n",
    "            'max_depth': range(1, 100, 10),\n",
    "            'max_features': ['auto', 'sqrt', 'log2']}, \n",
    "        cv=5, scoring='neg_root_mean_squared_error', n_jobs=-1, verbose = True)\n",
    "    \n",
    "    # Fit RandomizedSearchCV to find best hyperparameters\n",
    "    search_result = RSC.fit(X, y.values.ravel())\n",
    "    print(\"Best using: \", search_result.best_params_, \"Score: \", search_result.best_score_)\n",
    "\n",
    "    # Build models with optimized hyperparameters\n",
    "    model_DT = DecisionTreeRegressor(\n",
    "        criterion=search_result.best_params_[\"criterion\"],\n",
    "        max_depth=search_result.best_params_[\"max_depth\"],\n",
    "        max_features=search_result.best_params_[\"max_features\"])\n",
    "\n",
    "    model_DT.fit(X, y.values.ravel())\n",
    "    train_pred = model_DT.predict(X)\n",
    "    y_pred = model_DT.predict(X_validation)\n",
    "    \n",
    "    train_rmse = mean_squared_error(y, train_pred, squared=False)\n",
    "    \n",
    "    test_rmse = mean_squared_error(y_validation, y_pred, squared=False)\n",
    "\n",
    "    details['training_rmse'] = train_rmse\n",
    "    details['testing_rmse'] = test_rmse\n",
    "\n",
    "    print('Training RMSE: ', train_rmse, 'Testing RMSE: ', test_rmse)\n",
    "\n",
    "    return model_DT"
   ]
  },
  {
   "cell_type": "code",
   "execution_count": 6,
   "id": "ba9dcd5e-830d-4a4b-b917-d65e2865d3dc",
   "metadata": {},
   "outputs": [],
   "source": [
    "# Decision Tree module -> default parameters\n",
    "\n",
    "def DT_pred_default(train_path, validation_path, train_column_drop, validation_column, details=None):\n",
    "    \n",
    "    df_train = pd.read_csv(train_path)\n",
    "    df_validation = pd.read_csv(validation_path)\n",
    "    \n",
    "    X = df_train.drop(train_column_drop, axis = 1)\n",
    "    y = df_train[validation_column]\n",
    "    \n",
    "    X_validation = df_validation.drop(train_column_drop, axis = 1)\n",
    "    y_validation = df_validation[validation_column]\n",
    "\n",
    "    # Build models with optimized hyperparameters\n",
    "    model_DT = DecisionTreeRegressor()\n",
    "\n",
    "    model_DT.fit(X, y.values.ravel())\n",
    "    train_pred = model_DT.predict(X)\n",
    "    y_pred = model_DT.predict(X_validation)\n",
    "    \n",
    "    train_rmse = mean_squared_error(y, train_pred, squared=False)\n",
    "    \n",
    "    test_rmse = mean_squared_error(y_validation, y_pred, squared=False)\n",
    "\n",
    "    details['training_rmse'] = train_rmse\n",
    "    details['testing_rmse'] = test_rmse\n",
    "\n",
    "    print('Training RMSE: ', train_rmse, 'Testing RMSE: ', test_rmse)\n",
    "\n",
    "    return model_DT"
   ]
  },
  {
   "cell_type": "code",
   "execution_count": 4,
   "id": "c559dad3-7e70-416b-a17a-131bde8a379c",
   "metadata": {},
   "outputs": [],
   "source": [
    "# dataset metadata\n",
    "\n",
    "data_dir = \"/home/asim/ssriva59/setup-stuff/gateway_and_dataset\"\n",
    "datasets = [\n",
    "    \"Facebook_data\", # -> done,\n",
    "    \"Features_TestSet\", # -> done,\n",
    "    \"House_Price_Adv_Regression\", # -> done,\n",
    "    # \"Instant_Liking\",\n",
    "    \"Insurance\", # -> done,\n",
    "    \"Isolet\",\n",
    "    \"new_data_trans\", # -> done,\n",
    "    \"OnlineNewsPopularity\", # -> done,\n",
    "    \"ParkinsonData\", # -> done,\n",
    "    \"Sberbank_Russian_Housing_Market\", # -> done, Gradiant Boosting remains\n",
    "    \"slice_localization_data\", # -> done,\n",
    "    \"Telecom_data\", # -> done,\n",
    "    \"yearMSD_new\", # -> done,\n",
    "    \"arrhythmia\", # -> done,\n",
    "    \"Big_mart_sales\", # -> done,\n",
    "    \"blogData\", # -> done\n",
    "    \"communities\", # -> done,\n",
    "    \"dengue_features\", # -> done,\n",
    "    \"ECG0_p02\", # -> done,\n",
    "    \"ENERGY_DATA_COMPLETE\", # -> done\n",
    "]\n",
    "\n",
    "x_column_drop = {\n",
    "    \"Facebook_data\": ['Unnamed: 0', 'Total.Interactions'],\n",
    "    \"Features_TestSet\": ['Unnamed: 0', 'Target'],\n",
    "    \"House_Price_Adv_Regression\": ['Unnamed: 0', 'SalePrice'],\n",
    "    # \"Instant_Liking\": ['Instant.Liking'] -> NaN needs to be fixed,\n",
    "    \"Insurance\": ['Unnamed: 0', 'charges'],\n",
    "    \"Isolet\": ['Unnamed: 0', 'Target'], # -> some random error, need to see,\n",
    "    \"new_data_trans\": ['Unnamed: 0', 'X23.Humedad_Exterior_Sensor'],\n",
    "    \"OnlineNewsPopularity\": ['Unnamed: 0', 'shares'],\n",
    "    \"ParkinsonData\": ['Unnamed: 0', 'total_UPDRS'],\n",
    "    \"Sberbank_Russian_Housing_Market\": ['Unnamed: 0', 'price_doc'],\n",
    "    \"slice_localization_data\": ['Unnamed: 0', 'reference'],\n",
    "    \"Telecom_data\": ['Unnamed: 0', 'Churned.Label'],\n",
    "    \"yearMSD_new\": ['Unnamed: 0', 'Year'],\n",
    "    \"arrhythmia\": ['Unnamed: 0', 'Defection'],\n",
    "    \"Big_mart_sales\": ['Unnamed: 0', 'Item_Outlet_Sales'],\n",
    "    \"blogData\": ['Unnamed: 0', 'Comments'],\n",
    "    \"communities\": ['Unnamed: 0','ViolentCrimesPerPop'],\n",
    "    \"dengue_features\": ['Unnamed: 0','total_cases'],\n",
    "    \"ECG0_p02\": ['Unnamed: 0', 'CurrentValue'],\n",
    "    \"ENERGY_DATA_COMPLETE\": ['Unnamed: 0', 'Appliances']\n",
    "}\n",
    "\n",
    "target_column = {\n",
    "    \"Facebook_data\": ['Total.Interactions'],\n",
    "    \"Features_TestSet\": ['Target'],\n",
    "    \"House_Price_Adv_Regression\": ['SalePrice'],\n",
    "    # \"Instant_Liking\": ['Instant.Liking'] -> NaN needs to be fixed,\n",
    "    \"Insurance\": ['charges'],\n",
    "    \"Isolet\": ['Target'], # -> some random error, need to see,\n",
    "    \"new_data_trans\": ['X23.Humedad_Exterior_Sensor'],\n",
    "    \"OnlineNewsPopularity\": ['shares'],\n",
    "    \"ParkinsonData\": ['total_UPDRS'],\n",
    "    \"Sberbank_Russian_Housing_Market\": ['price_doc'],\n",
    "    \"slice_localization_data\": ['reference'],\n",
    "    \"Telecom_data\": ['Churned.Label'],\n",
    "    \"yearMSD_new\": ['Year'],\n",
    "    \"arrhythmia\": ['Defection'],\n",
    "    \"Big_mart_sales\": ['Item_Outlet_Sales'],\n",
    "    \"blogData\": ['Comments'],\n",
    "    \"communities\": ['ViolentCrimesPerPop'],\n",
    "    \"dengue_features\": ['total_cases'],\n",
    "    \"ECG0_p02\": ['CurrentValue'],\n",
    "    \"ENERGY_DATA_COMPLETE\": ['Appliances']\n",
    "}\n",
    "\n",
    "seeds = [1, 50, 100, 150, 200, 250, 300, 350, 400, 450]"
   ]
  },
  {
   "cell_type": "code",
   "execution_count": null,
   "id": "3128ae90-e0d4-4f8e-bb0f-8c93edab2fe6",
   "metadata": {},
   "outputs": [],
   "source": [
    "# For tuned DT\n",
    "\n",
    "for index, dataset in enumerate(datasets):\n",
    "    df = pd.DataFrame()\n",
    "    print(dataset)\n",
    "    for seed in tqdm(seeds):\n",
    "        csv_path_train = os.path.join(data_dir, dataset, \"Train\", dataset + '_seed_' + str(seed) + '_train.csv')\n",
    "        csv_path_validation = os.path.join(data_dir, dataset, \"Train\", dataset + '_seed_' + str(seed) + '_validation.csv')\n",
    "        csv_path_test = os.path.join(data_dir, dataset, \"Test\", dataset + '_Test_seed' + str(seed) + '_modified.csv')\n",
    "        df_test = pd.read_csv(csv_path_test)\n",
    "        \n",
    "        # print(csv_path_train, csv_path_test)\n",
    "        \n",
    "        X_test = df_test.drop(x_column_drop[dataset], axis = 1)\n",
    "        y_test = df_test[target_column[dataset]]\n",
    "        \n",
    "        details = {\n",
    "            'dataset': dataset,\n",
    "            'seed': str(seed)\n",
    "        }\n",
    "        \n",
    "        # For DT\n",
    "        model_DT = DT_pred_tuned(csv_path_train, csv_path_validation, x_column_drop[dataset], target_column[dataset], details)\n",
    "        \n",
    "        importances = model_DT.feature_importances_\n",
    "        indices = np.argsort(importances)[::-1]\n",
    "        top_k = 10\n",
    "        top_indices = indices[:top_k]\n",
    "        details['best_feature_list'] = np.array(X_test.columns)[indices][0:top_k]\n",
    "        \n",
    "        y_pred = model_DT.predict(X_test)\n",
    "        validation_rmse = mean_squared_error(y_test, y_pred, squared=False)\n",
    "        details['validation_rmse'] = validation_rmse\n",
    "        \n",
    "        df = df.append(details, ignore_index=True)\n",
    "        filepath = Path(dataset + '_DT_tuned.csv')\n",
    "        filepath.parent.mkdir(parents=True, exist_ok=True)\n",
    "        df.to_csv(filepath, index=False)"
   ]
  },
  {
   "cell_type": "code",
   "execution_count": null,
   "id": "5481c794-0006-4305-88f2-6830a08b01d4",
   "metadata": {},
   "outputs": [
    {
     "name": "stdout",
     "output_type": "stream",
     "text": [
      "Facebook_data\n"
     ]
    },
    {
     "name": "stderr",
     "output_type": "stream",
     "text": [
      " 50%|██████████████████████████████████████████████████████████████████████████████████████████████████                                                                                                  | 5/10 [00:00<00:00, 44.04it/s]"
     ]
    },
    {
     "name": "stdout",
     "output_type": "stream",
     "text": [
      "Training RMSE:  0.0 Testing RMSE:  46.025065634572066\n",
      "Training RMSE:  0.0 Testing RMSE:  38.44181750819455\n",
      "Training RMSE:  0.0 Testing RMSE:  54.386150197760216\n",
      "Training RMSE:  0.0 Testing RMSE:  31.01676965771903\n",
      "Training RMSE:  0.0 Testing RMSE:  103.63036877929815\n",
      "Training RMSE:  0.0 Testing RMSE:  38.79261098027131\n",
      "Training RMSE:  0.0 Testing RMSE:  69.29704178390301\n",
      "Training RMSE:  0.0 Testing RMSE:  504.0284118975834\n",
      "Training RMSE:  0.0 Testing RMSE:  47.6058819895189\n"
     ]
    },
    {
     "name": "stderr",
     "output_type": "stream",
     "text": [
      "100%|███████████████████████████████████████████████████████████████████████████████████████████████████████████████████████████████████████████████████████████████████████████████████████████████████| 10/10 [00:00<00:00, 45.40it/s]"
     ]
    },
    {
     "name": "stdout",
     "output_type": "stream",
     "text": [
      "Training RMSE:  0.0 Testing RMSE:  158.97039556680568\n"
     ]
    },
    {
     "name": "stderr",
     "output_type": "stream",
     "text": [
      "\n"
     ]
    },
    {
     "name": "stdout",
     "output_type": "stream",
     "text": [
      "Features_TestSet\n"
     ]
    },
    {
     "name": "stderr",
     "output_type": "stream",
     "text": [
      " 10%|███████████████████▌                                                                                                                                                                                | 1/10 [00:00<00:01,  5.28it/s]"
     ]
    },
    {
     "name": "stdout",
     "output_type": "stream",
     "text": [
      "Training RMSE:  0.009108994471698278 Testing RMSE:  117.41259226122072\n"
     ]
    },
    {
     "name": "stderr",
     "output_type": "stream",
     "text": [
      " 20%|███████████████████████████████████████▏                                                                                                                                                            | 2/10 [00:00<00:01,  5.35it/s]"
     ]
    },
    {
     "name": "stdout",
     "output_type": "stream",
     "text": [
      "Training RMSE:  0.009108994471698278 Testing RMSE:  104.52938741542461\n"
     ]
    },
    {
     "name": "stderr",
     "output_type": "stream",
     "text": [
      " 30%|██████████████████████████████████████████████████████████▊                                                                                                                                         | 3/10 [00:00<00:01,  5.39it/s]"
     ]
    },
    {
     "name": "stdout",
     "output_type": "stream",
     "text": [
      "Training RMSE:  0.0 Testing RMSE:  128.02608912126777\n"
     ]
    },
    {
     "name": "stderr",
     "output_type": "stream",
     "text": [
      " 40%|██████████████████████████████████████████████████████████████████████████████▍                                                                                                                     | 4/10 [00:00<00:01,  5.39it/s]"
     ]
    },
    {
     "name": "stdout",
     "output_type": "stream",
     "text": [
      "Training RMSE:  0.1275259226037759 Testing RMSE:  121.02191501981383\n"
     ]
    },
    {
     "name": "stderr",
     "output_type": "stream",
     "text": [
      " 50%|██████████████████████████████████████████████████████████████████████████████████████████████████                                                                                                  | 5/10 [00:00<00:00,  5.32it/s]"
     ]
    },
    {
     "name": "stdout",
     "output_type": "stream",
     "text": [
      "Training RMSE:  0.0 Testing RMSE:  116.52611908921263\n"
     ]
    },
    {
     "name": "stderr",
     "output_type": "stream",
     "text": [
      " 60%|█████████████████████████████████████████████████████████████████████████████████████████████████████████████████████▌                                                                              | 6/10 [00:01<00:00,  5.30it/s]"
     ]
    },
    {
     "name": "stdout",
     "output_type": "stream",
     "text": [
      "Training RMSE:  0.0 Testing RMSE:  125.72488951435781\n"
     ]
    },
    {
     "name": "stderr",
     "output_type": "stream",
     "text": [
      " 70%|█████████████████████████████████████████████████████████████████████████████████████████████████████████████████████████████████████████▏                                                          | 7/10 [00:01<00:00,  5.32it/s]"
     ]
    },
    {
     "name": "stdout",
     "output_type": "stream",
     "text": [
      "Training RMSE:  0.1275259226037759 Testing RMSE:  88.94816306893446\n"
     ]
    },
    {
     "name": "stderr",
     "output_type": "stream",
     "text": [
      " 80%|████████████████████████████████████████████████████████████████████████████████████████████████████████████████████████████████████████████████████████████▊                                       | 8/10 [00:01<00:00,  5.29it/s]"
     ]
    },
    {
     "name": "stdout",
     "output_type": "stream",
     "text": [
      "Training RMSE:  0.1275259226037759 Testing RMSE:  124.99324732921822\n"
     ]
    },
    {
     "name": "stderr",
     "output_type": "stream",
     "text": [
      " 90%|████████████████████████████████████████████████████████████████████████████████████████████████████████████████████████████████████████████████████████████████████████████████▍                   | 9/10 [00:01<00:00,  5.32it/s]"
     ]
    },
    {
     "name": "stdout",
     "output_type": "stream",
     "text": [
      "Training RMSE:  0.009108994471698278 Testing RMSE:  124.02850080235869\n"
     ]
    },
    {
     "name": "stderr",
     "output_type": "stream",
     "text": [
      "100%|███████████████████████████████████████████████████████████████████████████████████████████████████████████████████████████████████████████████████████████████████████████████████████████████████| 10/10 [00:01<00:00,  5.31it/s]\n"
     ]
    },
    {
     "name": "stdout",
     "output_type": "stream",
     "text": [
      "Training RMSE:  0.14228704224083397 Testing RMSE:  104.86268709756503\n",
      "House_Price_Adv_Regression\n"
     ]
    },
    {
     "name": "stderr",
     "output_type": "stream",
     "text": [
      " 20%|███████████████████████████████████████▏                                                                                                                                                            | 2/10 [00:00<00:00, 11.27it/s]"
     ]
    },
    {
     "name": "stdout",
     "output_type": "stream",
     "text": [
      "Training RMSE:  0.0 Testing RMSE:  40661.94886598414\n",
      "Training RMSE:  0.0 Testing RMSE:  40010.28983157199\n",
      "Training RMSE:  0.0 Testing RMSE:  40656.372771230366\n"
     ]
    },
    {
     "name": "stderr",
     "output_type": "stream",
     "text": [
      " 40%|██████████████████████████████████████████████████████████████████████████████▍                                                                                                                     | 4/10 [00:00<00:00, 11.12it/s]"
     ]
    },
    {
     "name": "stdout",
     "output_type": "stream",
     "text": [
      "Training RMSE:  0.0 Testing RMSE:  46870.48666374065\n",
      "Training RMSE:  0.0 Testing RMSE:  55221.11987055307\n"
     ]
    },
    {
     "name": "stderr",
     "output_type": "stream",
     "text": [
      " 60%|█████████████████████████████████████████████████████████████████████████████████████████████████████████████████████▌                                                                              | 6/10 [00:00<00:00, 11.27it/s]"
     ]
    },
    {
     "name": "stdout",
     "output_type": "stream",
     "text": [
      "Training RMSE:  0.0 Testing RMSE:  42936.81353552537\n"
     ]
    },
    {
     "name": "stderr",
     "output_type": "stream",
     "text": [
      " 80%|████████████████████████████████████████████████████████████████████████████████████████████████████████████████████████████████████████████████████████████▊                                       | 8/10 [00:00<00:00, 11.23it/s]"
     ]
    },
    {
     "name": "stdout",
     "output_type": "stream",
     "text": [
      "Training RMSE:  0.0 Testing RMSE:  50381.824270665136\n",
      "Training RMSE:  0.0 Testing RMSE:  48810.64933647576\n",
      "Training RMSE:  0.0 Testing RMSE:  36861.850835804435\n"
     ]
    },
    {
     "name": "stderr",
     "output_type": "stream",
     "text": [
      "100%|███████████████████████████████████████████████████████████████████████████████████████████████████████████████████████████████████████████████████████████████████████████████████████████████████| 10/10 [00:00<00:00, 11.12it/s]\n"
     ]
    },
    {
     "name": "stdout",
     "output_type": "stream",
     "text": [
      "Training RMSE:  0.0 Testing RMSE:  61921.730961618836\n",
      "Insurance\n"
     ]
    },
    {
     "name": "stderr",
     "output_type": "stream",
     "text": [
      "  0%|                                                                                                                                                                                                            | 0/10 [00:00<?, ?it/s]"
     ]
    },
    {
     "name": "stdout",
     "output_type": "stream",
     "text": [
      "Training RMSE:  0.0 Testing RMSE:  5688.889479650047\n",
      "Training RMSE:  0.0 Testing RMSE:  7580.045370938613\n",
      "Training RMSE:  477.93732251937627 Testing RMSE:  7065.797470941766\n",
      "Training RMSE:  0.0 Testing RMSE:  6461.67536291414\n",
      "Training RMSE:  477.93732251937627 Testing RMSE:  7303.481464811471\n"
     ]
    },
    {
     "name": "stderr",
     "output_type": "stream",
     "text": [
      " 50%|██████████████████████████████████████████████████████████████████████████████████████████████████                                                                                                  | 5/10 [00:00<00:00, 49.72it/s]"
     ]
    },
    {
     "name": "stdout",
     "output_type": "stream",
     "text": [
      "Training RMSE:  312.140481703273 Testing RMSE:  6989.313554704957\n",
      "Training RMSE:  0.0 Testing RMSE:  6915.50738638785\n",
      "Training RMSE:  0.0 Testing RMSE:  6134.574501185178\n",
      "Training RMSE:  0.0 Testing RMSE:  6452.10845320938\n"
     ]
    },
    {
     "name": "stderr",
     "output_type": "stream",
     "text": [
      "100%|███████████████████████████████████████████████████████████████████████████████████████████████████████████████████████████████████████████████████████████████████████████████████████████████████| 10/10 [00:00<00:00, 49.16it/s]\n"
     ]
    },
    {
     "name": "stdout",
     "output_type": "stream",
     "text": [
      "Training RMSE:  312.140481703273 Testing RMSE:  7014.719294114518\n",
      "Isolet\n"
     ]
    },
    {
     "name": "stderr",
     "output_type": "stream",
     "text": [
      " 10%|███████████████████▌                                                                                                                                                                                | 1/10 [00:02<00:18,  2.09s/it]"
     ]
    },
    {
     "name": "stdout",
     "output_type": "stream",
     "text": [
      "Training RMSE:  0.0 Testing RMSE:  0.2786626801640997\n"
     ]
    },
    {
     "name": "stderr",
     "output_type": "stream",
     "text": [
      " 20%|███████████████████████████████████████▏                                                                                                                                                            | 2/10 [00:04<00:17,  2.14s/it]"
     ]
    },
    {
     "name": "stdout",
     "output_type": "stream",
     "text": [
      "Training RMSE:  0.0 Testing RMSE:  0.27413604177800005\n"
     ]
    },
    {
     "name": "stderr",
     "output_type": "stream",
     "text": [
      " 30%|██████████████████████████████████████████████████████████▊                                                                                                                                         | 3/10 [00:06<00:14,  2.08s/it]"
     ]
    },
    {
     "name": "stdout",
     "output_type": "stream",
     "text": [
      "Training RMSE:  0.0 Testing RMSE:  0.2769786314229985\n"
     ]
    },
    {
     "name": "stderr",
     "output_type": "stream",
     "text": [
      " 40%|██████████████████████████████████████████████████████████████████████████████▍                                                                                                                     | 4/10 [00:08<00:12,  2.09s/it]"
     ]
    },
    {
     "name": "stdout",
     "output_type": "stream",
     "text": [
      "Training RMSE:  0.0 Testing RMSE:  0.27807728196238857\n"
     ]
    },
    {
     "name": "stderr",
     "output_type": "stream",
     "text": [
      " 50%|██████████████████████████████████████████████████████████████████████████████████████████████████                                                                                                  | 5/10 [00:10<00:10,  2.09s/it]"
     ]
    },
    {
     "name": "stdout",
     "output_type": "stream",
     "text": [
      "Training RMSE:  0.0 Testing RMSE:  0.2779811948691039\n"
     ]
    },
    {
     "name": "stderr",
     "output_type": "stream",
     "text": [
      " 60%|█████████████████████████████████████████████████████████████████████████████████████████████████████████████████████▌                                                                              | 6/10 [00:12<00:08,  2.12s/it]"
     ]
    },
    {
     "name": "stdout",
     "output_type": "stream",
     "text": [
      "Training RMSE:  1.5717699083701868e-18 Testing RMSE:  0.278418837549768\n"
     ]
    },
    {
     "name": "stderr",
     "output_type": "stream",
     "text": [
      " 70%|█████████████████████████████████████████████████████████████████████████████████████████████████████████████████████████████████████████▏                                                          | 7/10 [00:14<00:06,  2.14s/it]"
     ]
    },
    {
     "name": "stdout",
     "output_type": "stream",
     "text": [
      "Training RMSE:  0.0 Testing RMSE:  0.27922360827624054\n"
     ]
    },
    {
     "name": "stderr",
     "output_type": "stream",
     "text": [
      " 80%|████████████████████████████████████████████████████████████████████████████████████████████████████████████████████████████████████████████████████████████▊                                       | 8/10 [00:16<00:04,  2.15s/it]"
     ]
    },
    {
     "name": "stdout",
     "output_type": "stream",
     "text": [
      "Training RMSE:  7.858849541850934e-19 Testing RMSE:  0.2772492635613288\n"
     ]
    },
    {
     "name": "stderr",
     "output_type": "stream",
     "text": [
      " 90%|████████████████████████████████████████████████████████████████████████████████████████████████████████████████████████████████████████████████████████████████████████████████▍                   | 9/10 [00:19<00:02,  2.18s/it]"
     ]
    },
    {
     "name": "stdout",
     "output_type": "stream",
     "text": [
      "Training RMSE:  0.0 Testing RMSE:  0.27587478594711684\n"
     ]
    },
    {
     "name": "stderr",
     "output_type": "stream",
     "text": [
      "100%|███████████████████████████████████████████████████████████████████████████████████████████████████████████████████████████████████████████████████████████████████████████████████████████████████| 10/10 [00:21<00:00,  2.14s/it]\n"
     ]
    },
    {
     "name": "stdout",
     "output_type": "stream",
     "text": [
      "Training RMSE:  0.0 Testing RMSE:  0.28057687963304356\n",
      "new_data_trans\n"
     ]
    },
    {
     "name": "stderr",
     "output_type": "stream",
     "text": [
      " 30%|██████████████████████████████████████████████████████████▊                                                                                                                                         | 3/10 [00:00<00:00, 24.59it/s]"
     ]
    },
    {
     "name": "stdout",
     "output_type": "stream",
     "text": [
      "Training RMSE:  0.0 Testing RMSE:  2.420842010959017\n",
      "Training RMSE:  0.0 Testing RMSE:  2.537839247750276\n",
      "Training RMSE:  0.0 Testing RMSE:  2.874170310981957\n",
      "Training RMSE:  0.0 Testing RMSE:  2.6877586209707167\n",
      "Training RMSE:  0.0 Testing RMSE:  2.347852131435099\n"
     ]
    },
    {
     "name": "stderr",
     "output_type": "stream",
     "text": [
      " 90%|████████████████████████████████████████████████████████████████████████████████████████████████████████████████████████████████████████████████████████████████████████████████▍                   | 9/10 [00:00<00:00, 25.03it/s]"
     ]
    },
    {
     "name": "stdout",
     "output_type": "stream",
     "text": [
      "Training RMSE:  0.0 Testing RMSE:  2.5764898441460917\n",
      "Training RMSE:  0.0 Testing RMSE:  2.4440987052761454\n",
      "Training RMSE:  0.0 Testing RMSE:  2.5974628910368\n",
      "Training RMSE:  0.0 Testing RMSE:  2.686383725355598\n",
      "Training RMSE:  0.0 Testing RMSE:  2.534631488021935\n"
     ]
    },
    {
     "name": "stderr",
     "output_type": "stream",
     "text": [
      "100%|███████████████████████████████████████████████████████████████████████████████████████████████████████████████████████████████████████████████████████████████████████████████████████████████████| 10/10 [00:00<00:00, 24.97it/s]\n"
     ]
    },
    {
     "name": "stdout",
     "output_type": "stream",
     "text": [
      "OnlineNewsPopularity\n"
     ]
    },
    {
     "name": "stderr",
     "output_type": "stream",
     "text": [
      " 10%|███████████████████▌                                                                                                                                                                                | 1/10 [00:01<00:13,  1.51s/it]"
     ]
    },
    {
     "name": "stdout",
     "output_type": "stream",
     "text": [
      "Training RMSE:  0.0 Testing RMSE:  15313.843932640619\n"
     ]
    },
    {
     "name": "stderr",
     "output_type": "stream",
     "text": [
      " 20%|███████████████████████████████████████▏                                                                                                                                                            | 2/10 [00:02<00:11,  1.47s/it]"
     ]
    },
    {
     "name": "stdout",
     "output_type": "stream",
     "text": [
      "Training RMSE:  0.0 Testing RMSE:  18523.12894939742\n"
     ]
    },
    {
     "name": "stderr",
     "output_type": "stream",
     "text": [
      " 30%|██████████████████████████████████████████████████████████▊                                                                                                                                         | 3/10 [00:04<00:10,  1.44s/it]"
     ]
    },
    {
     "name": "stdout",
     "output_type": "stream",
     "text": [
      "Training RMSE:  0.0 Testing RMSE:  15765.288291040328\n"
     ]
    },
    {
     "name": "stderr",
     "output_type": "stream",
     "text": [
      " 40%|██████████████████████████████████████████████████████████████████████████████▍                                                                                                                     | 4/10 [00:05<00:08,  1.46s/it]"
     ]
    },
    {
     "name": "stdout",
     "output_type": "stream",
     "text": [
      "Training RMSE:  0.0 Testing RMSE:  20401.576766117945\n"
     ]
    },
    {
     "name": "stderr",
     "output_type": "stream",
     "text": [
      " 50%|██████████████████████████████████████████████████████████████████████████████████████████████████                                                                                                  | 5/10 [00:07<00:07,  1.47s/it]"
     ]
    },
    {
     "name": "stdout",
     "output_type": "stream",
     "text": [
      "Training RMSE:  0.0 Testing RMSE:  15288.639761536317\n"
     ]
    },
    {
     "name": "stderr",
     "output_type": "stream",
     "text": [
      " 60%|█████████████████████████████████████████████████████████████████████████████████████████████████████████████████████▌                                                                              | 6/10 [00:08<00:05,  1.47s/it]"
     ]
    },
    {
     "name": "stdout",
     "output_type": "stream",
     "text": [
      "Training RMSE:  0.0 Testing RMSE:  20452.194225143747\n"
     ]
    },
    {
     "name": "stderr",
     "output_type": "stream",
     "text": [
      " 70%|█████████████████████████████████████████████████████████████████████████████████████████████████████████████████████████████████████████▏                                                          | 7/10 [00:10<00:04,  1.47s/it]"
     ]
    },
    {
     "name": "stdout",
     "output_type": "stream",
     "text": [
      "Training RMSE:  0.0 Testing RMSE:  15188.229151828553\n"
     ]
    },
    {
     "name": "stderr",
     "output_type": "stream",
     "text": [
      " 80%|████████████████████████████████████████████████████████████████████████████████████████████████████████████████████████████████████████████████████████████▊                                       | 8/10 [00:11<00:02,  1.48s/it]"
     ]
    },
    {
     "name": "stdout",
     "output_type": "stream",
     "text": [
      "Training RMSE:  0.0 Testing RMSE:  22176.36649603667\n"
     ]
    },
    {
     "name": "stderr",
     "output_type": "stream",
     "text": [
      " 90%|████████████████████████████████████████████████████████████████████████████████████████████████████████████████████████████████████████████████████████████████████████████████▍                   | 9/10 [00:13<00:01,  1.49s/it]"
     ]
    },
    {
     "name": "stdout",
     "output_type": "stream",
     "text": [
      "Training RMSE:  0.0 Testing RMSE:  12155.593036559578\n"
     ]
    },
    {
     "name": "stderr",
     "output_type": "stream",
     "text": [
      "100%|███████████████████████████████████████████████████████████████████████████████████████████████████████████████████████████████████████████████████████████████████████████████████████████████████| 10/10 [00:14<00:00,  1.49s/it]\n"
     ]
    },
    {
     "name": "stdout",
     "output_type": "stream",
     "text": [
      "Training RMSE:  0.0 Testing RMSE:  15515.478798592972\n",
      "ParkinsonData\n"
     ]
    },
    {
     "name": "stderr",
     "output_type": "stream",
     "text": [
      " 20%|███████████████████████████████████████▏                                                                                                                                                            | 2/10 [00:00<00:00, 15.33it/s]"
     ]
    },
    {
     "name": "stdout",
     "output_type": "stream",
     "text": [
      "Training RMSE:  1.1111048039860786e-15 Testing RMSE:  1.0359675086395885\n",
      "Training RMSE:  1.0520139481803055e-15 Testing RMSE:  0.8438862329087794\n"
     ]
    },
    {
     "name": "stderr",
     "output_type": "stream",
     "text": [
      " 40%|██████████████████████████████████████████████████████████████████████████████▍                                                                                                                     | 4/10 [00:00<00:00, 15.36it/s]"
     ]
    },
    {
     "name": "stdout",
     "output_type": "stream",
     "text": [
      "Training RMSE:  9.169487413849823e-16 Testing RMSE:  0.5731978175847326\n",
      "Training RMSE:  9.890607905451617e-16 Testing RMSE:  0.8811777832554267\n"
     ]
    },
    {
     "name": "stderr",
     "output_type": "stream",
     "text": [
      " 60%|█████████████████████████████████████████████████████████████████████████████████████████████████████████████████████▌                                                                              | 6/10 [00:00<00:00, 15.52it/s]"
     ]
    },
    {
     "name": "stdout",
     "output_type": "stream",
     "text": [
      "Training RMSE:  8.799490929127093e-16 Testing RMSE:  0.8094073817255665\n",
      "Training RMSE:  1.1139218072858156e-15 Testing RMSE:  0.6161143730604003\n"
     ]
    },
    {
     "name": "stderr",
     "output_type": "stream",
     "text": [
      " 80%|████████████████████████████████████████████████████████████████████████████████████████████████████████████████████████████████████████████████████████████▊                                       | 8/10 [00:00<00:00, 15.59it/s]"
     ]
    },
    {
     "name": "stdout",
     "output_type": "stream",
     "text": [
      "Training RMSE:  1.1995550985184354e-15 Testing RMSE:  0.9142656410990906\n",
      "Training RMSE:  9.271454666045509e-16 Testing RMSE:  0.6828100160981093\n"
     ]
    },
    {
     "name": "stderr",
     "output_type": "stream",
     "text": [
      "100%|███████████████████████████████████████████████████████████████████████████████████████████████████████████████████████████████████████████████████████████████████████████████████████████████████| 10/10 [00:00<00:00, 15.53it/s]\n"
     ]
    },
    {
     "name": "stdout",
     "output_type": "stream",
     "text": [
      "Training RMSE:  8.855280767663694e-16 Testing RMSE:  1.1073089131793121\n",
      "Training RMSE:  9.854328616189142e-16 Testing RMSE:  1.0823084751570713\n",
      "Sberbank_Russian_Housing_Market\n"
     ]
    },
    {
     "name": "stderr",
     "output_type": "stream",
     "text": [
      " 10%|███████████████████▌                                                                                                                                                                                | 1/10 [00:01<00:13,  1.46s/it]"
     ]
    },
    {
     "name": "stdout",
     "output_type": "stream",
     "text": [
      "Training RMSE:  85633.98265864502 Testing RMSE:  3786662.403435617\n"
     ]
    },
    {
     "name": "stderr",
     "output_type": "stream",
     "text": [
      " 20%|███████████████████████████████████████▏                                                                                                                                                            | 2/10 [00:02<00:11,  1.49s/it]"
     ]
    },
    {
     "name": "stdout",
     "output_type": "stream",
     "text": [
      "Training RMSE:  48654.32479141935 Testing RMSE:  3646642.1918504564\n"
     ]
    },
    {
     "name": "stderr",
     "output_type": "stream",
     "text": [
      " 30%|██████████████████████████████████████████████████████████▊                                                                                                                                         | 3/10 [00:04<00:10,  1.48s/it]"
     ]
    },
    {
     "name": "stdout",
     "output_type": "stream",
     "text": [
      "Training RMSE:  99551.61946929106 Testing RMSE:  3826389.705804656\n"
     ]
    },
    {
     "name": "stderr",
     "output_type": "stream",
     "text": [
      " 40%|██████████████████████████████████████████████████████████████████████████████▍                                                                                                                     | 4/10 [00:05<00:08,  1.48s/it]"
     ]
    },
    {
     "name": "stdout",
     "output_type": "stream",
     "text": [
      "Training RMSE:  59793.836590154206 Testing RMSE:  3713505.979616582\n"
     ]
    },
    {
     "name": "stderr",
     "output_type": "stream",
     "text": [
      " 50%|██████████████████████████████████████████████████████████████████████████████████████████████████                                                                                                  | 5/10 [00:07<00:07,  1.46s/it]"
     ]
    },
    {
     "name": "stdout",
     "output_type": "stream",
     "text": [
      "Training RMSE:  36755.417805208584 Testing RMSE:  3263952.351097584\n"
     ]
    },
    {
     "name": "stderr",
     "output_type": "stream",
     "text": [
      " 60%|█████████████████████████████████████████████████████████████████████████████████████████████████████████████████████▌                                                                              | 6/10 [00:08<00:05,  1.48s/it]"
     ]
    },
    {
     "name": "stdout",
     "output_type": "stream",
     "text": [
      "Training RMSE:  92288.14023315026 Testing RMSE:  3691862.2771985796\n"
     ]
    },
    {
     "name": "stderr",
     "output_type": "stream",
     "text": [
      " 70%|█████████████████████████████████████████████████████████████████████████████████████████████████████████████████████████████████████████▏                                                          | 7/10 [00:10<00:04,  1.46s/it]"
     ]
    },
    {
     "name": "stdout",
     "output_type": "stream",
     "text": [
      "Training RMSE:  57522.91915645904 Testing RMSE:  4140647.742133489\n"
     ]
    },
    {
     "name": "stderr",
     "output_type": "stream",
     "text": [
      " 80%|████████████████████████████████████████████████████████████████████████████████████████████████████████████████████████████████████████████████████████████▊                                       | 8/10 [00:11<00:02,  1.45s/it]"
     ]
    },
    {
     "name": "stdout",
     "output_type": "stream",
     "text": [
      "Training RMSE:  95464.90364475049 Testing RMSE:  3616697.3812404075\n"
     ]
    },
    {
     "name": "stderr",
     "output_type": "stream",
     "text": [
      " 90%|████████████████████████████████████████████████████████████████████████████████████████████████████████████████████████████████████████████████████████████████████████████████▍                   | 9/10 [00:13<00:01,  1.45s/it]"
     ]
    },
    {
     "name": "stdout",
     "output_type": "stream",
     "text": [
      "Training RMSE:  85932.5965871874 Testing RMSE:  3631983.283215264\n"
     ]
    },
    {
     "name": "stderr",
     "output_type": "stream",
     "text": [
      "100%|███████████████████████████████████████████████████████████████████████████████████████████████████████████████████████████████████████████████████████████████████████████████████████████████████| 10/10 [00:14<00:00,  1.46s/it]\n"
     ]
    },
    {
     "name": "stdout",
     "output_type": "stream",
     "text": [
      "Training RMSE:  44880.07449410347 Testing RMSE:  3565660.515624337\n",
      "slice_localization_data\n"
     ]
    },
    {
     "name": "stderr",
     "output_type": "stream",
     "text": [
      " 10%|███████████████████▌                                                                                                                                                                                | 1/10 [00:05<00:46,  5.19s/it]"
     ]
    },
    {
     "name": "stdout",
     "output_type": "stream",
     "text": [
      "Training RMSE:  3.94668517985487e-09 Testing RMSE:  2.9848336510299815\n"
     ]
    },
    {
     "name": "stderr",
     "output_type": "stream",
     "text": [
      " 20%|███████████████████████████████████████▏                                                                                                                                                            | 2/10 [00:10<00:42,  5.27s/it]"
     ]
    },
    {
     "name": "stdout",
     "output_type": "stream",
     "text": [
      "Training RMSE:  0.0 Testing RMSE:  2.7444094242734485\n"
     ]
    },
    {
     "name": "stderr",
     "output_type": "stream",
     "text": [
      " 30%|██████████████████████████████████████████████████████████▊                                                                                                                                         | 3/10 [00:15<00:36,  5.21s/it]"
     ]
    },
    {
     "name": "stdout",
     "output_type": "stream",
     "text": [
      "Training RMSE:  0.0 Testing RMSE:  2.4378844202337313\n"
     ]
    },
    {
     "name": "stderr",
     "output_type": "stream",
     "text": [
      " 40%|██████████████████████████████████████████████████████████████████████████████▍                                                                                                                     | 4/10 [00:21<00:31,  5.27s/it]"
     ]
    },
    {
     "name": "stdout",
     "output_type": "stream",
     "text": [
      "Training RMSE:  3.9466852078977545e-09 Testing RMSE:  3.08154353409637\n"
     ]
    },
    {
     "name": "stderr",
     "output_type": "stream",
     "text": [
      " 50%|██████████████████████████████████████████████████████████████████████████████████████████████████                                                                                                  | 5/10 [00:26<00:26,  5.32s/it]"
     ]
    },
    {
     "name": "stdout",
     "output_type": "stream",
     "text": [
      "Training RMSE:  0.0 Testing RMSE:  2.727304954538045\n"
     ]
    },
    {
     "name": "stderr",
     "output_type": "stream",
     "text": [
      " 60%|█████████████████████████████████████████████████████████████████████████████████████████████████████████████████████▌                                                                              | 6/10 [00:31<00:21,  5.26s/it]"
     ]
    },
    {
     "name": "stdout",
     "output_type": "stream",
     "text": [
      "Training RMSE:  0.0 Testing RMSE:  2.844133688057774\n"
     ]
    },
    {
     "name": "stderr",
     "output_type": "stream",
     "text": [
      " 70%|█████████████████████████████████████████████████████████████████████████████████████████████████████████████████████████████████████████▏                                                          | 7/10 [00:36<00:15,  5.24s/it]"
     ]
    },
    {
     "name": "stdout",
     "output_type": "stream",
     "text": [
      "Training RMSE:  0.0 Testing RMSE:  3.270071547788281\n"
     ]
    },
    {
     "name": "stderr",
     "output_type": "stream",
     "text": [
      " 80%|████████████████████████████████████████████████████████████████████████████████████████████████████████████████████████████████████████████████████████████▊                                       | 8/10 [00:41<00:10,  5.21s/it]"
     ]
    },
    {
     "name": "stdout",
     "output_type": "stream",
     "text": [
      "Training RMSE:  0.0 Testing RMSE:  2.7226191608023402\n"
     ]
    },
    {
     "name": "stderr",
     "output_type": "stream",
     "text": [
      " 90%|████████████████████████████████████████████████████████████████████████████████████████████████████████████████████████████████████████████████████████████████████████████████▍                   | 9/10 [00:47<00:05,  5.19s/it]"
     ]
    },
    {
     "name": "stdout",
     "output_type": "stream",
     "text": [
      "Training RMSE:  0.0 Testing RMSE:  3.1545019052053846\n"
     ]
    },
    {
     "name": "stderr",
     "output_type": "stream",
     "text": [
      "100%|███████████████████████████████████████████████████████████████████████████████████████████████████████████████████████████████████████████████████████████████████████████████████████████████████| 10/10 [00:52<00:00,  5.23s/it]\n"
     ]
    },
    {
     "name": "stdout",
     "output_type": "stream",
     "text": [
      "Training RMSE:  0.0 Testing RMSE:  2.758464699033284\n",
      "Telecom_data\n"
     ]
    },
    {
     "name": "stderr",
     "output_type": "stream",
     "text": [
      " 20%|███████████████████████████████████████▏                                                                                                                                                            | 2/10 [00:00<00:00, 19.66it/s]"
     ]
    },
    {
     "name": "stdout",
     "output_type": "stream",
     "text": [
      "Training RMSE:  0.0 Testing RMSE:  0.282842712474619\n",
      "Training RMSE:  0.0 Testing RMSE:  0.31304951684997057\n",
      "Training RMSE:  0.0 Testing RMSE:  0.30983866769659335\n"
     ]
    },
    {
     "name": "stderr",
     "output_type": "stream",
     "text": [
      " 40%|██████████████████████████████████████████████████████████████████████████████▍                                                                                                                     | 4/10 [00:00<00:00, 19.47it/s]"
     ]
    },
    {
     "name": "stdout",
     "output_type": "stream",
     "text": [
      "Training RMSE:  0.0 Testing RMSE:  0.31937438845342625\n"
     ]
    },
    {
     "name": "stderr",
     "output_type": "stream",
     "text": [
      " 70%|█████████████████████████████████████████████████████████████████████████████████████████████████████████████████████████████████████████▏                                                          | 7/10 [00:00<00:00, 19.91it/s]"
     ]
    },
    {
     "name": "stdout",
     "output_type": "stream",
     "text": [
      "Training RMSE:  0.0 Testing RMSE:  0.282842712474619\n",
      "Training RMSE:  0.0 Testing RMSE:  0.29325756597230357\n",
      "Training RMSE:  0.0 Testing RMSE:  0.28982753492378877\n",
      "Training RMSE:  0.0 Testing RMSE:  0.3255764119219941\n",
      "Training RMSE:  0.0 Testing RMSE:  0.31937438845342625\n",
      "Training RMSE:  0.0 Testing RMSE:  0.2720294101747089\n"
     ]
    },
    {
     "name": "stderr",
     "output_type": "stream",
     "text": [
      "100%|███████████████████████████████████████████████████████████████████████████████████████████████████████████████████████████████████████████████████████████████████████████████████████████████████| 10/10 [00:00<00:00, 19.83it/s]\n"
     ]
    },
    {
     "name": "stdout",
     "output_type": "stream",
     "text": [
      "yearMSD_new\n"
     ]
    },
    {
     "name": "stderr",
     "output_type": "stream",
     "text": [
      " 10%|███████████████████▌                                                                                                                                                                                | 1/10 [00:03<00:32,  3.65s/it]"
     ]
    },
    {
     "name": "stdout",
     "output_type": "stream",
     "text": [
      "Training RMSE:  0.0 Testing RMSE:  13.8808736970155\n"
     ]
    },
    {
     "name": "stderr",
     "output_type": "stream",
     "text": [
      " 20%|███████████████████████████████████████▏                                                                                                                                                            | 2/10 [00:07<00:29,  3.73s/it]"
     ]
    },
    {
     "name": "stdout",
     "output_type": "stream",
     "text": [
      "Training RMSE:  0.0 Testing RMSE:  13.95720218685909\n"
     ]
    },
    {
     "name": "stderr",
     "output_type": "stream",
     "text": [
      " 30%|██████████████████████████████████████████████████████████▊                                                                                                                                         | 3/10 [00:11<00:26,  3.72s/it]"
     ]
    },
    {
     "name": "stdout",
     "output_type": "stream",
     "text": [
      "Training RMSE:  0.0 Testing RMSE:  13.817869076723616\n"
     ]
    },
    {
     "name": "stderr",
     "output_type": "stream",
     "text": [
      " 40%|██████████████████████████████████████████████████████████████████████████████▍                                                                                                                     | 4/10 [00:14<00:22,  3.75s/it]"
     ]
    },
    {
     "name": "stdout",
     "output_type": "stream",
     "text": [
      "Training RMSE:  0.0 Testing RMSE:  13.911334457581187\n"
     ]
    },
    {
     "name": "stderr",
     "output_type": "stream",
     "text": [
      " 50%|██████████████████████████████████████████████████████████████████████████████████████████████████                                                                                                  | 5/10 [00:18<00:18,  3.70s/it]"
     ]
    },
    {
     "name": "stdout",
     "output_type": "stream",
     "text": [
      "Training RMSE:  0.0 Testing RMSE:  13.809763687038599\n"
     ]
    },
    {
     "name": "stderr",
     "output_type": "stream",
     "text": [
      " 60%|█████████████████████████████████████████████████████████████████████████████████████████████████████████████████████▌                                                                              | 6/10 [00:22<00:14,  3.69s/it]"
     ]
    },
    {
     "name": "stdout",
     "output_type": "stream",
     "text": [
      "Training RMSE:  0.0 Testing RMSE:  13.714615767142813\n"
     ]
    },
    {
     "name": "stderr",
     "output_type": "stream",
     "text": [
      " 70%|█████████████████████████████████████████████████████████████████████████████████████████████████████████████████████████████████████████▏                                                          | 7/10 [00:25<00:11,  3.69s/it]"
     ]
    },
    {
     "name": "stdout",
     "output_type": "stream",
     "text": [
      "Training RMSE:  0.0 Testing RMSE:  13.746654303059117\n"
     ]
    },
    {
     "name": "stderr",
     "output_type": "stream",
     "text": [
      " 80%|████████████████████████████████████████████████████████████████████████████████████████████████████████████████████████████████████████████████████████████▊                                       | 8/10 [00:29<00:07,  3.69s/it]"
     ]
    },
    {
     "name": "stdout",
     "output_type": "stream",
     "text": [
      "Training RMSE:  0.0 Testing RMSE:  13.788801538402794\n"
     ]
    },
    {
     "name": "stderr",
     "output_type": "stream",
     "text": [
      " 90%|████████████████████████████████████████████████████████████████████████████████████████████████████████████████████████████████████████████████████████████████████████████████▍                   | 9/10 [00:33<00:03,  3.70s/it]"
     ]
    },
    {
     "name": "stdout",
     "output_type": "stream",
     "text": [
      "Training RMSE:  0.0 Testing RMSE:  13.715304338287574\n"
     ]
    },
    {
     "name": "stderr",
     "output_type": "stream",
     "text": [
      "100%|███████████████████████████████████████████████████████████████████████████████████████████████████████████████████████████████████████████████████████████████████████████████████████████████████| 10/10 [00:36<00:00,  3.70s/it]\n"
     ]
    },
    {
     "name": "stdout",
     "output_type": "stream",
     "text": [
      "Training RMSE:  0.0 Testing RMSE:  13.86581881592154\n",
      "arrhythmia\n"
     ]
    },
    {
     "name": "stderr",
     "output_type": "stream",
     "text": [
      " 20%|███████████████████████████████████████▏                                                                                                                                                            | 2/10 [00:00<00:00, 16.44it/s]"
     ]
    },
    {
     "name": "stdout",
     "output_type": "stream",
     "text": [
      "Training RMSE:  0.0 Testing RMSE:  5.509350340690868\n",
      "Training RMSE:  0.0 Testing RMSE:  6.859943405700354\n",
      "Training RMSE:  0.0 Testing RMSE:  11.050685366022487\n"
     ]
    },
    {
     "name": "stderr",
     "output_type": "stream",
     "text": [
      " 40%|██████████████████████████████████████████████████████████████████████████████▍                                                                                                                     | 4/10 [00:00<00:00, 16.31it/s]"
     ]
    },
    {
     "name": "stdout",
     "output_type": "stream",
     "text": [
      "Training RMSE:  0.0 Testing RMSE:  6.343129678451092\n"
     ]
    },
    {
     "name": "stderr",
     "output_type": "stream",
     "text": [
      " 60%|█████████████████████████████████████████████████████████████████████████████████████████████████████████████████████▌                                                                              | 6/10 [00:00<00:00, 16.22it/s]"
     ]
    },
    {
     "name": "stdout",
     "output_type": "stream",
     "text": [
      "Training RMSE:  0.0 Testing RMSE:  7.77628370336976\n",
      "Training RMSE:  0.0 Testing RMSE:  7.940958602675861\n",
      "Training RMSE:  0.0 Testing RMSE:  7.129062309432054\n"
     ]
    },
    {
     "name": "stderr",
     "output_type": "stream",
     "text": [
      " 80%|████████████████████████████████████████████████████████████████████████████████████████████████████████████████████████████████████████████████████████████▊                                       | 8/10 [00:00<00:00, 16.33it/s]"
     ]
    },
    {
     "name": "stdout",
     "output_type": "stream",
     "text": [
      "Training RMSE:  0.0 Testing RMSE:  6.097251068164677\n"
     ]
    },
    {
     "name": "stderr",
     "output_type": "stream",
     "text": [
      "100%|███████████████████████████████████████████████████████████████████████████████████████████████████████████████████████████████████████████████████████████████████████████████████████████████████| 10/10 [00:00<00:00, 16.24it/s]\n"
     ]
    },
    {
     "name": "stdout",
     "output_type": "stream",
     "text": [
      "Training RMSE:  0.0 Testing RMSE:  7.638909685057848\n",
      "Training RMSE:  0.0 Testing RMSE:  11.375929179890422\n",
      "Big_mart_sales\n"
     ]
    },
    {
     "name": "stderr",
     "output_type": "stream",
     "text": [
      "  0%|                                                                                                                                                                                                            | 0/10 [00:00<?, ?it/s]"
     ]
    },
    {
     "name": "stdout",
     "output_type": "stream",
     "text": [
      "Training RMSE:  0.0 Testing RMSE:  1536.1919918707895\n"
     ]
    },
    {
     "name": "stderr",
     "output_type": "stream",
     "text": [
      " 20%|███████████████████████████████████████▏                                                                                                                                                            | 2/10 [00:00<00:00, 16.95it/s]"
     ]
    },
    {
     "name": "stdout",
     "output_type": "stream",
     "text": [
      "Training RMSE:  6.884508272412991e-16 Testing RMSE:  1515.5198692585702\n"
     ]
    },
    {
     "name": "stderr",
     "output_type": "stream",
     "text": [
      " 40%|██████████████████████████████████████████████████████████████████████████████▍                                                                                                                     | 4/10 [00:00<00:00, 16.73it/s]"
     ]
    },
    {
     "name": "stdout",
     "output_type": "stream",
     "text": [
      "Training RMSE:  5.507606617930393e-15 Testing RMSE:  1562.4145566374057\n",
      "Training RMSE:  5.507606617930393e-15 Testing RMSE:  1510.32230273317\n",
      "Training RMSE:  0.0 Testing RMSE:  1540.0026101061742\n"
     ]
    },
    {
     "name": "stderr",
     "output_type": "stream",
     "text": [
      " 60%|█████████████████████████████████████████████████████████████████████████████████████████████████████████████████████▌                                                                              | 6/10 [00:00<00:00, 16.74it/s]"
     ]
    },
    {
     "name": "stdout",
     "output_type": "stream",
     "text": [
      "Training RMSE:  0.0 Testing RMSE:  1472.6104659221035\n"
     ]
    },
    {
     "name": "stderr",
     "output_type": "stream",
     "text": [
      " 80%|████████████████████████████████████████████████████████████████████████████████████████████████████████████████████████████████████████████████████████████▊                                       | 8/10 [00:00<00:00, 16.69it/s]"
     ]
    },
    {
     "name": "stdout",
     "output_type": "stream",
     "text": [
      "Training RMSE:  0.0 Testing RMSE:  1604.8168965212565\n",
      "Training RMSE:  0.0 Testing RMSE:  1577.4479906604772\n",
      "Training RMSE:  0.0 Testing RMSE:  1596.7376601044118\n"
     ]
    },
    {
     "name": "stderr",
     "output_type": "stream",
     "text": [
      "100%|███████████████████████████████████████████████████████████████████████████████████████████████████████████████████████████████████████████████████████████████████████████████████████████████████| 10/10 [00:00<00:00, 16.65it/s]\n"
     ]
    },
    {
     "name": "stdout",
     "output_type": "stream",
     "text": [
      "Training RMSE:  0.0 Testing RMSE:  1591.9212121763674\n",
      "blogData\n"
     ]
    },
    {
     "name": "stderr",
     "output_type": "stream",
     "text": [
      " 10%|███████████████████▌                                                                                                                                                                                | 1/10 [00:02<00:19,  2.12s/it]"
     ]
    },
    {
     "name": "stdout",
     "output_type": "stream",
     "text": [
      "Training RMSE:  0.24318602531185457 Testing RMSE:  30.96575842439276\n"
     ]
    },
    {
     "name": "stderr",
     "output_type": "stream",
     "text": [
      " 20%|███████████████████████████████████████▏                                                                                                                                                            | 2/10 [00:04<00:17,  2.15s/it]"
     ]
    },
    {
     "name": "stdout",
     "output_type": "stream",
     "text": [
      "Training RMSE:  0.18490557933234353 Testing RMSE:  31.025714730763372\n"
     ]
    },
    {
     "name": "stderr",
     "output_type": "stream",
     "text": [
      " 30%|██████████████████████████████████████████████████████████▊                                                                                                                                         | 3/10 [00:06<00:14,  2.11s/it]"
     ]
    },
    {
     "name": "stdout",
     "output_type": "stream",
     "text": [
      "Training RMSE:  5.640583348304188 Testing RMSE:  29.68411406088903\n"
     ]
    },
    {
     "name": "stderr",
     "output_type": "stream",
     "text": [
      " 40%|██████████████████████████████████████████████████████████████████████████████▍                                                                                                                     | 4/10 [00:08<00:12,  2.13s/it]"
     ]
    },
    {
     "name": "stdout",
     "output_type": "stream",
     "text": [
      "Training RMSE:  5.638772378962102 Testing RMSE:  32.64269687511226\n"
     ]
    },
    {
     "name": "stderr",
     "output_type": "stream",
     "text": [
      " 50%|██████████████████████████████████████████████████████████████████████████████████████████████████                                                                                                  | 5/10 [00:10<00:10,  2.10s/it]"
     ]
    },
    {
     "name": "stdout",
     "output_type": "stream",
     "text": [
      "Training RMSE:  1.1579649493178779 Testing RMSE:  38.49498092851142\n"
     ]
    },
    {
     "name": "stderr",
     "output_type": "stream",
     "text": [
      " 60%|█████████████████████████████████████████████████████████████████████████████████████████████████████████████████████▌                                                                              | 6/10 [00:12<00:08,  2.09s/it]"
     ]
    },
    {
     "name": "stdout",
     "output_type": "stream",
     "text": [
      "Training RMSE:  0.320321308347872 Testing RMSE:  40.97197435269541\n"
     ]
    },
    {
     "name": "stderr",
     "output_type": "stream",
     "text": [
      " 70%|█████████████████████████████████████████████████████████████████████████████████████████████████████████████████████████████████████████▏                                                          | 7/10 [00:14<00:06,  2.11s/it]"
     ]
    },
    {
     "name": "stdout",
     "output_type": "stream",
     "text": [
      "Training RMSE:  0.2863517556944814 Testing RMSE:  39.271819441344086\n"
     ]
    },
    {
     "name": "stderr",
     "output_type": "stream",
     "text": [
      " 80%|████████████████████████████████████████████████████████████████████████████████████████████████████████████████████████████████████████████████████████████▊                                       | 8/10 [00:16<00:04,  2.11s/it]"
     ]
    },
    {
     "name": "stdout",
     "output_type": "stream",
     "text": [
      "Training RMSE:  1.1520696949725746 Testing RMSE:  34.99502069875843\n"
     ]
    },
    {
     "name": "stderr",
     "output_type": "stream",
     "text": [
      " 90%|████████████████████████████████████████████████████████████████████████████████████████████████████████████████████████████████████████████████████████████████████████████████▍                   | 9/10 [00:19<00:02,  2.12s/it]"
     ]
    },
    {
     "name": "stdout",
     "output_type": "stream",
     "text": [
      "Training RMSE:  0.26629741906990645 Testing RMSE:  32.2463575965453\n"
     ]
    },
    {
     "name": "stderr",
     "output_type": "stream",
     "text": [
      "100%|███████████████████████████████████████████████████████████████████████████████████████████████████████████████████████████████████████████████████████████████████████████████████████████████████| 10/10 [00:21<00:00,  2.11s/it]\n"
     ]
    },
    {
     "name": "stdout",
     "output_type": "stream",
     "text": [
      "Training RMSE:  5.749986089023457 Testing RMSE:  33.82178225971176\n",
      "communities\n"
     ]
    },
    {
     "name": "stderr",
     "output_type": "stream",
     "text": [
      "  0%|                                                                                                                                                                                                            | 0/10 [00:00<?, ?it/s]"
     ]
    },
    {
     "name": "stdout",
     "output_type": "stream",
     "text": [
      "Training RMSE:  3.561065273150723e-18 Testing RMSE:  0.1844552678006188\n",
      "Training RMSE:  1.9323314237540476e-18 Testing RMSE:  0.21115782111506123\n"
     ]
    },
    {
     "name": "stderr",
     "output_type": "stream",
     "text": [
      " 20%|███████████████████████████████████████▏                                                                                                                                                            | 2/10 [00:00<00:00, 10.78it/s]"
     ]
    },
    {
     "name": "stdout",
     "output_type": "stream",
     "text": [
      "Training RMSE:  4.5044308638743756e-18 Testing RMSE:  0.20543940997425145\n"
     ]
    },
    {
     "name": "stderr",
     "output_type": "stream",
     "text": [
      " 40%|██████████████████████████████████████████████████████████████████████████████▍                                                                                                                     | 4/10 [00:00<00:00, 10.90it/s]"
     ]
    },
    {
     "name": "stdout",
     "output_type": "stream",
     "text": [
      "Training RMSE:  4.1847477622658e-18 Testing RMSE:  0.2051078515543244\n",
      "Training RMSE:  1.772033625582929e-18 Testing RMSE:  0.21568898704021672\n"
     ]
    },
    {
     "name": "stderr",
     "output_type": "stream",
     "text": [
      " 60%|█████████████████████████████████████████████████████████████████████████████████████████████████████████████████████▌                                                                              | 6/10 [00:00<00:00, 11.06it/s]"
     ]
    },
    {
     "name": "stdout",
     "output_type": "stream",
     "text": [
      "Training RMSE:  1.0425731579526837e-18 Testing RMSE:  0.20128599929380506\n"
     ]
    },
    {
     "name": "stderr",
     "output_type": "stream",
     "text": [
      " 80%|████████████████████████████████████████████████████████████████████████████████████████████████████████████████████████████████████████████████████████████▊                                       | 8/10 [00:00<00:00, 11.11it/s]"
     ]
    },
    {
     "name": "stdout",
     "output_type": "stream",
     "text": [
      "Training RMSE:  6.322652040131541e-18 Testing RMSE:  0.20426473084592583\n",
      "Training RMSE:  1.6238477478834345e-18 Testing RMSE:  0.22229797111054841\n",
      "Training RMSE:  2.691912318635746e-18 Testing RMSE:  0.20946819108619588\n"
     ]
    },
    {
     "name": "stderr",
     "output_type": "stream",
     "text": [
      "100%|███████████████████████████████████████████████████████████████████████████████████████████████████████████████████████████████████████████████████████████████████████████████████████████████████| 10/10 [00:00<00:00, 11.02it/s]\n"
     ]
    },
    {
     "name": "stdout",
     "output_type": "stream",
     "text": [
      "Training RMSE:  3.829344490573879e-18 Testing RMSE:  0.21612968360171925\n",
      "dengue_features\n"
     ]
    },
    {
     "name": "stderr",
     "output_type": "stream",
     "text": [
      "  0%|                                                                                                                                                                                                            | 0/10 [00:00<?, ?it/s]"
     ]
    },
    {
     "name": "stdout",
     "output_type": "stream",
     "text": [
      "Training RMSE:  0.0 Testing RMSE:  55.69043596107187\n",
      "Training RMSE:  1.198748870499834 Testing RMSE:  51.50681561497003\n",
      "Training RMSE:  0.4786387724118254 Testing RMSE:  47.378250602327924\n"
     ]
    },
    {
     "name": "stderr",
     "output_type": "stream",
     "text": [
      " 40%|██████████████████████████████████████████████████████████████████████████████▍                                                                                                                     | 4/10 [00:00<00:00, 32.79it/s]"
     ]
    },
    {
     "name": "stdout",
     "output_type": "stream",
     "text": [
      "Training RMSE:  0.5248683902019808 Testing RMSE:  62.60177102255029\n",
      "Training RMSE:  1.1726649924089723 Testing RMSE:  43.6380138836286\n",
      "Training RMSE:  0.6940262199971469 Testing RMSE:  49.795976437925106\n",
      "Training RMSE:  1.198748870499834 Testing RMSE:  43.73294840570102\n"
     ]
    },
    {
     "name": "stderr",
     "output_type": "stream",
     "text": [
      "100%|███████████████████████████████████████████████████████████████████████████████████████████████████████████████████████████████████████████████████████████████████████████████████████████████████| 10/10 [00:00<00:00, 32.35it/s]\n"
     ]
    },
    {
     "name": "stdout",
     "output_type": "stream",
     "text": [
      "Training RMSE:  0.7266802230836117 Testing RMSE:  57.64187381095757\n",
      "Training RMSE:  0.5248683902019808 Testing RMSE:  59.57455710184742\n",
      "Training RMSE:  1.1792400527234936 Testing RMSE:  44.866672094553465\n",
      "ECG0_p02\n"
     ]
    },
    {
     "name": "stderr",
     "output_type": "stream",
     "text": [
      " 10%|███████████████████▌                                                                                                                                                                                | 1/10 [00:12<01:54, 12.75s/it]"
     ]
    },
    {
     "name": "stdout",
     "output_type": "stream",
     "text": [
      "Training RMSE:  8.065945458098587e-18 Testing RMSE:  0.07537105884011401\n"
     ]
    },
    {
     "name": "stderr",
     "output_type": "stream",
     "text": [
      " 20%|███████████████████████████████████████▏                                                                                                                                                            | 2/10 [00:25<01:42, 12.80s/it]"
     ]
    },
    {
     "name": "stdout",
     "output_type": "stream",
     "text": [
      "Training RMSE:  7.614459683763141e-18 Testing RMSE:  0.07082834487506524\n"
     ]
    },
    {
     "name": "stderr",
     "output_type": "stream",
     "text": [
      " 30%|██████████████████████████████████████████████████████████▊                                                                                                                                         | 3/10 [00:38<01:29, 12.78s/it]"
     ]
    },
    {
     "name": "stdout",
     "output_type": "stream",
     "text": [
      "Training RMSE:  7.785688951778213e-18 Testing RMSE:  0.06942978956552436\n"
     ]
    },
    {
     "name": "stderr",
     "output_type": "stream",
     "text": [
      " 40%|██████████████████████████████████████████████████████████████████████████████▍                                                                                                                     | 4/10 [00:51<01:16, 12.79s/it]"
     ]
    },
    {
     "name": "stdout",
     "output_type": "stream",
     "text": [
      "Training RMSE:  8.308604111756627e-18 Testing RMSE:  0.07002271688099242\n"
     ]
    },
    {
     "name": "stderr",
     "output_type": "stream",
     "text": [
      " 50%|██████████████████████████████████████████████████████████████████████████████████████████████████                                                                                                  | 5/10 [01:03<01:03, 12.73s/it]"
     ]
    },
    {
     "name": "stdout",
     "output_type": "stream",
     "text": [
      "Training RMSE:  7.59814923629479e-18 Testing RMSE:  0.06704893393096878\n"
     ]
    },
    {
     "name": "stderr",
     "output_type": "stream",
     "text": [
      " 60%|█████████████████████████████████████████████████████████████████████████████████████████████████████████████████████▌                                                                              | 6/10 [01:16<00:50, 12.66s/it]"
     ]
    },
    {
     "name": "stdout",
     "output_type": "stream",
     "text": [
      "Training RMSE:  8.210311589217301e-18 Testing RMSE:  0.06920298947965582\n"
     ]
    },
    {
     "name": "stderr",
     "output_type": "stream",
     "text": [
      " 70%|█████████████████████████████████████████████████████████████████████████████████████████████████████████████████████████████████████████▏                                                          | 7/10 [01:29<00:38, 12.79s/it]"
     ]
    },
    {
     "name": "stdout",
     "output_type": "stream",
     "text": [
      "Training RMSE:  7.941367700745811e-18 Testing RMSE:  0.0724833765949291\n"
     ]
    },
    {
     "name": "stderr",
     "output_type": "stream",
     "text": [
      " 80%|████████████████████████████████████████████████████████████████████████████████████████████████████████████████████████████████████████████████████████████▊                                       | 8/10 [01:42<00:25, 12.89s/it]"
     ]
    },
    {
     "name": "stdout",
     "output_type": "stream",
     "text": [
      "Training RMSE:  7.971001939762396e-18 Testing RMSE:  0.07155966110188157\n"
     ]
    },
    {
     "name": "stderr",
     "output_type": "stream",
     "text": [
      " 90%|████████████████████████████████████████████████████████████████████████████████████████████████████████████████████████████████████████████████████████████████████████████████▍                   | 9/10 [01:55<00:12, 12.88s/it]"
     ]
    },
    {
     "name": "stdout",
     "output_type": "stream",
     "text": [
      "Training RMSE:  7.658069154032833e-18 Testing RMSE:  0.06937930890986191\n"
     ]
    },
    {
     "name": "stderr",
     "output_type": "stream",
     "text": [
      "100%|███████████████████████████████████████████████████████████████████████████████████████████████████████████████████████████████████████████████████████████████████████████████████████████████████| 10/10 [02:08<00:00, 12.81s/it]\n"
     ]
    },
    {
     "name": "stdout",
     "output_type": "stream",
     "text": [
      "Training RMSE:  7.599731279372253e-18 Testing RMSE:  0.07172946801993556\n",
      "ENERGY_DATA_COMPLETE\n"
     ]
    },
    {
     "name": "stderr",
     "output_type": "stream",
     "text": [
      " 10%|███████████████████▌                                                                                                                                                                                | 1/10 [00:00<00:03,  2.75it/s]"
     ]
    },
    {
     "name": "stdout",
     "output_type": "stream",
     "text": [
      "Training RMSE:  0.0 Testing RMSE:  105.68970660892214\n"
     ]
    },
    {
     "name": "stderr",
     "output_type": "stream",
     "text": [
      " 20%|███████████████████████████████████████▏                                                                                                                                                            | 2/10 [00:00<00:02,  2.77it/s]"
     ]
    },
    {
     "name": "stdout",
     "output_type": "stream",
     "text": [
      "Training RMSE:  0.0 Testing RMSE:  94.36522493554553\n"
     ]
    },
    {
     "name": "stderr",
     "output_type": "stream",
     "text": [
      " 30%|██████████████████████████████████████████████████████████▊                                                                                                                                         | 3/10 [00:01<00:02,  2.77it/s]"
     ]
    },
    {
     "name": "stdout",
     "output_type": "stream",
     "text": [
      "Training RMSE:  0.0 Testing RMSE:  98.97055395666784\n"
     ]
    },
    {
     "name": "stderr",
     "output_type": "stream",
     "text": [
      " 40%|██████████████████████████████████████████████████████████████████████████████▍                                                                                                                     | 4/10 [00:01<00:02,  2.70it/s]"
     ]
    },
    {
     "name": "stdout",
     "output_type": "stream",
     "text": [
      "Training RMSE:  0.0 Testing RMSE:  101.15192662214514\n"
     ]
    },
    {
     "name": "stderr",
     "output_type": "stream",
     "text": [
      " 50%|██████████████████████████████████████████████████████████████████████████████████████████████████                                                                                                  | 5/10 [00:01<00:01,  2.72it/s]"
     ]
    },
    {
     "name": "stdout",
     "output_type": "stream",
     "text": [
      "Training RMSE:  0.0 Testing RMSE:  102.5082265378565\n"
     ]
    },
    {
     "name": "stderr",
     "output_type": "stream",
     "text": [
      " 60%|█████████████████████████████████████████████████████████████████████████████████████████████████████████████████████▌                                                                              | 6/10 [00:02<00:01,  2.81it/s]"
     ]
    },
    {
     "name": "stdout",
     "output_type": "stream",
     "text": [
      "Training RMSE:  0.0 Testing RMSE:  103.1049540196663\n"
     ]
    },
    {
     "name": "stderr",
     "output_type": "stream",
     "text": [
      " 70%|█████████████████████████████████████████████████████████████████████████████████████████████████████████████████████████████████████████▏                                                          | 7/10 [00:02<00:01,  2.83it/s]"
     ]
    },
    {
     "name": "stdout",
     "output_type": "stream",
     "text": [
      "Training RMSE:  0.0 Testing RMSE:  95.11027389973887\n"
     ]
    },
    {
     "name": "stderr",
     "output_type": "stream",
     "text": [
      " 80%|████████████████████████████████████████████████████████████████████████████████████████████████████████████████████████████████████████████████████████████▊                                       | 8/10 [00:02<00:00,  2.79it/s]"
     ]
    },
    {
     "name": "stdout",
     "output_type": "stream",
     "text": [
      "Training RMSE:  0.0 Testing RMSE:  98.28949102488235\n"
     ]
    },
    {
     "name": "stderr",
     "output_type": "stream",
     "text": [
      " 90%|████████████████████████████████████████████████████████████████████████████████████████████████████████████████████████████████████████████████████████████████████████████████▍                   | 9/10 [00:03<00:00,  2.78it/s]"
     ]
    },
    {
     "name": "stdout",
     "output_type": "stream",
     "text": [
      "Training RMSE:  0.0 Testing RMSE:  97.91873340637194\n"
     ]
    },
    {
     "name": "stderr",
     "output_type": "stream",
     "text": [
      "100%|███████████████████████████████████████████████████████████████████████████████████████████████████████████████████████████████████████████████████████████████████████████████████████████████████| 10/10 [00:03<00:00,  2.77it/s]"
     ]
    },
    {
     "name": "stdout",
     "output_type": "stream",
     "text": [
      "Training RMSE:  0.0 Testing RMSE:  104.0592860918815\n"
     ]
    },
    {
     "name": "stderr",
     "output_type": "stream",
     "text": [
      "\n"
     ]
    }
   ],
   "source": [
    "# For default DT\n",
    "\n",
    "for index, dataset in enumerate(datasets):\n",
    "    df = pd.DataFrame()\n",
    "    print(dataset)\n",
    "    for seed in tqdm(seeds):\n",
    "        csv_path_train = os.path.join(data_dir, dataset, \"Train\", dataset + '_seed_' + str(seed) + '_train.csv')\n",
    "        csv_path_validation = os.path.join(data_dir, dataset, \"Train\", dataset + '_seed_' + str(seed) + '_validation.csv')\n",
    "        csv_path_test = os.path.join(data_dir, dataset, \"Test\", dataset + '_Test_seed' + str(seed) + '_modified.csv')\n",
    "        df_test = pd.read_csv(csv_path_test)\n",
    "        \n",
    "        # print(csv_path_train, csv_path_test)\n",
    "        \n",
    "        X_test = df_test.drop(x_column_drop[dataset], axis = 1)\n",
    "        y_test = df_test[target_column[dataset]]\n",
    "        \n",
    "        details = {\n",
    "            'dataset': dataset,\n",
    "            'seed': str(seed)\n",
    "        }\n",
    "        \n",
    "        # For DT\n",
    "        model_DT = DT_pred_default(csv_path_train, csv_path_validation, x_column_drop[dataset], target_column[dataset], details)\n",
    "        \n",
    "        importances = model_DT.feature_importances_\n",
    "        indices = np.argsort(importances)[::-1]\n",
    "        top_k = 10\n",
    "        top_indices = indices[:top_k]\n",
    "        details['best_feature_list'] = np.array(X_test.columns)[indices][0:top_k]\n",
    "        \n",
    "        y_pred = model_DT.predict(X_test)\n",
    "        validation_rmse = mean_squared_error(y_test, y_pred, squared=False)\n",
    "        details['validation_rmse'] = validation_rmse\n",
    "        \n",
    "        df = df.append(details, ignore_index=True)\n",
    "        filepath = Path(dataset + '_DT_default.csv')\n",
    "        filepath.parent.mkdir(parents=True, exist_ok=True)\n",
    "        df.to_csv(filepath, index=False)"
   ]
  }
 ],
 "metadata": {
  "kernelspec": {
   "display_name": "Python 3 (ipykernel)",
   "language": "python",
   "name": "python3"
  },
  "language_info": {
   "codemirror_mode": {
    "name": "ipython",
    "version": 3
   },
   "file_extension": ".py",
   "mimetype": "text/x-python",
   "name": "python",
   "nbconvert_exporter": "python",
   "pygments_lexer": "ipython3",
   "version": "3.8.10"
  }
 },
 "nbformat": 4,
 "nbformat_minor": 5
}
