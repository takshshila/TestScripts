{
 "cells": [
  {
   "cell_type": "code",
   "execution_count": 2,
   "id": "bf44d867-c1a2-4c6f-92b3-c4e4e761be91",
   "metadata": {},
   "outputs": [],
   "source": [
    "import pandas as pd\n",
    "from tqdm import tqdm\n",
    "import os\n",
    "import numpy as np\n",
    "import matplotlib.pyplot as plt\n",
    "import itertools\n",
    "from pathlib import Path\n",
    "\n",
    "from sklearn.model_selection import train_test_split\n",
    "from sklearn.model_selection import KFold\n",
    "from sklearn.model_selection import GridSearchCV\n",
    "from sklearn.model_selection import RandomizedSearchCV\n",
    "from sklearn.model_selection import cross_val_score\n",
    "from sklearn.preprocessing import LabelEncoder, OrdinalEncoder\n",
    "\n",
    "from sklearn.tree import DecisionTreeRegressor, DecisionTreeClassifier\n",
    "from sklearn.ensemble import RandomForestRegressor, RandomForestClassifier\n",
    "# import lightgbm as lgb\n",
    "\n",
    "from sklearn.metrics import (precision_score, recall_score, roc_auc_score, accuracy_score, mean_squared_error,\n",
    "                             confusion_matrix, precision_recall_curve, roc_curve, brier_score_loss)"
   ]
  },
  {
   "cell_type": "code",
   "execution_count": 1,
   "id": "da6731e2-8d95-4c8d-9000-1a823e3ed335",
   "metadata": {},
   "outputs": [
    {
     "ename": "NameError",
     "evalue": "name 'tqdm' is not defined",
     "output_type": "error",
     "traceback": [
      "\u001b[0;31m---------------------------------------------------------------------------\u001b[0m",
      "\u001b[0;31mNameError\u001b[0m                                 Traceback (most recent call last)",
      "\u001b[0;32m/tmp/ipykernel_5695/1124229071.py\u001b[0m in \u001b[0;36m<module>\u001b[0;34m\u001b[0m\n\u001b[1;32m     28\u001b[0m \u001b[0mseeds\u001b[0m \u001b[0;34m=\u001b[0m \u001b[0;34m[\u001b[0m\u001b[0;36m1\u001b[0m\u001b[0;34m,\u001b[0m \u001b[0;36m2\u001b[0m\u001b[0;34m,\u001b[0m \u001b[0;36m3\u001b[0m\u001b[0;34m,\u001b[0m \u001b[0;36m4\u001b[0m\u001b[0;34m,\u001b[0m \u001b[0;36m5\u001b[0m\u001b[0;34m,\u001b[0m \u001b[0;36m6\u001b[0m\u001b[0;34m,\u001b[0m \u001b[0;36m7\u001b[0m\u001b[0;34m,\u001b[0m \u001b[0;36m8\u001b[0m\u001b[0;34m,\u001b[0m \u001b[0;36m9\u001b[0m\u001b[0;34m,\u001b[0m \u001b[0;36m10\u001b[0m\u001b[0;34m]\u001b[0m\u001b[0;34m\u001b[0m\u001b[0;34m\u001b[0m\u001b[0m\n\u001b[1;32m     29\u001b[0m \u001b[0;32mfor\u001b[0m \u001b[0mi\u001b[0m \u001b[0;32min\u001b[0m \u001b[0mrange\u001b[0m\u001b[0;34m(\u001b[0m\u001b[0mlen\u001b[0m\u001b[0;34m(\u001b[0m\u001b[0mdatasets\u001b[0m\u001b[0;34m)\u001b[0m\u001b[0;34m)\u001b[0m\u001b[0;34m:\u001b[0m\u001b[0;34m\u001b[0m\u001b[0;34m\u001b[0m\u001b[0m\n\u001b[0;32m---> 30\u001b[0;31m     \u001b[0;32mfor\u001b[0m \u001b[0mseed\u001b[0m \u001b[0;32min\u001b[0m \u001b[0mtqdm\u001b[0m\u001b[0;34m(\u001b[0m\u001b[0mseeds\u001b[0m\u001b[0;34m)\u001b[0m\u001b[0;34m:\u001b[0m\u001b[0;34m\u001b[0m\u001b[0;34m\u001b[0m\u001b[0m\n\u001b[0m\u001b[1;32m     31\u001b[0m         \u001b[0mdataset\u001b[0m \u001b[0;34m=\u001b[0m \u001b[0mdatasets\u001b[0m\u001b[0;34m[\u001b[0m\u001b[0mi\u001b[0m\u001b[0;34m]\u001b[0m\u001b[0;34m\u001b[0m\u001b[0;34m\u001b[0m\u001b[0m\n\u001b[1;32m     32\u001b[0m         \u001b[0mshort\u001b[0m \u001b[0;34m=\u001b[0m \u001b[0mshorts\u001b[0m\u001b[0;34m[\u001b[0m\u001b[0mi\u001b[0m\u001b[0;34m]\u001b[0m\u001b[0;34m\u001b[0m\u001b[0;34m\u001b[0m\u001b[0m\n",
      "\u001b[0;31mNameError\u001b[0m: name 'tqdm' is not defined"
     ]
    }
   ],
   "source": [
    "def process_bin_clas(df_train, df_test):\n",
    "    df_total = pd.concat([df_train, df_test], axis=0)\n",
    "    tar = df_total.iloc[:, -1]\n",
    "    df_total = df_total.iloc[:, :-1]\n",
    "    cat = df_total.select_dtypes(include=['object']).columns.to_list()\n",
    "    df_total = pd.get_dummies(df_total, cat)\n",
    "    df_total = pd.concat([df_total, tar], axis=1)\n",
    "    df_train = df_total.iloc[:df_train.shape[0],:]\n",
    "    df_test = df_total.iloc[df_train.shape[0]:,:]\n",
    "    \n",
    "    return df_train, df_test\n",
    "\n",
    "def get_missing():\n",
    "    missingValueColumns = datafrm.columns[datafrm.isnull().any()].tolist()\n",
    "    percent_missing = datafrm[missingValueColumns].isnull().sum()\n",
    "    print(\"Missing value count columnwise:\")\n",
    "    print(percent_missing)\n",
    "\n",
    "\n",
    "data_dir =\"/home/asim/Desktop/Takshshila/IOT/TestScripts/DATASETS_CLASSIFICATION/BINARY_PROBLEMS\"\n",
    "\n",
    "\n",
    "datasets = [\"Adult\", \"Breast Cancer\", \"Credit Screening\", \"Ionosphere\", \"Liver Disorder\", \"Pima Indian\", \"Sonar\"]\n",
    "shorts = [\"AD\", \"BC\", \"CR\", \"IO\", \"LD\", \"PI\", \"SN\"]\n",
    "seps = [\",\", \"\\t\", \"\\t\", \"\\t\", \"\\t\", \"\\t\", \",\"]\n",
    "header = [False, False, False, False, False, False, False]\n",
    "\n",
    "seeds = [1, 2, 3, 4, 5, 6, 7, 8, 9, 10]\n",
    "for i in range(len(datasets)):\n",
    "    for seed in tqdm(seeds):\n",
    "        dataset = datasets[i]\n",
    "        short = shorts[i]\n",
    "        \n",
    "        csv_path_train = os.path.join(data_dir, dataset, short + 'Train' + str(seed) + 'N.txt')\n",
    "        csv_path_test = os.path.join(data_dir, dataset, short + 'Test' + str(seed) + 'N.txt')\n",
    "        if header[i]:\n",
    "            df_train = pd.read_csv(csv_path_train, sep = seps[i])\n",
    "            df_test = pd.read_csv(csv_path_test, sep = seps[i])\n",
    "        else:\n",
    "            df_train = pd.read_csv(csv_path_train, sep = seps[i], header=None)\n",
    "            df_test = pd.read_csv(csv_path_test, sep = seps[i], header=None)\n",
    "\n",
    "        df_train, df_test = process_bin_clas(df_train, df_test)\n",
    "        \n",
    "        train_part_k = df_train.sample(frac=0.8)\n",
    "        train_part_rest = df_train.drop(train_part_k.index)\n",
    "        \n",
    "        train_part_k.to_csv(os.path.join(data_dir, dataset, short + 'Train' + str(seed) + 'N_mod.txt'), index=False)\n",
    "        train_part_rest.to_csv(os.path.join(data_dir, dataset, short + 'Val' + str(seed) + 'N_mod.txt'), index=False)\n",
    "        df_test.to_csv(os.path.join(data_dir, dataset, short + 'Test' + str(seed) + 'N_mod.txt'), index=False)\n",
    "    "
   ]
  },
  {
   "cell_type": "code",
   "execution_count": 2,
   "id": "0e64b6bd-5b8f-41f7-abe0-382b379d13d7",
   "metadata": {},
   "outputs": [],
   "source": [
    "def DT_pred(X, y, details=None):\n",
    "    \n",
    "    # Build models with hyperparameters sets\n",
    "    RSC = RandomizedSearchCV(\n",
    "        estimator=DecisionTreeClassifier(),\n",
    "        param_distributions={\n",
    "            'criterion': ['gini', 'entropy'],\n",
    "            'max_depth': range(1, 100, 10),\n",
    "            'max_features': ['auto', 'sqrt', 'log2']}, \n",
    "        cv=5, n_jobs=-1, verbose = True)\n",
    "    \n",
    "    # Fit RandomizedSearchCV to find best hyperparameters\n",
    "    search_result = RSC.fit(X, y)\n",
    "#     print(\"Best using: \", search_result.best_params_, \"Score: \", search_result.best_score_)\n",
    "    if details:\n",
    "        for key in search_result.best_params_:\n",
    "            details[key] = search_result.best_params_[key]\n",
    "        details[\"score\"] = search_result.best_score_\n",
    "\n",
    "    # Build models with optimized hyperparameters\n",
    "    model_DT = DecisionTreeClassifier(\n",
    "        criterion=search_result.best_params_[\"criterion\"],\n",
    "        max_depth=search_result.best_params_[\"max_depth\"],\n",
    "        max_features=search_result.best_params_[\"max_features\"])\n",
    "\n",
    "    # Split dataset into 5 consecutive folds\n",
    "    kf = KFold(n_splits=5, shuffle=True, random_state=None)\n",
    "    \n",
    "    i = 1\n",
    "    for train, test in kf.split(X):\n",
    "        X_train = X.iloc[train,:]\n",
    "        y_train = y.iloc[train]\n",
    "        X_test = X.iloc[test]\n",
    "        y_test = y.iloc[test]\n",
    "        model_DT.fit(X_train, y_train)\n",
    "        train_pred = model_DT.predict(X_train)\n",
    "        y_pred = model_DT.predict(X_test)\n",
    "        \n",
    "        train_accuracy = accuracy_score(y_train, train_pred)\n",
    "        train_precision = precision_score(y_train, train_pred)\n",
    "        train_recall = recall_score(y_train, train_pred)\n",
    "        train_auc = roc_auc_score(y_train, train_pred)\n",
    "        \n",
    "        test_accuracy = accuracy_score(y_test, y_pred)\n",
    "        test_precision = precision_score(y_test, y_pred)\n",
    "        test_recall = recall_score(y_test, y_pred)\n",
    "        test_auc = roc_auc_score(y_test, y_pred)        \n",
    "        \n",
    "#         print('Fold '+ str(i), ':  Training accuracy: ', train_accuracy, 'Testing accuracy: ', test_accuracy)\n",
    "#         print('Fold '+ str(i), ':  Training precision: ', train_precision, 'Testing precision: ', test_precision)\n",
    "#         print('Fold '+ str(i), ':  Training recall: ', train_recall, 'Testing accuracy: ', test_recall)\n",
    "#         print('Fold '+ str(i), ':  Training auc: ', train_auc, 'Testing auc: ', test_auc)\n",
    "        \n",
    "        if details:\n",
    "            details['Fold '+ str(i) + \"Train\" + \"_accuracy\"] = train_accuracy\n",
    "            details['Fold '+ str(i) + \"Train\" + \"_accuracy\"] = train_precision\n",
    "            details['Fold '+ str(i) + \"Train\" + \"_accuracy\"] = train_recall\n",
    "            details['Fold '+ str(i) + \"Train\" + \"_accuracy\"] = train_auc\n",
    "            \n",
    "            details['Fold '+ str(i) + \"Val\" + \"_accuracy\"] = test_accuracy\n",
    "            details['Fold '+ str(i) + \"Val\" + \"_accuracy\"] = test_precision\n",
    "            details['Fold '+ str(i) + \"Val\" + \"_accuracy\"] = test_recall\n",
    "            details['Fold '+ str(i) + \"Val\" + \"_accuracy\"] = test_auc\n",
    "\n",
    "        i += 1\n",
    "        \n",
    "    return model_DT"
   ]
  },
  {
   "cell_type": "code",
   "execution_count": 23,
   "id": "ba7c6c81-3d32-49c0-b1f4-6c478846dad1",
   "metadata": {},
   "outputs": [],
   "source": [
    "def RF_pred(X, y, details=None):\n",
    "    \n",
    "    # Build models with hyperparameters sets\n",
    "    RSC = RandomizedSearchCV(\n",
    "        estimator=RandomForestClassifier(),\n",
    "        param_distributions={\n",
    "            'n_estimators': range(1, 200, 10),\n",
    "            'max_depth': range(1, 100, 10),\n",
    "            'max_features': ['auto', 'sqrt', 'log2']}, cv=5, scoring=\"accuracy\", n_jobs=-1)\n",
    "    \n",
    "    # Fit RandomizedSearchCV to find best hyperparameters\n",
    "    search_result = RSC.fit(X, y.values.ravel())\n",
    "#     print(\"Best using: \", search_result.best_params_, \"Score: \", search_result.best_score_)\n",
    "    if details:\n",
    "        for key in search_result.best_params_:\n",
    "            details[key] = search_result.best_params_[key]\n",
    "        details[\"score\"] = search_result.best_score_\n",
    "\n",
    "    # Build models with optimized hyperparameters\n",
    "    model_RF = RandomForestClassifier(\n",
    "        n_estimators=search_result.best_params_[\"n_estimators\"],\n",
    "        max_depth=search_result.best_params_[\"max_depth\"],\n",
    "        max_features=search_result.best_params_[\"max_features\"])\n",
    "    \n",
    "\n",
    "    # Split dataset into 5 consecutive folds\n",
    "    kf = KFold(n_splits=5, shuffle=True, random_state=None)\n",
    "    \n",
    "    i = 1\n",
    "    for train, test in kf.split(X):\n",
    "        X_train = X.iloc[train,:]\n",
    "        y_train = y.iloc[train]\n",
    "        X_test = X.iloc[test]\n",
    "        y_test = y.iloc[test]\n",
    "        model_RF.fit(X_train, y_train.values.ravel())\n",
    "        train_pred = model_RF.predict(X_train)\n",
    "        y_pred = model_RF.predict(X_test)\n",
    "        \n",
    "        train_accuracy = accuracy_score(y_train, train_pred)\n",
    "#         train_precision = precision_score(y_train, train_pred)\n",
    "#         train_recall = recall_score(y_train, train_pred)\n",
    "#         train_auc = roc_auc_score(y_train, train_pred)\n",
    "        \n",
    "        test_accuracy = accuracy_score(y_test, y_pred)\n",
    "#         test_precision = precision_score(y_test, y_pred)\n",
    "#         test_recall = recall_score(y_test, y_pred)\n",
    "#         test_auc = roc_auc_score(y_test, y_pred)\n",
    "        \n",
    "#         print('Fold '+ str(i), ':  Training accuracy: ', train_accuracy, 'Testing accuracy: ', test_accuracy)\n",
    "#         print('Fold '+ str(i), ':  Training precision: ', train_precision, 'Testing precision: ', test_precision)\n",
    "#         print('Fold '+ str(i), ':  Training recall: ', train_recall, 'Testing accuracy: ', test_recall)\n",
    "#         print('Fold '+ str(i), ':  Training auc: ', train_auc, 'Testing auc: ', test_auc)\n",
    "        \n",
    "        if details:\n",
    "            details['Fold '+ str(i) + \"Train\" + \"_accuracy\"] = train_accuracy\n",
    "#             details['Fold '+ str(i) + \"Train\" + \"_precision\"] = train_precision\n",
    "#             details['Fold '+ str(i) + \"Train\" + \"_recall\"] = train_recall\n",
    "#             details['Fold '+ str(i) + \"Train\" + \"_auc\"] = train_auc\n",
    "            \n",
    "            details['Fold '+ str(i) + \"Val\" + \"_accuracy\"] = test_accuracy\n",
    "#             details['Fold '+ str(i) + \"Val\" + \"_precision\"] = test_precision\n",
    "#             details['Fold '+ str(i) + \"Val\" + \"_recall\"] = test_recall\n",
    "#             details['Fold '+ str(i) + \"Val\" + \"_auc\"] = test_auc\n",
    "        i += 1\n",
    "\n",
    "    return model_RF"
   ]
  },
  {
   "cell_type": "code",
   "execution_count": 4,
   "id": "81dddda9",
   "metadata": {},
   "outputs": [],
   "source": [
    "def plot_performance(y_test, y_pred, y_pred_prob):\n",
    "\n",
    "\n",
    "    test_fpr, test_tpr, _ = roc_curve(y_test, y_pred_prob)\n",
    "    precision, recall, _ = precision_recall_curve(y_test, y_pred)\n",
    "    \n",
    "    # ROC Curve\n",
    "    fig = plt.figure(1, figsize=(10,5))\n",
    "    plt.subplot(1, 2, 1)\n",
    "    plt.plot(test_fpr, test_tpr, label=\"ROC (area = %0.4f)\" % roc_auc_score(y_test, y_pred), color=\"blue\", lw=2)\n",
    "    plt.plot([0, 1], [0, 1], \"k--\")\n",
    "    plt.legend(loc=\"lower right\")\n",
    "    plt.xlabel(\"False Positive Rate\")\n",
    "    plt.ylabel(\"True Positive Rate\")\n",
    "    plt.title(\"ROC Curve\")\n",
    "    \n",
    "    \n",
    "    # Precision Recall Curve\n",
    "    plt.subplot(1, 2, 2)\n",
    "    plt.plot(recall, precision, marker='.', color=\"blue\", lw=2)\n",
    "    plt.xlabel('Recall')\n",
    "    plt.ylabel('Precision')\n",
    "    plt.title(\"Precision Recall Curve\")\n",
    "    \n",
    "    \n",
    "    plt.tight_layout()\n",
    "    plt.show()"
   ]
  },
  {
   "cell_type": "code",
   "execution_count": 5,
   "id": "7e9d02f2",
   "metadata": {},
   "outputs": [],
   "source": [
    "def plot_confusion(y_test, y_pred):   \n",
    "    \n",
    "    cm = confusion_matrix(y_test, y_pred)\n",
    "    \n",
    "    # Confusion Matrix\n",
    "    fig = plt.figure(figsize=(10,10))\n",
    "    ax =  fig.add_subplot(1,1,1, adjustable='box', aspect=1)\n",
    "    plt.imshow(cm, interpolation='nearest', cmap=plt.cm.Blues)\n",
    "    plt.colorbar()\n",
    "\n",
    "    thresh = cm.max() / 2.\n",
    "    for i, j in itertools.product(range(cm.shape[0]), range(cm.shape[1])):\n",
    "        plt.text(j, i, format(cm[i, j], 'd'),\n",
    "                 horizontalalignment=\"center\",\n",
    "                 color=\"white\" if cm[i, j] > thresh else \"black\")\n",
    "\n",
    "    plt.ylabel('True label')\n",
    "    plt.xlabel('Predicted label')\n",
    "\n",
    "    np.set_printoptions(precision=2)\n",
    "    plt.show()"
   ]
  },
  {
   "cell_type": "code",
   "execution_count": null,
   "id": "ee0d2535-8e67-4d5d-a3b8-e814bf6b17cc",
   "metadata": {},
   "outputs": [],
   "source": [
    "data_dir =\\\n",
    "    r\"C:\\Users\\arpit\\workspace\\setup-stuff\\gateway_and_dataset\\Classification\\DATASETS_CLASSIFICATION\\BINARY_PROBLEMS\"\n",
    "\n",
    "\n",
    "\n",
    "datasets = [\"Adult\", \"Breast Cancer\", \"Credit Screening\", \"Ionosphere\", \"Liver Disorder\", \"Pima Indian\", \"Sonar\"]\n",
    "shorts = [\"AD\", \"BC\", \"CR\", \"IO\", \"LD\", \"PI\", \"SN\"]\n",
    "seeds = [1, 2, 3, 4, 5, 6, 7, 8, 9, 10]\n",
    "for i in range(len(datasets)):\n",
    "    df = pd.DataFrame()\n",
    "    for seed in tqdm(seeds):\n",
    "        dataset = datasets[i]\n",
    "        short = shorts[i]\n",
    "#         print(dataset, short)\n",
    "        csv_path_train = os.path.join(data_dir, dataset, short + 'Train' + str(seed) + 'N_mod.txt')\n",
    "        csv_path_val = os.path.join(data_dir, dataset, short + 'Val' + str(seed) + 'N_mod.txt')\n",
    "        csv_path_test = os.path.join(data_dir, dataset, short + 'Test' + str(seed) + 'N_mod.txt')\n",
    "        df_train = pd.read_csv(csv_path_train)\n",
    "        df_val = pd.read_csv(csv_path_val)\n",
    "        df_train = pd.concat([df_train, df_val], axis=0)\n",
    "        df_test = pd.read_csv(csv_path_test)\n",
    "        X = df_train.iloc[:, :-1]\n",
    "        y = df_train.iloc[:, -1]\n",
    "        X_test = df_test.iloc[:, :-1]\n",
    "        y_test = df_test.iloc[:, -1]\n",
    "        label_encoder = LabelEncoder()\n",
    "        label_encoder.fit(pd.concat([y, y_test], axis=0))\n",
    "        y = pd.DataFrame(label_encoder.transform(y))\n",
    "        y_test = pd.DataFrame(label_encoder.transform(y_test))\n",
    "\n",
    "        details = {'dataset': dataset, 'seed': seed}\n",
    "\n",
    "#         model_DT = DT_pred(X, y.ravel())\n",
    "\n",
    "        model_RF = RF_pred(X, y, details)\n",
    "        importances = model_RF.feature_importances_\n",
    "        indices = np.argsort(importances)[::-1]\n",
    "        top_k = 10\n",
    "        top_indices = indices[:top_k]\n",
    "        details['best_feature_list'] = np.array(X.columns)[indices][0:top_k]\n",
    "\n",
    "#         print(\"Feature_importance: \\n\")\n",
    "#         print(np.array(X.columns)[indices][0:top_k])\n",
    "#         print(importances[top_indices])\n",
    "        # Random Forest performance\n",
    "        y_pred = model_RF.predict(X_test)\n",
    "        y_pred_prob = model_RF.predict_proba(X_test)\n",
    "        y_pred_prob = y_pred_prob[:, 1]\n",
    "\n",
    "#         plot_performance(y_test, y_pred, y_pred_prob)\n",
    "#         plot_confusion(y_test, y_pred)\n",
    "        \n",
    "        test_accuracy = accuracy_score(y_test, y_pred)\n",
    "#         test_precision = precision_score(y_test, y_pred)\n",
    "#         test_recall = recall_score(y_test, y_pred)\n",
    "#         test_auc = roc_auc_score(y_test, y_pred)\n",
    "        details[\"Test_accuracy\"] = test_accuracy\n",
    "#         details[\"Test_precision\"] = test_precision\n",
    "#         details[\"Test_recall\"] = test_recall\n",
    "#         details[\"Test_auc\"] = test_auc\n",
    "\n",
    "        df = df.append(details, ignore_index=True)\n",
    "        filepath = Path(dataset + '_RF.csv')\n",
    "        filepath.parent.mkdir(parents=True, exist_ok=True)\n",
    "        df.to_csv(filepath, index=False)"
   ]
  },
  {
   "cell_type": "code",
   "execution_count": 4,
   "id": "9aa7186e",
   "metadata": {},
   "outputs": [
    {
     "name": "stdout",
     "output_type": "stream",
     "text": [
      "data11_cns_splits\n"
     ]
    },
    {
     "name": "stderr",
     "output_type": "stream",
     "text": [
      "100%|███████████████████████████████████████████| 10/10 [00:09<00:00,  1.04it/s]\n"
     ]
    },
    {
     "name": "stdout",
     "output_type": "stream",
     "text": [
      "data15_occupanydetection_splits\n"
     ]
    },
    {
     "name": "stderr",
     "output_type": "stream",
     "text": [
      "100%|███████████████████████████████████████████| 10/10 [00:00<00:00, 13.62it/s]\n"
     ]
    },
    {
     "name": "stdout",
     "output_type": "stream",
     "text": [
      "data19_musk_splits\n"
     ]
    },
    {
     "name": "stderr",
     "output_type": "stream",
     "text": [
      "100%|███████████████████████████████████████████| 10/10 [00:02<00:00,  3.90it/s]\n"
     ]
    },
    {
     "name": "stdout",
     "output_type": "stream",
     "text": [
      "data22_connect_splits\n"
     ]
    },
    {
     "name": "stderr",
     "output_type": "stream",
     "text": [
      "100%|███████████████████████████████████████████| 10/10 [00:11<00:00,  1.18s/it]\n"
     ]
    },
    {
     "name": "stdout",
     "output_type": "stream",
     "text": [
      "data26_sales_splits\n"
     ]
    },
    {
     "name": "stderr",
     "output_type": "stream",
     "text": [
      "100%|███████████████████████████████████████████| 10/10 [00:02<00:00,  4.11it/s]\n"
     ]
    },
    {
     "name": "stdout",
     "output_type": "stream",
     "text": [
      "data2_letter_splits\n"
     ]
    },
    {
     "name": "stderr",
     "output_type": "stream",
     "text": [
      "100%|███████████████████████████████████████████| 10/10 [00:00<00:00, 17.92it/s]\n"
     ]
    },
    {
     "name": "stdout",
     "output_type": "stream",
     "text": [
      "data6_shuttle_splits\n"
     ]
    },
    {
     "name": "stderr",
     "output_type": "stream",
     "text": [
      "100%|███████████████████████████████████████████| 10/10 [00:01<00:00,  9.04it/s]\n"
     ]
    },
    {
     "name": "stdout",
     "output_type": "stream",
     "text": [
      "data12_srbct_splits\n"
     ]
    },
    {
     "name": "stderr",
     "output_type": "stream",
     "text": [
      "100%|███████████████████████████████████████████| 10/10 [00:02<00:00,  3.71it/s]\n"
     ]
    },
    {
     "name": "stdout",
     "output_type": "stream",
     "text": [
      "data16_poker_splits\n"
     ]
    },
    {
     "name": "stderr",
     "output_type": "stream",
     "text": [
      "100%|███████████████████████████████████████████| 10/10 [00:00<00:00, 19.29it/s]\n"
     ]
    },
    {
     "name": "stdout",
     "output_type": "stream",
     "text": [
      "data1_credit_splits\n"
     ]
    },
    {
     "name": "stderr",
     "output_type": "stream",
     "text": [
      "100%|███████████████████████████████████████████| 10/10 [00:01<00:00,  6.99it/s]\n"
     ]
    },
    {
     "name": "stdout",
     "output_type": "stream",
     "text": [
      "data23_forestcover_splits\n"
     ]
    },
    {
     "name": "stderr",
     "output_type": "stream",
     "text": [
      "100%|███████████████████████████████████████████| 10/10 [00:43<00:00,  4.35s/it]\n"
     ]
    },
    {
     "name": "stdout",
     "output_type": "stream",
     "text": [
      "data27_yeast_splits\n"
     ]
    },
    {
     "name": "stderr",
     "output_type": "stream",
     "text": [
      "100%|███████████████████████████████████████████| 10/10 [00:02<00:00,  4.26it/s]\n"
     ]
    },
    {
     "name": "stdout",
     "output_type": "stream",
     "text": [
      "data7_penbased_splits\n"
     ]
    },
    {
     "name": "stderr",
     "output_type": "stream",
     "text": [
      "100%|███████████████████████████████████████████| 10/10 [00:00<00:00, 25.61it/s]\n"
     ]
    },
    {
     "name": "stdout",
     "output_type": "stream",
     "text": [
      "data13_lymphoma_splits\n"
     ]
    },
    {
     "name": "stderr",
     "output_type": "stream",
     "text": [
      "100%|███████████████████████████████████████████| 10/10 [00:05<00:00,  1.82it/s]\n"
     ]
    },
    {
     "name": "stdout",
     "output_type": "stream",
     "text": [
      "data17_skinseg_splits\n"
     ]
    },
    {
     "name": "stderr",
     "output_type": "stream",
     "text": [
      "100%|███████████████████████████████████████████| 10/10 [00:02<00:00,  3.99it/s]\n"
     ]
    },
    {
     "name": "stdout",
     "output_type": "stream",
     "text": [
      "data20_carvana_splits\n"
     ]
    },
    {
     "name": "stderr",
     "output_type": "stream",
     "text": [
      "100%|███████████████████████████████████████████| 10/10 [03:19<00:00, 19.99s/it]\n"
     ]
    },
    {
     "name": "stdout",
     "output_type": "stream",
     "text": [
      "data24_voice_splits\n"
     ]
    },
    {
     "name": "stderr",
     "output_type": "stream",
     "text": [
      "100%|███████████████████████████████████████████| 10/10 [00:00<00:00, 14.56it/s]\n"
     ]
    },
    {
     "name": "stdout",
     "output_type": "stream",
     "text": [
      "data28_theorem_splits\n"
     ]
    },
    {
     "name": "stderr",
     "output_type": "stream",
     "text": [
      "100%|███████████████████████████████████████████| 10/10 [00:01<00:00,  5.25it/s]\n"
     ]
    },
    {
     "name": "stdout",
     "output_type": "stream",
     "text": [
      "data4_activity_splits\n"
     ]
    },
    {
     "name": "stderr",
     "output_type": "stream",
     "text": [
      "100%|███████████████████████████████████████████| 10/10 [00:09<00:00,  1.05it/s]\n"
     ]
    },
    {
     "name": "stdout",
     "output_type": "stream",
     "text": [
      "data8_income_splits\n"
     ]
    },
    {
     "name": "stderr",
     "output_type": "stream",
     "text": [
      "100%|███████████████████████████████████████████| 10/10 [00:05<00:00,  1.71it/s]\n"
     ]
    },
    {
     "name": "stdout",
     "output_type": "stream",
     "text": [
      "data10_brain_splits\n"
     ]
    },
    {
     "name": "stderr",
     "output_type": "stream",
     "text": [
      "100%|███████████████████████████████████████████| 10/10 [00:07<00:00,  1.27it/s]\n"
     ]
    },
    {
     "name": "stdout",
     "output_type": "stream",
     "text": [
      "data14_prostrate_splits\n"
     ]
    },
    {
     "name": "stderr",
     "output_type": "stream",
     "text": [
      "100%|███████████████████████████████████████████| 10/10 [00:11<00:00,  1.17s/it]\n"
     ]
    },
    {
     "name": "stdout",
     "output_type": "stream",
     "text": [
      "data18_challenges_splits\n"
     ]
    },
    {
     "name": "stderr",
     "output_type": "stream",
     "text": [
      "100%|███████████████████████████████████████████| 10/10 [00:19<00:00,  1.99s/it]\n"
     ]
    },
    {
     "name": "stdout",
     "output_type": "stream",
     "text": [
      "data21_gimmecredit_splits\n"
     ]
    },
    {
     "name": "stderr",
     "output_type": "stream",
     "text": [
      "100%|███████████████████████████████████████████| 10/10 [00:04<00:00,  2.38it/s]\n"
     ]
    },
    {
     "name": "stdout",
     "output_type": "stream",
     "text": [
      "data29_dota_splits\n"
     ]
    },
    {
     "name": "stderr",
     "output_type": "stream",
     "text": [
      "100%|███████████████████████████████████████████| 10/10 [00:15<00:00,  1.52s/it]\n"
     ]
    },
    {
     "name": "stdout",
     "output_type": "stream",
     "text": [
      "data5_bank_splits\n"
     ]
    },
    {
     "name": "stderr",
     "output_type": "stream",
     "text": [
      "100%|███████████████████████████████████████████| 10/10 [00:01<00:00,  7.59it/s]\n"
     ]
    },
    {
     "name": "stdout",
     "output_type": "stream",
     "text": [
      "data9_amlall_splits\n"
     ]
    },
    {
     "name": "stderr",
     "output_type": "stream",
     "text": [
      "100%|███████████████████████████████████████████| 10/10 [00:09<00:00,  1.00it/s]\n"
     ]
    }
   ],
   "source": [
    "def process_bin_clas(df_train, df_test):\n",
    "    df_total = pd.concat([df_train, df_test], axis=0)\n",
    "    tar = df_total.iloc[:, -1]\n",
    "    df_total = df_total.iloc[:, :-1]\n",
    "    cat = df_total.select_dtypes(include=['object']).columns.to_list()\n",
    "    df_total = pd.get_dummies(df_total, cat)\n",
    "    df_total = pd.concat([df_total, tar], axis=1)\n",
    "    df_train = df_total.iloc[:df_train.shape[0],:]\n",
    "    df_test = df_total.iloc[df_train.shape[0]:,:]\n",
    "    return df_train, df_test\n",
    "\n",
    "def get_missing():\n",
    "    missingValueColumns = datafrm.columns[datafrm.isnull().any()].tolist()\n",
    "    percent_missing = datafrm[missingValueColumns].isnull().sum()\n",
    "    print(\"Missing value count columnwise:\")\n",
    "    print(percent_missing)\n",
    "\n",
    "\n",
    "data_dir =\"/home/asim/Desktop/Takshshila/IOT/TestScripts/DATASETS_CLASSIFICATION\"\n",
    "\n",
    "\n",
    "\n",
    "datasets = ['data11_cns_splits','data15_occupanydetection_splits','data19_musk_splits','data22_connect_splits',\n",
    "            'data26_sales_splits','data2_letter_splits','data6_shuttle_splits','data12_srbct_splits',\n",
    "            'data16_poker_splits','data1_credit_splits','data23_forestcover_splits','data27_yeast_splits',\n",
    "            'data7_penbased_splits','data13_lymphoma_splits','data17_skinseg_splits', 'data20_carvana_splits',\n",
    "            'data24_voice_splits','data28_theorem_splits','data4_activity_splits', 'data8_income_splits',\n",
    "            'data10_brain_splits','data14_prostrate_splits','data18_challenges_splits', 'data21_gimmecredit_splits',\n",
    "            'data29_dota_splits','data5_bank_splits','data9_amlall_splits'] # 'data25_arrythmia_splits',\n",
    "\n",
    "seeds = [1, 2, 3, 4, 5, 6, 7, 8, 9, 10]\n",
    "for i in range(len(datasets)):\n",
    "    print(datasets[i])\n",
    "    for seed in tqdm(seeds):\n",
    "        dataset = datasets[i]\n",
    "        \n",
    "        remove_split = \"_\".join(dataset.split(\"_\")[:-1])\n",
    "        csv_path_train = os.path.join(data_dir, dataset, remove_split + '_train' + str(seed) + '.csv')\n",
    "        csv_path_test = os.path.join(data_dir, dataset, remove_split + '_test' + str(seed) + '.csv')\n",
    "        \n",
    "        df_train = pd.read_csv(csv_path_train)\n",
    "        df_test = pd.read_csv(csv_path_test)\n",
    "        \n",
    "        df_train, df_test = process_bin_clas(df_train, df_test)\n",
    "        x, y = df_train.iloc[: , :-1], df_train.iloc[: , -1]\n",
    "        if dataset == \"data18_challenges_splits\":\n",
    "            x, y = df_train.iloc[: , 1:], df_train.iloc[: , 0]\n",
    "            df_train = pd.concat([x, y], axis=1)\n",
    "#         x_train, x_test, y_train, y_test = train_test_split(x, y, test_size=0.20, random_state=4, stratify=y)\n",
    "#         train_part_k = pd.concat([x_train, y_train], axis=1)\n",
    "#         train_part_rest = pd.concat([x_test, y_test], axis=1)\n",
    "        \n",
    "        df_train.to_csv(os.path.join(data_dir, dataset, remove_split + '_train' + str(seed) + '_rf.csv'), index=False)\n",
    "        df_test.to_csv(os.path.join(data_dir, dataset, remove_split + '_test' + str(seed) + '_mod.csv'), index=False)\n",
    "#         train_part_rest.to_csv(os.path.join(data_dir, dataset, remove_split + '_test' + str(seed) + '_mod.csv'), index=False)"
   ]
  },
  {
   "cell_type": "code",
   "execution_count": 25,
   "id": "8e551b24",
   "metadata": {},
   "outputs": [
    {
     "name": "stderr",
     "output_type": "stream",
     "text": [
      "100%|██████████████████████████████████████████████████████████████████████████████████| 10/10 [00:46<00:00,  4.67s/it]\n",
      "100%|██████████████████████████████████████████████████████████████████████████████████| 10/10 [14:41<00:00, 88.15s/it]\n",
      "100%|██████████████████████████████████████████████████████████████████████████████████| 10/10 [04:41<00:00, 28.13s/it]\n",
      "100%|██████████████████████████████████████████████████████████████████████████████████| 10/10 [01:39<00:00, 10.00s/it]\n",
      "  0%|                                                                                           | 0/10 [00:00<?, ?it/s]C:\\Users\\arpit\\anaconda3\\lib\\site-packages\\sklearn\\model_selection\\_split.py:676: UserWarning: The least populated class in y has only 2 members, which is less than n_splits=5.\n",
      "  warnings.warn(\n",
      " 10%|████████▎                                                                          | 1/10 [00:10<01:33, 10.37s/it]C:\\Users\\arpit\\anaconda3\\lib\\site-packages\\sklearn\\model_selection\\_split.py:676: UserWarning: The least populated class in y has only 2 members, which is less than n_splits=5.\n",
      "  warnings.warn(\n",
      " 20%|████████████████▌                                                                  | 2/10 [00:15<00:57,  7.25s/it]C:\\Users\\arpit\\anaconda3\\lib\\site-packages\\sklearn\\model_selection\\_split.py:676: UserWarning: The least populated class in y has only 2 members, which is less than n_splits=5.\n",
      "  warnings.warn(\n",
      " 30%|████████████████████████▉                                                          | 3/10 [00:25<00:59,  8.56s/it]C:\\Users\\arpit\\anaconda3\\lib\\site-packages\\sklearn\\model_selection\\_split.py:676: UserWarning: The least populated class in y has only 2 members, which is less than n_splits=5.\n",
      "  warnings.warn(\n",
      " 40%|█████████████████████████████████▏                                                 | 4/10 [00:32<00:47,  7.85s/it]C:\\Users\\arpit\\anaconda3\\lib\\site-packages\\sklearn\\model_selection\\_split.py:676: UserWarning: The least populated class in y has only 2 members, which is less than n_splits=5.\n",
      "  warnings.warn(\n",
      " 50%|█████████████████████████████████████████▌                                         | 5/10 [00:35<00:30,  6.13s/it]C:\\Users\\arpit\\anaconda3\\lib\\site-packages\\sklearn\\model_selection\\_split.py:676: UserWarning: The least populated class in y has only 2 members, which is less than n_splits=5.\n",
      "  warnings.warn(\n",
      " 60%|█████████████████████████████████████████████████▊                                 | 6/10 [00:42<00:26,  6.60s/it]C:\\Users\\arpit\\anaconda3\\lib\\site-packages\\sklearn\\model_selection\\_split.py:676: UserWarning: The least populated class in y has only 2 members, which is less than n_splits=5.\n",
      "  warnings.warn(\n",
      " 70%|██████████████████████████████████████████████████████████                         | 7/10 [00:48<00:18,  6.32s/it]C:\\Users\\arpit\\anaconda3\\lib\\site-packages\\sklearn\\model_selection\\_split.py:676: UserWarning: The least populated class in y has only 2 members, which is less than n_splits=5.\n",
      "  warnings.warn(\n",
      " 80%|██████████████████████████████████████████████████████████████████▍                | 8/10 [00:53<00:11,  5.83s/it]C:\\Users\\arpit\\anaconda3\\lib\\site-packages\\sklearn\\model_selection\\_split.py:676: UserWarning: The least populated class in y has only 2 members, which is less than n_splits=5.\n",
      "  warnings.warn(\n",
      " 90%|██████████████████████████████████████████████████████████████████████████▋        | 9/10 [00:56<00:04,  4.99s/it]C:\\Users\\arpit\\anaconda3\\lib\\site-packages\\sklearn\\model_selection\\_split.py:676: UserWarning: The least populated class in y has only 2 members, which is less than n_splits=5.\n",
      "  warnings.warn(\n",
      "100%|██████████████████████████████████████████████████████████████████████████████████| 10/10 [01:03<00:00,  6.32s/it]\n",
      "  0%|                                                                                           | 0/10 [00:00<?, ?it/s]C:\\Users\\arpit\\anaconda3\\lib\\site-packages\\sklearn\\model_selection\\_split.py:676: UserWarning: The least populated class in y has only 2 members, which is less than n_splits=5.\n",
      "  warnings.warn(\n",
      " 10%|████████▎                                                                          | 1/10 [00:19<02:58, 19.86s/it]C:\\Users\\arpit\\anaconda3\\lib\\site-packages\\sklearn\\model_selection\\_split.py:676: UserWarning: The least populated class in y has only 2 members, which is less than n_splits=5.\n",
      "  warnings.warn(\n",
      " 20%|████████████████▌                                                                  | 2/10 [00:41<02:45, 20.66s/it]C:\\Users\\arpit\\anaconda3\\lib\\site-packages\\sklearn\\model_selection\\_split.py:676: UserWarning: The least populated class in y has only 2 members, which is less than n_splits=5.\n",
      "  warnings.warn(\n",
      " 30%|████████████████████████▉                                                          | 3/10 [01:02<02:26, 20.91s/it]C:\\Users\\arpit\\anaconda3\\lib\\site-packages\\sklearn\\model_selection\\_split.py:676: UserWarning: The least populated class in y has only 2 members, which is less than n_splits=5.\n",
      "  warnings.warn(\n",
      " 40%|█████████████████████████████████▏                                                 | 4/10 [01:24<02:08, 21.41s/it]C:\\Users\\arpit\\anaconda3\\lib\\site-packages\\sklearn\\model_selection\\_split.py:676: UserWarning: The least populated class in y has only 2 members, which is less than n_splits=5.\n",
      "  warnings.warn(\n",
      " 50%|█████████████████████████████████████████▌                                         | 5/10 [01:44<01:45, 21.08s/it]C:\\Users\\arpit\\anaconda3\\lib\\site-packages\\sklearn\\model_selection\\_split.py:676: UserWarning: The least populated class in y has only 2 members, which is less than n_splits=5.\n",
      "  warnings.warn(\n",
      " 60%|█████████████████████████████████████████████████▊                                 | 6/10 [01:56<01:11, 17.93s/it]C:\\Users\\arpit\\anaconda3\\lib\\site-packages\\sklearn\\model_selection\\_split.py:676: UserWarning: The least populated class in y has only 2 members, which is less than n_splits=5.\n",
      "  warnings.warn(\n",
      " 70%|██████████████████████████████████████████████████████████                         | 7/10 [02:12<00:51, 17.07s/it]C:\\Users\\arpit\\anaconda3\\lib\\site-packages\\sklearn\\model_selection\\_split.py:676: UserWarning: The least populated class in y has only 2 members, which is less than n_splits=5.\n",
      "  warnings.warn(\n",
      " 80%|██████████████████████████████████████████████████████████████████▍                | 8/10 [02:27<00:33, 16.59s/it]C:\\Users\\arpit\\anaconda3\\lib\\site-packages\\sklearn\\model_selection\\_split.py:676: UserWarning: The least populated class in y has only 2 members, which is less than n_splits=5.\n",
      "  warnings.warn(\n",
      " 90%|██████████████████████████████████████████████████████████████████████████▋        | 9/10 [02:43<00:16, 16.24s/it]C:\\Users\\arpit\\anaconda3\\lib\\site-packages\\sklearn\\model_selection\\_split.py:676: UserWarning: The least populated class in y has only 2 members, which is less than n_splits=5.\n",
      "  warnings.warn(\n",
      "100%|██████████████████████████████████████████████████████████████████████████████████| 10/10 [02:59<00:00, 17.98s/it]\n",
      "100%|██████████████████████████████████████████████████████████████████████████████████| 10/10 [02:25<00:00, 14.58s/it]\n",
      "100%|███████████████████████████████████████████████████████████████████████████████| 10/10 [1:15:00<00:00, 450.06s/it]\n",
      "  0%|                                                                                           | 0/10 [00:00<?, ?it/s]C:\\Users\\arpit\\anaconda3\\lib\\site-packages\\sklearn\\model_selection\\_split.py:676: UserWarning: The least populated class in y has only 2 members, which is less than n_splits=5.\n",
      "  warnings.warn(\n",
      " 10%|████████▎                                                                          | 1/10 [00:05<00:47,  5.27s/it]C:\\Users\\arpit\\anaconda3\\lib\\site-packages\\sklearn\\model_selection\\_split.py:676: UserWarning: The least populated class in y has only 2 members, which is less than n_splits=5.\n",
      "  warnings.warn(\n",
      " 20%|████████████████▌                                                                  | 2/10 [00:08<00:32,  4.03s/it]C:\\Users\\arpit\\anaconda3\\lib\\site-packages\\sklearn\\model_selection\\_split.py:676: UserWarning: The least populated class in y has only 2 members, which is less than n_splits=5.\n",
      "  warnings.warn(\n",
      " 30%|████████████████████████▉                                                          | 3/10 [00:10<00:22,  3.27s/it]C:\\Users\\arpit\\anaconda3\\lib\\site-packages\\sklearn\\model_selection\\_split.py:676: UserWarning: The least populated class in y has only 2 members, which is less than n_splits=5.\n",
      "  warnings.warn(\n",
      " 40%|█████████████████████████████████▏                                                 | 4/10 [00:13<00:18,  3.09s/it]C:\\Users\\arpit\\anaconda3\\lib\\site-packages\\sklearn\\model_selection\\_split.py:676: UserWarning: The least populated class in y has only 2 members, which is less than n_splits=5.\n",
      "  warnings.warn(\n",
      " 50%|█████████████████████████████████████████▌                                         | 5/10 [00:16<00:14,  2.93s/it]C:\\Users\\arpit\\anaconda3\\lib\\site-packages\\sklearn\\model_selection\\_split.py:676: UserWarning: The least populated class in y has only 2 members, which is less than n_splits=5.\n",
      "  warnings.warn(\n",
      " 60%|█████████████████████████████████████████████████▊                                 | 6/10 [00:20<00:12,  3.23s/it]C:\\Users\\arpit\\anaconda3\\lib\\site-packages\\sklearn\\model_selection\\_split.py:676: UserWarning: The least populated class in y has only 2 members, which is less than n_splits=5.\n",
      "  warnings.warn(\n",
      " 70%|██████████████████████████████████████████████████████████                         | 7/10 [00:24<00:10,  3.50s/it]C:\\Users\\arpit\\anaconda3\\lib\\site-packages\\sklearn\\model_selection\\_split.py:676: UserWarning: The least populated class in y has only 2 members, which is less than n_splits=5.\n",
      "  warnings.warn(\n",
      " 80%|██████████████████████████████████████████████████████████████████▍                | 8/10 [00:26<00:06,  3.04s/it]C:\\Users\\arpit\\anaconda3\\lib\\site-packages\\sklearn\\model_selection\\_split.py:676: UserWarning: The least populated class in y has only 2 members, which is less than n_splits=5.\n",
      "  warnings.warn(\n",
      " 90%|██████████████████████████████████████████████████████████████████████████▋        | 9/10 [00:30<00:03,  3.46s/it]C:\\Users\\arpit\\anaconda3\\lib\\site-packages\\sklearn\\model_selection\\_split.py:676: UserWarning: The least populated class in y has only 2 members, which is less than n_splits=5.\n",
      "  warnings.warn(\n",
      "100%|██████████████████████████████████████████████████████████████████████████████████| 10/10 [00:34<00:00,  3.49s/it]\n",
      "100%|██████████████████████████████████████████████████████████████████████████████████| 10/10 [00:50<00:00,  5.01s/it]\n",
      "100%|██████████████████████████████████████████████████████████████████████████████████| 10/10 [00:21<00:00,  2.14s/it]\n",
      "100%|██████████████████████████████████████████████████████████████████████████████████| 10/10 [10:25<00:00, 62.51s/it]\n",
      "100%|█████████████████████████████████████████████████████████████████████████████████| 10/10 [20:50<00:00, 125.05s/it]\n",
      "100%|██████████████████████████████████████████████████████████████████████████████████| 10/10 [00:19<00:00,  2.00s/it]\n",
      "100%|██████████████████████████████████████████████████████████████████████████████████| 10/10 [00:40<00:00,  4.02s/it]\n",
      "100%|██████████████████████████████████████████████████████████████████████████████████| 10/10 [14:36<00:00, 87.63s/it]\n",
      "100%|██████████████████████████████████████████████████████████████████████████████████| 10/10 [02:44<00:00, 16.47s/it]\n",
      "  0%|                                                                                           | 0/10 [00:00<?, ?it/s]C:\\Users\\arpit\\anaconda3\\lib\\site-packages\\sklearn\\base.py:493: FutureWarning: The feature names should match those that were passed during fit. Starting version 1.2, an error will be raised.\n",
      "Feature names unseen at fit time:\n",
      "- label\n",
      "Feature names seen at fit time, yet now missing:\n",
      "- f1874\n",
      "\n",
      "  warnings.warn(message, FutureWarning)\n",
      "C:\\Users\\arpit\\anaconda3\\lib\\site-packages\\sklearn\\base.py:493: FutureWarning: The feature names should match those that were passed during fit. Starting version 1.2, an error will be raised.\n",
      "Feature names unseen at fit time:\n",
      "- label\n",
      "Feature names seen at fit time, yet now missing:\n",
      "- f1874\n",
      "\n",
      "  warnings.warn(message, FutureWarning)\n",
      " 10%|████████▎                                                                          | 1/10 [00:12<01:52, 12.48s/it]C:\\Users\\arpit\\anaconda3\\lib\\site-packages\\sklearn\\base.py:493: FutureWarning: The feature names should match those that were passed during fit. Starting version 1.2, an error will be raised.\n",
      "Feature names unseen at fit time:\n",
      "- label\n",
      "Feature names seen at fit time, yet now missing:\n",
      "- f1874\n",
      "\n",
      "  warnings.warn(message, FutureWarning)\n",
      "C:\\Users\\arpit\\anaconda3\\lib\\site-packages\\sklearn\\base.py:493: FutureWarning: The feature names should match those that were passed during fit. Starting version 1.2, an error will be raised.\n",
      "Feature names unseen at fit time:\n",
      "- label\n",
      "Feature names seen at fit time, yet now missing:\n",
      "- f1874\n",
      "\n",
      "  warnings.warn(message, FutureWarning)\n",
      " 20%|████████████████▌                                                                  | 2/10 [00:19<01:13,  9.16s/it]C:\\Users\\arpit\\anaconda3\\lib\\site-packages\\sklearn\\base.py:493: FutureWarning: The feature names should match those that were passed during fit. Starting version 1.2, an error will be raised.\n",
      "Feature names unseen at fit time:\n",
      "- label\n",
      "Feature names seen at fit time, yet now missing:\n",
      "- f1874\n",
      "\n",
      "  warnings.warn(message, FutureWarning)\n",
      "C:\\Users\\arpit\\anaconda3\\lib\\site-packages\\sklearn\\base.py:493: FutureWarning: The feature names should match those that were passed during fit. Starting version 1.2, an error will be raised.\n",
      "Feature names unseen at fit time:\n",
      "- label\n",
      "Feature names seen at fit time, yet now missing:\n",
      "- f1874\n",
      "\n",
      "  warnings.warn(message, FutureWarning)\n",
      " 30%|████████████████████████▉                                                          | 3/10 [00:25<00:55,  7.91s/it]C:\\Users\\arpit\\anaconda3\\lib\\site-packages\\sklearn\\base.py:493: FutureWarning: The feature names should match those that were passed during fit. Starting version 1.2, an error will be raised.\n",
      "Feature names unseen at fit time:\n",
      "- label\n",
      "Feature names seen at fit time, yet now missing:\n",
      "- f1874\n",
      "\n",
      "  warnings.warn(message, FutureWarning)\n",
      "C:\\Users\\arpit\\anaconda3\\lib\\site-packages\\sklearn\\base.py:493: FutureWarning: The feature names should match those that were passed during fit. Starting version 1.2, an error will be raised.\n",
      "Feature names unseen at fit time:\n",
      "- label\n",
      "Feature names seen at fit time, yet now missing:\n",
      "- f1874\n",
      "\n",
      "  warnings.warn(message, FutureWarning)\n",
      " 40%|█████████████████████████████████▏                                                 | 4/10 [00:33<00:46,  7.68s/it]C:\\Users\\arpit\\anaconda3\\lib\\site-packages\\sklearn\\base.py:493: FutureWarning: The feature names should match those that were passed during fit. Starting version 1.2, an error will be raised.\n",
      "Feature names unseen at fit time:\n",
      "- label\n",
      "Feature names seen at fit time, yet now missing:\n",
      "- f1874\n",
      "\n",
      "  warnings.warn(message, FutureWarning)\n",
      "C:\\Users\\arpit\\anaconda3\\lib\\site-packages\\sklearn\\base.py:493: FutureWarning: The feature names should match those that were passed during fit. Starting version 1.2, an error will be raised.\n",
      "Feature names unseen at fit time:\n",
      "- label\n",
      "Feature names seen at fit time, yet now missing:\n",
      "- f1874\n",
      "\n",
      "  warnings.warn(message, FutureWarning)\n",
      " 50%|█████████████████████████████████████████▌                                         | 5/10 [00:43<00:42,  8.53s/it]C:\\Users\\arpit\\anaconda3\\lib\\site-packages\\sklearn\\base.py:493: FutureWarning: The feature names should match those that were passed during fit. Starting version 1.2, an error will be raised.\n",
      "Feature names unseen at fit time:\n",
      "- label\n",
      "Feature names seen at fit time, yet now missing:\n",
      "- f1874\n",
      "\n",
      "  warnings.warn(message, FutureWarning)\n",
      "C:\\Users\\arpit\\anaconda3\\lib\\site-packages\\sklearn\\base.py:493: FutureWarning: The feature names should match those that were passed during fit. Starting version 1.2, an error will be raised.\n",
      "Feature names unseen at fit time:\n",
      "- label\n",
      "Feature names seen at fit time, yet now missing:\n",
      "- f1874\n",
      "\n",
      "  warnings.warn(message, FutureWarning)\n",
      " 60%|█████████████████████████████████████████████████▊                                 | 6/10 [00:49<00:30,  7.69s/it]C:\\Users\\arpit\\anaconda3\\lib\\site-packages\\sklearn\\base.py:493: FutureWarning: The feature names should match those that were passed during fit. Starting version 1.2, an error will be raised.\n",
      "Feature names unseen at fit time:\n",
      "- label\n",
      "Feature names seen at fit time, yet now missing:\n",
      "- f1874\n",
      "\n",
      "  warnings.warn(message, FutureWarning)\n",
      "C:\\Users\\arpit\\anaconda3\\lib\\site-packages\\sklearn\\base.py:493: FutureWarning: The feature names should match those that were passed during fit. Starting version 1.2, an error will be raised.\n",
      "Feature names unseen at fit time:\n",
      "- label\n",
      "Feature names seen at fit time, yet now missing:\n",
      "- f1874\n",
      "\n",
      "  warnings.warn(message, FutureWarning)\n",
      " 70%|██████████████████████████████████████████████████████████                         | 7/10 [01:01<00:27,  9.15s/it]C:\\Users\\arpit\\anaconda3\\lib\\site-packages\\sklearn\\base.py:493: FutureWarning: The feature names should match those that were passed during fit. Starting version 1.2, an error will be raised.\n",
      "Feature names unseen at fit time:\n",
      "- label\n",
      "Feature names seen at fit time, yet now missing:\n",
      "- f1874\n",
      "\n",
      "  warnings.warn(message, FutureWarning)\n",
      "C:\\Users\\arpit\\anaconda3\\lib\\site-packages\\sklearn\\base.py:493: FutureWarning: The feature names should match those that were passed during fit. Starting version 1.2, an error will be raised.\n",
      "Feature names unseen at fit time:\n",
      "- label\n",
      "Feature names seen at fit time, yet now missing:\n",
      "- f1874\n",
      "\n",
      "  warnings.warn(message, FutureWarning)\n",
      " 80%|██████████████████████████████████████████████████████████████████▍                | 8/10 [01:14<00:21, 10.56s/it]C:\\Users\\arpit\\anaconda3\\lib\\site-packages\\sklearn\\base.py:493: FutureWarning: The feature names should match those that were passed during fit. Starting version 1.2, an error will be raised.\n",
      "Feature names unseen at fit time:\n",
      "- label\n",
      "Feature names seen at fit time, yet now missing:\n",
      "- f1874\n",
      "\n",
      "  warnings.warn(message, FutureWarning)\n",
      "C:\\Users\\arpit\\anaconda3\\lib\\site-packages\\sklearn\\base.py:493: FutureWarning: The feature names should match those that were passed during fit. Starting version 1.2, an error will be raised.\n",
      "Feature names unseen at fit time:\n",
      "- label\n",
      "Feature names seen at fit time, yet now missing:\n",
      "- f1874\n",
      "\n",
      "  warnings.warn(message, FutureWarning)\n",
      " 90%|██████████████████████████████████████████████████████████████████████████▋        | 9/10 [01:28<00:11, 11.58s/it]C:\\Users\\arpit\\anaconda3\\lib\\site-packages\\sklearn\\base.py:493: FutureWarning: The feature names should match those that were passed during fit. Starting version 1.2, an error will be raised.\n",
      "Feature names unseen at fit time:\n",
      "- label\n",
      "Feature names seen at fit time, yet now missing:\n",
      "- f1874\n",
      "\n",
      "  warnings.warn(message, FutureWarning)\n",
      "C:\\Users\\arpit\\anaconda3\\lib\\site-packages\\sklearn\\base.py:493: FutureWarning: The feature names should match those that were passed during fit. Starting version 1.2, an error will be raised.\n",
      "Feature names unseen at fit time:\n",
      "- label\n",
      "Feature names seen at fit time, yet now missing:\n",
      "- f1874\n",
      "\n",
      "  warnings.warn(message, FutureWarning)\n",
      "100%|██████████████████████████████████████████████████████████████████████████████████| 10/10 [01:38<00:00,  9.82s/it]\n",
      "100%|██████████████████████████████████████████████████████████████████████████████████| 10/10 [07:36<00:00, 45.60s/it]\n",
      "100%|██████████████████████████████████████████████████████████████████████████████████| 10/10 [12:12<00:00, 73.22s/it]\n",
      "100%|██████████████████████████████████████████████████████████████████████████████████| 10/10 [02:05<00:00, 12.56s/it]\n"
     ]
    }
   ],
   "source": [
    "data_dir =\\\n",
    "    r\"C:\\Users\\arpit\\workspace\\setup-stuff\\gateway_and_dataset\\Classification\\DATASETS_CLASSIFICATION\"\n",
    "datasets = [# 'data19_musk_splits','data15_occupanydetection_splits',\n",
    "            'data11_cns_splits', 'data22_connect_splits', 'data26_sales_splits',\n",
    "            'data2_letter_splits','data6_shuttle_splits', # 'data12_srbct_splits',\n",
    "            'data16_poker_splits','data1_credit_splits','data23_forestcover_splits','data27_yeast_splits',\n",
    "            'data7_penbased_splits','data13_lymphoma_splits', 'data17_skinseg_splits', 'data20_carvana_splits',\n",
    "            'data24_voice_splits','data28_theorem_splits','data4_activity_splits', 'data8_income_splits',\n",
    "            'data18_challenges_splits', 'data21_gimmecredit_splits', 'data29_dota_splits','data5_bank_splits']\n",
    "seeds = [1, 2, 3, 4, 5, 6, 7, 8, 9, 10]\n",
    "\n",
    "for i in range(len(datasets)):\n",
    "    df = pd.DataFrame()\n",
    "    for seed in tqdm(seeds):\n",
    "        dataset = datasets[i]\n",
    "        remove_split = \"_\".join(dataset.split(\"_\")[:-1])\n",
    "        \n",
    "        csv_path_train = os.path.join(data_dir, dataset, remove_split + '_train' + str(seed) + '_mod.csv')\n",
    "        csv_path_test = os.path.join(data_dir, dataset, remove_split + '_test' + str(seed) + '_mod.csv')\n",
    "        \n",
    "        df_train = pd.read_csv(csv_path_train)\n",
    "        df_test = pd.read_csv(csv_path_test)\n",
    "\n",
    "        X = df_train.iloc[:, :-1]\n",
    "        y = df_train.iloc[:, -1]\n",
    "        X_test = df_test.iloc[:, :-1]\n",
    "        y_test = df_test.iloc[:, -1]\n",
    "        label_encoder = LabelEncoder()\n",
    "        label_encoder.fit(pd.concat([y, y_test], axis=0))\n",
    "        y = pd.DataFrame(label_encoder.transform(y)).apply(pd.to_numeric)\n",
    "        y_test = pd.DataFrame(label_encoder.transform(y_test)).apply(pd.to_numeric)\n",
    "\n",
    "        details = {'dataset': dataset, 'seed': seed}\n",
    "\n",
    "#         model_DT = DT_pred(X, y)\n",
    "\n",
    "        model_RF = RF_pred(X, y, details)\n",
    "        importances = model_RF.feature_importances_\n",
    "        indices = np.argsort(importances)[::-1]\n",
    "        top_k = 10\n",
    "        top_indices = indices[:top_k]\n",
    "        details['best_feature_list'] = np.array(X.columns)[indices][0:top_k]\n",
    "\n",
    "#             print(\"Feature_importance: \\n\")\n",
    "#             print(np.array(X.columns)[indices][0:top_k])\n",
    "#             print(importances[top_indices])\n",
    "        # Random Forest performance\n",
    "        y_pred = model_RF.predict(X_test)\n",
    "        y_pred_prob = model_RF.predict_proba(X_test)\n",
    "        y_pred_prob = y_pred_prob[:, 1]\n",
    "\n",
    "#         plot_performance(y_test, y_pred, y_pred_prob)\n",
    "#         plot_confusion(y_test, y_pred)\n",
    "\n",
    "        test_accuracy = accuracy_score(y_test, y_pred)\n",
    "#         test_precision = precision_score(y_test, y_pred)\n",
    "#         test_recall = recall_score(y_test, y_pred)\n",
    "#         test_auc = roc_auc_score(y_test, y_pred)\n",
    "        details[\"Test_accuracy\"] = test_accuracy\n",
    "#         details[\"Test_precision\"] = test_precision\n",
    "#         details[\"Test_recall\"] = test_recall\n",
    "#         details[\"Test_auc\"] = test_auc\n",
    "\n",
    "        df = df.append(details, ignore_index=True)\n",
    "        filepath = Path(dataset + '_RF_res.csv')\n",
    "        filepath.parent.mkdir(parents=True, exist_ok=True)\n",
    "        df.to_csv(filepath, index=False)\n"
   ]
  },
  {
   "cell_type": "code",
   "execution_count": null,
   "id": "e2d68639-2763-4da9-9525-a023018d0679",
   "metadata": {},
   "outputs": [],
   "source": []
  }
 ],
 "metadata": {
  "kernelspec": {
   "display_name": "Python 3",
   "language": "python",
   "name": "python3"
  },
  "language_info": {
   "codemirror_mode": {
    "name": "ipython",
    "version": 3
   },
   "file_extension": ".py",
   "mimetype": "text/x-python",
   "name": "python",
   "nbconvert_exporter": "python",
   "pygments_lexer": "ipython3",
   "version": "3.9.7"
  }
 },
 "nbformat": 4,
 "nbformat_minor": 5
}
