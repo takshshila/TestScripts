{
 "cells": [
  {
   "cell_type": "code",
   "execution_count": 1,
   "id": "6379bca5-e123-4c92-8206-f2e1d02a9026",
   "metadata": {},
   "outputs": [],
   "source": [
    "import pandas as pd\n",
    "from tqdm import tqdm\n",
    "import os\n",
    "import numpy as np\n",
    "from pathlib import Path\n",
    "import csv\n",
    "import random\n",
    "\n",
    "from sklearn.model_selection import train_test_split\n",
    "from sklearn.model_selection import KFold\n",
    "from sklearn.model_selection import GridSearchCV\n",
    "from sklearn.model_selection import RandomizedSearchCV\n",
    "from sklearn.model_selection import cross_val_score\n",
    "\n",
    "from sklearn.tree import DecisionTreeRegressor\n",
    "from sklearn.ensemble import RandomForestRegressor\n",
    "from sklearn.ensemble import GradientBoostingRegressor\n",
    "# import lightgbm as lgb\n",
    "\n",
    "from sklearn.metrics import (precision_score, recall_score, roc_auc_score, accuracy_score, mean_squared_error,\n",
    "                             confusion_matrix, precision_recall_curve, roc_curve, brier_score_loss)\n",
    "\n",
    "from scipy.stats import uniform as sp_randFloat\n",
    "from scipy.stats import randint as sp_randInt"
   ]
  },
  {
   "cell_type": "code",
   "execution_count": 2,
   "id": "fa2eba9e-fb1f-41c0-9f4d-ab105ec19975",
   "metadata": {},
   "outputs": [],
   "source": [
    "# Gradient Boosting Module -> hyperparameter tuning\n",
    "\n",
    "def GB_pred_tuned(train_path, validation_path, train_column_drop, validation_column, details=None):\n",
    "    \n",
    "    df_train = pd.read_csv(train_path)\n",
    "    df_validation = pd.read_csv(validation_path)\n",
    "    \n",
    "    X = df_train.drop(train_column_drop, axis = 1)\n",
    "    y = df_train[validation_column]\n",
    "    \n",
    "    X_validation = df_validation.drop(train_column_drop, axis = 1)\n",
    "    y_validation = df_validation[validation_column]\n",
    "    \n",
    "    # Build models with hyperparameters sets\n",
    "    RSC = RandomizedSearchCV(\n",
    "        estimator=GradientBoostingRegressor(loss='squared_error'),\n",
    "        param_distributions={\n",
    "            'n_estimators': range(1, 200, 10),\n",
    "            'max_depth': range(1, 100, 10),\n",
    "            'max_features': ['auto', 'sqrt', 'log2']\n",
    "        },\n",
    "        cv=5,\n",
    "        scoring='neg_root_mean_squared_error',\n",
    "        n_jobs=-1\n",
    "    )\n",
    "    \n",
    "    # Fit RandomizedSearchCV to find best hyperparameters\n",
    "    search_result = RSC.fit(X, y.values.ravel())\n",
    "    print(\"Best using: \", search_result.best_params_, \"Score: \", search_result.best_score_)\n",
    "\n",
    "    # Build models with optimized hyperparameters\n",
    "    model_GB = GradientBoostingRegressor(\n",
    "        n_estimators=search_result.best_params_[\"n_estimators\"],\n",
    "        max_depth=search_result.best_params_[\"max_depth\"],\n",
    "        max_features=search_result.best_params_[\"max_features\"],\n",
    "        loss='squared_error'\n",
    "    )\n",
    "    \n",
    "    # for train, test in kf.split(X):\n",
    "    model_GB.fit(X, y.values.ravel())\n",
    "    train_pred = model_GB.predict(X)\n",
    "    y_pred = model_GB.predict(X_validation)\n",
    "    \n",
    "    train_rmse = mean_squared_error(y, train_pred, squared=False)\n",
    "    \n",
    "    test_rmse = mean_squared_error(y_validation, y_pred, squared=False)\n",
    "\n",
    "    details['training_rmse'] = train_rmse\n",
    "    details['testing_rmse'] = test_rmse\n",
    "\n",
    "    print('Training RMSE: ', train_rmse, 'Testing RMSE: ', test_rmse)\n",
    "\n",
    "    return model_GB"
   ]
  },
  {
   "cell_type": "code",
   "execution_count": 3,
   "id": "cca3dabb-d6ca-4e23-8093-4c240d21e5ad",
   "metadata": {},
   "outputs": [],
   "source": [
    "# Gradient Boosting Module -> default parameters\n",
    "\n",
    "def GB_pred_default(train_path, validation_path, train_column_drop, validation_column, details=None):\n",
    "    \n",
    "    df_train = pd.read_csv(train_path)\n",
    "    df_validation = pd.read_csv(validation_path)\n",
    "    \n",
    "    X = df_train.drop(train_column_drop, axis = 1)\n",
    "    y = df_train[validation_column]\n",
    "    \n",
    "    X_validation = df_validation.drop(train_column_drop, axis = 1)\n",
    "    y_validation = df_validation[validation_column]\n",
    "    \n",
    "    model_GB = GradientBoostingRegressor(loss='squared_error')\n",
    "    \n",
    "    # for train, test in kf.split(X):\n",
    "    model_GB.fit(X, y.values.ravel())\n",
    "    train_pred = model_GB.predict(X)\n",
    "    y_pred = model_GB.predict(X_validation)\n",
    "    \n",
    "    train_rmse = mean_squared_error(y, train_pred, squared=False)\n",
    "    \n",
    "    test_rmse = mean_squared_error(y_validation, y_pred, squared=False)\n",
    "\n",
    "    details['training_rmse'] = train_rmse\n",
    "    details['testing_rmse'] = test_rmse\n",
    "\n",
    "    print('Training RMSE: ', train_rmse, 'Testing RMSE: ', test_rmse)\n",
    "\n",
    "    return model_GB"
   ]
  },
  {
   "cell_type": "code",
   "execution_count": 4,
   "id": "96f7f49e-2b55-4c3c-b54c-058b86960b51",
   "metadata": {},
   "outputs": [],
   "source": [
    "# dataset metadata\n",
    "\n",
    "data_dir = \"/home/asim/ssriva59/setup-stuff/gateway_and_dataset\"\n",
    "datasets = [\n",
    "    \"Facebook_data\", # -> done,\n",
    "    \"Features_TestSet\", # -> done,\n",
    "    \"House_Price_Adv_Regression\", # -> done,\n",
    "    # \"Instant_Liking\",\n",
    "    \"Insurance\", # -> done,\n",
    "    \"Isolet\",\n",
    "    \"new_data_trans\", # -> done,\n",
    "    \"OnlineNewsPopularity\", # -> done,\n",
    "    \"ParkinsonData\", # -> done,\n",
    "    \"Sberbank_Russian_Housing_Market\", # -> done, Gradiant Boosting remains\n",
    "    \"slice_localization_data\", # -> done,\n",
    "    \"Telecom_data\", # -> done,\n",
    "    \"yearMSD_new\", # -> done,\n",
    "    \"arrhythmia\", # -> done,\n",
    "    \"Big_mart_sales\", # -> done,\n",
    "    \"blogData\", # -> done\n",
    "    \"communities\", # -> done,\n",
    "    \"dengue_features\", # -> done,\n",
    "    \"ECG0_p02\", # -> done,\n",
    "    \"ENERGY_DATA_COMPLETE\", # -> done\n",
    "]\n",
    "\n",
    "x_column_drop = {\n",
    "    \"Facebook_data\": ['Unnamed: 0', 'Total.Interactions'],\n",
    "    \"Features_TestSet\": ['Unnamed: 0', 'Target'],\n",
    "    \"House_Price_Adv_Regression\": ['Unnamed: 0', 'SalePrice'],\n",
    "    # \"Instant_Liking\": ['Instant.Liking'] -> NaN needs to be fixed,\n",
    "    \"Insurance\": ['Unnamed: 0', 'charges'],\n",
    "    \"Isolet\": ['Unnamed: 0', 'Target'], # -> some random error, need to see,\n",
    "    \"new_data_trans\": ['Unnamed: 0', 'X23.Humedad_Exterior_Sensor'],\n",
    "    \"OnlineNewsPopularity\": ['Unnamed: 0', 'shares'],\n",
    "    \"ParkinsonData\": ['Unnamed: 0', 'total_UPDRS'],\n",
    "    \"Sberbank_Russian_Housing_Market\": ['Unnamed: 0', 'price_doc'],\n",
    "    \"slice_localization_data\": ['Unnamed: 0', 'reference'],\n",
    "    \"Telecom_data\": ['Unnamed: 0', 'Churned.Label'],\n",
    "    \"yearMSD_new\": ['Unnamed: 0', 'Year'],\n",
    "    \"arrhythmia\": ['Unnamed: 0', 'Defection'],\n",
    "    \"Big_mart_sales\": ['Unnamed: 0', 'Item_Outlet_Sales'],\n",
    "    \"blogData\": ['Unnamed: 0', 'Comments'],\n",
    "    \"communities\": ['Unnamed: 0','ViolentCrimesPerPop'],\n",
    "    \"dengue_features\": ['Unnamed: 0','total_cases'],\n",
    "    \"ECG0_p02\": ['Unnamed: 0', 'CurrentValue'],\n",
    "    \"ENERGY_DATA_COMPLETE\": ['Unnamed: 0', 'Appliances']\n",
    "}\n",
    "\n",
    "target_column = {\n",
    "    \"Facebook_data\": ['Total.Interactions'],\n",
    "    \"Features_TestSet\": ['Target'],\n",
    "    \"House_Price_Adv_Regression\": ['SalePrice'],\n",
    "    # \"Instant_Liking\": ['Instant.Liking'] -> NaN needs to be fixed,\n",
    "    \"Insurance\": ['charges'],\n",
    "    \"Isolet\": ['Target'], # -> some random error, need to see,\n",
    "    \"new_data_trans\": ['X23.Humedad_Exterior_Sensor'],\n",
    "    \"OnlineNewsPopularity\": ['shares'],\n",
    "    \"ParkinsonData\": ['total_UPDRS'],\n",
    "    \"Sberbank_Russian_Housing_Market\": ['price_doc'],\n",
    "    \"slice_localization_data\": ['reference'],\n",
    "    \"Telecom_data\": ['Churned.Label'],\n",
    "    \"yearMSD_new\": ['Year'],\n",
    "    \"arrhythmia\": ['Defection'],\n",
    "    \"Big_mart_sales\": ['Item_Outlet_Sales'],\n",
    "    \"blogData\": ['Comments'],\n",
    "    \"communities\": ['ViolentCrimesPerPop'],\n",
    "    \"dengue_features\": ['total_cases'],\n",
    "    \"ECG0_p02\": ['CurrentValue'],\n",
    "    \"ENERGY_DATA_COMPLETE\": ['Appliances']\n",
    "}\n",
    "\n",
    "seeds = [1, 50, 100, 150, 200, 250, 300, 350, 400, 450]"
   ]
  },
  {
   "cell_type": "code",
   "execution_count": null,
   "id": "2403c9c7-56e0-4da5-be72-fa4e1ca0953b",
   "metadata": {},
   "outputs": [],
   "source": [
    "# For GB tuned\n",
    "\n",
    "for index, dataset in enumerate(datasets):\n",
    "    df = pd.DataFrame()\n",
    "    print(dataset)\n",
    "    for seed in tqdm(seeds):\n",
    "        csv_path_train = os.path.join(data_dir, dataset, \"Train\", dataset + '_seed_' + str(seed) + '_train.csv')\n",
    "        csv_path_validation = os.path.join(data_dir, dataset, \"Train\", dataset + '_seed_' + str(seed) + '_validation.csv')\n",
    "        csv_path_test = os.path.join(data_dir, dataset, \"Test\", dataset + '_Test_seed' + str(seed) + '_modified.csv')\n",
    "        df_test = pd.read_csv(csv_path_test)\n",
    "        \n",
    "        # print(csv_path_train, csv_path_test)\n",
    "        \n",
    "        X_test = df_test.drop(x_column_drop[dataset], axis = 1)\n",
    "        y_test = df_test[target_column[dataset]]\n",
    "        \n",
    "        details = {\n",
    "            'dataset': dataset,\n",
    "            'seed': str(seed)\n",
    "        }\n",
    "        \n",
    "        # For GB\n",
    "        model_GB = GB_pred_tuned(csv_path_train, csv_path_validation, x_column_drop[dataset], target_column[dataset], details)\n",
    "        \n",
    "        importances = model_GB.feature_importances_\n",
    "        indices = np.argsort(importances)[::-1]\n",
    "        top_k = 10\n",
    "        top_indices = indices[:top_k]\n",
    "        details['best_feature_list'] = np.array(X_test.columns)[indices][0:top_k]\n",
    "        \n",
    "        y_pred = model_GB.predict(X_test)\n",
    "        validation_rmse = mean_squared_error(y_test, y_pred, squared=False)\n",
    "        details['validation_rmse'] = validation_rmse\n",
    "        \n",
    "        df = df.append(details, ignore_index=True)\n",
    "        filepath = Path(dataset + '_GB_tuned.csv')\n",
    "        filepath.parent.mkdir(parents=True, exist_ok=True)\n",
    "        df.to_csv(filepath, index=False)"
   ]
  },
  {
   "cell_type": "code",
   "execution_count": 5,
   "id": "68ddd17a-0cc5-4a5e-8d70-1afd1426e623",
   "metadata": {},
   "outputs": [
    {
     "name": "stdout",
     "output_type": "stream",
     "text": [
      "Facebook_data\n"
     ]
    },
    {
     "name": "stderr",
     "output_type": "stream",
     "text": [
      " 10%|███████████████████▌                                                                                                                                                                                | 1/10 [00:00<00:01,  7.01it/s]"
     ]
    },
    {
     "name": "stdout",
     "output_type": "stream",
     "text": [
      "Training RMSE:  3.1490489947986875 Testing RMSE:  16.518487374832937\n"
     ]
    },
    {
     "name": "stderr",
     "output_type": "stream",
     "text": [
      " 20%|███████████████████████████████████████▏                                                                                                                                                            | 2/10 [00:00<00:00,  8.30it/s]"
     ]
    },
    {
     "name": "stdout",
     "output_type": "stream",
     "text": [
      "Training RMSE:  2.0273017139686367 Testing RMSE:  64.64576950563263\n"
     ]
    },
    {
     "name": "stderr",
     "output_type": "stream",
     "text": [
      " 30%|██████████████████████████████████████████████████████████▊                                                                                                                                         | 3/10 [00:00<00:00,  8.81it/s]"
     ]
    },
    {
     "name": "stdout",
     "output_type": "stream",
     "text": [
      "Training RMSE:  3.311904639147898 Testing RMSE:  20.11076103539841\n"
     ]
    },
    {
     "name": "stderr",
     "output_type": "stream",
     "text": [
      " 40%|██████████████████████████████████████████████████████████████████████████████▍                                                                                                                     | 4/10 [00:00<00:00,  9.10it/s]"
     ]
    },
    {
     "name": "stdout",
     "output_type": "stream",
     "text": [
      "Training RMSE:  2.296482192970555 Testing RMSE:  17.521654258219336\n"
     ]
    },
    {
     "name": "stderr",
     "output_type": "stream",
     "text": [
      " 50%|██████████████████████████████████████████████████████████████████████████████████████████████████                                                                                                  | 5/10 [00:00<00:00,  9.18it/s]"
     ]
    },
    {
     "name": "stdout",
     "output_type": "stream",
     "text": [
      "Training RMSE:  2.7462035554204696 Testing RMSE:  49.67462114719408\n"
     ]
    },
    {
     "name": "stderr",
     "output_type": "stream",
     "text": [
      " 60%|█████████████████████████████████████████████████████████████████████████████████████████████████████████████████████▌                                                                              | 6/10 [00:00<00:00,  9.29it/s]"
     ]
    },
    {
     "name": "stdout",
     "output_type": "stream",
     "text": [
      "Training RMSE:  2.47683861380414 Testing RMSE:  34.37540128437527\n"
     ]
    },
    {
     "name": "stderr",
     "output_type": "stream",
     "text": [
      " 70%|█████████████████████████████████████████████████████████████████████████████████████████████████████████████████████████████████████████▏                                                          | 7/10 [00:00<00:00,  9.36it/s]"
     ]
    },
    {
     "name": "stdout",
     "output_type": "stream",
     "text": [
      "Training RMSE:  2.647600149431045 Testing RMSE:  120.5738023747711\n"
     ]
    },
    {
     "name": "stderr",
     "output_type": "stream",
     "text": [
      " 80%|████████████████████████████████████████████████████████████████████████████████████████████████████████████████████████████████████████████████████████████▊                                       | 8/10 [00:00<00:00,  9.39it/s]"
     ]
    },
    {
     "name": "stdout",
     "output_type": "stream",
     "text": [
      "Training RMSE:  2.2648408157293733 Testing RMSE:  487.96342312308434\n"
     ]
    },
    {
     "name": "stderr",
     "output_type": "stream",
     "text": [
      " 90%|████████████████████████████████████████████████████████████████████████████████████████████████████████████████████████████████████████████████████████████████████████████████▍                   | 9/10 [00:00<00:00,  9.28it/s]"
     ]
    },
    {
     "name": "stdout",
     "output_type": "stream",
     "text": [
      "Training RMSE:  2.933453736075896 Testing RMSE:  33.07283499071468\n"
     ]
    },
    {
     "name": "stderr",
     "output_type": "stream",
     "text": [
      "100%|███████████████████████████████████████████████████████████████████████████████████████████████████████████████████████████████████████████████████████████████████████████████████████████████████| 10/10 [00:01<00:00,  9.05it/s]\n"
     ]
    },
    {
     "name": "stdout",
     "output_type": "stream",
     "text": [
      "Training RMSE:  2.531902784456286 Testing RMSE:  50.791819242323236\n",
      "Features_TestSet\n"
     ]
    },
    {
     "name": "stderr",
     "output_type": "stream",
     "text": [
      " 10%|███████████████████▌                                                                                                                                                                                | 1/10 [00:02<00:19,  2.13s/it]"
     ]
    },
    {
     "name": "stdout",
     "output_type": "stream",
     "text": [
      "Training RMSE:  52.15118610936094 Testing RMSE:  88.54644606905323\n"
     ]
    },
    {
     "name": "stderr",
     "output_type": "stream",
     "text": [
      " 20%|███████████████████████████████████████▏                                                                                                                                                            | 2/10 [00:04<00:16,  2.09s/it]"
     ]
    },
    {
     "name": "stdout",
     "output_type": "stream",
     "text": [
      "Training RMSE:  49.65391937502611 Testing RMSE:  67.1982920359934\n"
     ]
    },
    {
     "name": "stderr",
     "output_type": "stream",
     "text": [
      " 30%|██████████████████████████████████████████████████████████▊                                                                                                                                         | 3/10 [00:06<00:14,  2.10s/it]"
     ]
    },
    {
     "name": "stdout",
     "output_type": "stream",
     "text": [
      "Training RMSE:  54.60105429497353 Testing RMSE:  97.55405240109778\n"
     ]
    },
    {
     "name": "stderr",
     "output_type": "stream",
     "text": [
      " 40%|██████████████████████████████████████████████████████████████████████████████▍                                                                                                                     | 4/10 [00:08<00:12,  2.09s/it]"
     ]
    },
    {
     "name": "stdout",
     "output_type": "stream",
     "text": [
      "Training RMSE:  63.236701724957385 Testing RMSE:  63.30702529172675\n"
     ]
    },
    {
     "name": "stderr",
     "output_type": "stream",
     "text": [
      " 50%|██████████████████████████████████████████████████████████████████████████████████████████████████                                                                                                  | 5/10 [00:10<00:10,  2.08s/it]"
     ]
    },
    {
     "name": "stdout",
     "output_type": "stream",
     "text": [
      "Training RMSE:  49.96764194239114 Testing RMSE:  100.9720685234189\n"
     ]
    },
    {
     "name": "stderr",
     "output_type": "stream",
     "text": [
      " 60%|█████████████████████████████████████████████████████████████████████████████████████████████████████████████████████▌                                                                              | 6/10 [00:12<00:08,  2.07s/it]"
     ]
    },
    {
     "name": "stdout",
     "output_type": "stream",
     "text": [
      "Training RMSE:  59.39230675878525 Testing RMSE:  76.65992529339847\n"
     ]
    },
    {
     "name": "stderr",
     "output_type": "stream",
     "text": [
      " 70%|█████████████████████████████████████████████████████████████████████████████████████████████████████████████████████████████████████████▏                                                          | 7/10 [00:14<00:06,  2.06s/it]"
     ]
    },
    {
     "name": "stdout",
     "output_type": "stream",
     "text": [
      "Training RMSE:  55.42695731046841 Testing RMSE:  63.9626424635785\n"
     ]
    },
    {
     "name": "stderr",
     "output_type": "stream",
     "text": [
      " 80%|████████████████████████████████████████████████████████████████████████████████████████████████████████████████████████████████████████████████████████████▊                                       | 8/10 [00:16<00:04,  2.06s/it]"
     ]
    },
    {
     "name": "stdout",
     "output_type": "stream",
     "text": [
      "Training RMSE:  51.49946474918009 Testing RMSE:  100.77981881576855\n"
     ]
    },
    {
     "name": "stderr",
     "output_type": "stream",
     "text": [
      " 90%|████████████████████████████████████████████████████████████████████████████████████████████████████████████████████████████████████████████████████████████████████████████████▍                   | 9/10 [00:18<00:02,  2.06s/it]"
     ]
    },
    {
     "name": "stdout",
     "output_type": "stream",
     "text": [
      "Training RMSE:  51.96254368333645 Testing RMSE:  98.43055992032181\n"
     ]
    },
    {
     "name": "stderr",
     "output_type": "stream",
     "text": [
      "100%|███████████████████████████████████████████████████████████████████████████████████████████████████████████████████████████████████████████████████████████████████████████████████████████████████| 10/10 [00:20<00:00,  2.07s/it]\n"
     ]
    },
    {
     "name": "stdout",
     "output_type": "stream",
     "text": [
      "Training RMSE:  49.05652052287354 Testing RMSE:  102.07962171191272\n",
      "House_Price_Adv_Regression\n"
     ]
    },
    {
     "name": "stderr",
     "output_type": "stream",
     "text": [
      " 10%|███████████████████▌                                                                                                                                                                                | 1/10 [00:00<00:04,  2.02it/s]"
     ]
    },
    {
     "name": "stdout",
     "output_type": "stream",
     "text": [
      "Training RMSE:  12788.799433633794 Testing RMSE:  29220.86485981488\n"
     ]
    },
    {
     "name": "stderr",
     "output_type": "stream",
     "text": [
      " 20%|███████████████████████████████████████▏                                                                                                                                                            | 2/10 [00:00<00:03,  2.03it/s]"
     ]
    },
    {
     "name": "stdout",
     "output_type": "stream",
     "text": [
      "Training RMSE:  12147.873450708457 Testing RMSE:  27668.228064905714\n"
     ]
    },
    {
     "name": "stderr",
     "output_type": "stream",
     "text": [
      " 30%|██████████████████████████████████████████████████████████▊                                                                                                                                         | 3/10 [00:01<00:03,  2.03it/s]"
     ]
    },
    {
     "name": "stdout",
     "output_type": "stream",
     "text": [
      "Training RMSE:  12805.220271748381 Testing RMSE:  21070.474458228222\n"
     ]
    },
    {
     "name": "stderr",
     "output_type": "stream",
     "text": [
      " 40%|██████████████████████████████████████████████████████████████████████████████▍                                                                                                                     | 4/10 [00:01<00:02,  2.03it/s]"
     ]
    },
    {
     "name": "stdout",
     "output_type": "stream",
     "text": [
      "Training RMSE:  12779.09828694078 Testing RMSE:  22748.484456682738\n"
     ]
    },
    {
     "name": "stderr",
     "output_type": "stream",
     "text": [
      " 50%|██████████████████████████████████████████████████████████████████████████████████████████████████                                                                                                  | 5/10 [00:02<00:02,  2.03it/s]"
     ]
    },
    {
     "name": "stdout",
     "output_type": "stream",
     "text": [
      "Training RMSE:  13066.609981950965 Testing RMSE:  30827.285961500023\n"
     ]
    },
    {
     "name": "stderr",
     "output_type": "stream",
     "text": [
      " 60%|█████████████████████████████████████████████████████████████████████████████████████████████████████████████████████▌                                                                              | 6/10 [00:02<00:01,  2.02it/s]"
     ]
    },
    {
     "name": "stdout",
     "output_type": "stream",
     "text": [
      "Training RMSE:  12883.750854756428 Testing RMSE:  26451.422929834054\n"
     ]
    },
    {
     "name": "stderr",
     "output_type": "stream",
     "text": [
      " 70%|█████████████████████████████████████████████████████████████████████████████████████████████████████████████████████████████████████████▏                                                          | 7/10 [00:03<00:01,  2.03it/s]"
     ]
    },
    {
     "name": "stdout",
     "output_type": "stream",
     "text": [
      "Training RMSE:  12157.673751992192 Testing RMSE:  29090.293630567103\n"
     ]
    },
    {
     "name": "stderr",
     "output_type": "stream",
     "text": [
      " 80%|████████████████████████████████████████████████████████████████████████████████████████████████████████████████████████████████████████████████████████████▊                                       | 8/10 [00:03<00:00,  2.03it/s]"
     ]
    },
    {
     "name": "stdout",
     "output_type": "stream",
     "text": [
      "Training RMSE:  12609.911281557523 Testing RMSE:  28012.30558472725\n"
     ]
    },
    {
     "name": "stderr",
     "output_type": "stream",
     "text": [
      " 90%|████████████████████████████████████████████████████████████████████████████████████████████████████████████████████████████████████████████████████████████████████████████████▍                   | 9/10 [00:04<00:00,  2.03it/s]"
     ]
    },
    {
     "name": "stdout",
     "output_type": "stream",
     "text": [
      "Training RMSE:  11921.739058465117 Testing RMSE:  20305.24945457902\n"
     ]
    },
    {
     "name": "stderr",
     "output_type": "stream",
     "text": [
      "100%|███████████████████████████████████████████████████████████████████████████████████████████████████████████████████████████████████████████████████████████████████████████████████████████████████| 10/10 [00:04<00:00,  2.03it/s]\n"
     ]
    },
    {
     "name": "stdout",
     "output_type": "stream",
     "text": [
      "Training RMSE:  11973.321903962988 Testing RMSE:  54289.81156870014\n",
      "Insurance\n"
     ]
    },
    {
     "name": "stderr",
     "output_type": "stream",
     "text": [
      " 20%|███████████████████████████████████████▏                                                                                                                                                            | 2/10 [00:00<00:00, 13.57it/s]"
     ]
    },
    {
     "name": "stdout",
     "output_type": "stream",
     "text": [
      "Training RMSE:  3569.7059786593263 Testing RMSE:  4182.44484674803\n",
      "Training RMSE:  3650.046489615224 Testing RMSE:  4643.239720735066\n",
      "Training RMSE:  3139.0857648789133 Testing RMSE:  4841.816255088827\n"
     ]
    },
    {
     "name": "stderr",
     "output_type": "stream",
     "text": [
      " 40%|██████████████████████████████████████████████████████████████████████████████▍                                                                                                                     | 4/10 [00:00<00:00, 13.55it/s]"
     ]
    },
    {
     "name": "stdout",
     "output_type": "stream",
     "text": [
      "Training RMSE:  3408.852111222517 Testing RMSE:  4301.464501133388\n",
      "Training RMSE:  3725.5172089508605 Testing RMSE:  4681.389442106449\n"
     ]
    },
    {
     "name": "stderr",
     "output_type": "stream",
     "text": [
      " 60%|█████████████████████████████████████████████████████████████████████████████████████████████████████████████████████▌                                                                              | 6/10 [00:00<00:00, 13.56it/s]"
     ]
    },
    {
     "name": "stdout",
     "output_type": "stream",
     "text": [
      "Training RMSE:  3516.6528235732376 Testing RMSE:  4898.9688736912485\n"
     ]
    },
    {
     "name": "stderr",
     "output_type": "stream",
     "text": [
      " 80%|████████████████████████████████████████████████████████████████████████████████████████████████████████████████████████████████████████████████████████████▊                                       | 8/10 [00:00<00:00, 13.54it/s]"
     ]
    },
    {
     "name": "stdout",
     "output_type": "stream",
     "text": [
      "Training RMSE:  3708.158426626707 Testing RMSE:  4211.201402767776\n",
      "Training RMSE:  3671.7455164758976 Testing RMSE:  3959.1566449171305\n",
      "Training RMSE:  3436.011805229049 Testing RMSE:  4678.699691197621\n"
     ]
    },
    {
     "name": "stderr",
     "output_type": "stream",
     "text": [
      "100%|███████████████████████████████████████████████████████████████████████████████████████████████████████████████████████████████████████████████████████████████████████████████████████████████████| 10/10 [00:00<00:00, 13.51it/s]\n"
     ]
    },
    {
     "name": "stdout",
     "output_type": "stream",
     "text": [
      "Training RMSE:  3552.472496584018 Testing RMSE:  4853.632358980529\n",
      "Isolet\n"
     ]
    },
    {
     "name": "stderr",
     "output_type": "stream",
     "text": [
      " 10%|███████████████████▌                                                                                                                                                                                | 1/10 [00:40<06:05, 40.63s/it]"
     ]
    },
    {
     "name": "stdout",
     "output_type": "stream",
     "text": [
      "Training RMSE:  0.16298694798418875 Testing RMSE:  0.18878999029971485\n"
     ]
    },
    {
     "name": "stderr",
     "output_type": "stream",
     "text": [
      " 20%|███████████████████████████████████████▏                                                                                                                                                            | 2/10 [01:21<05:26, 40.87s/it]"
     ]
    },
    {
     "name": "stdout",
     "output_type": "stream",
     "text": [
      "Training RMSE:  0.16127256723710146 Testing RMSE:  0.1999514632764232\n"
     ]
    },
    {
     "name": "stderr",
     "output_type": "stream",
     "text": [
      " 30%|██████████████████████████████████████████████████████████▊                                                                                                                                         | 3/10 [02:03<04:49, 41.36s/it]"
     ]
    },
    {
     "name": "stdout",
     "output_type": "stream",
     "text": [
      "Training RMSE:  0.16108380213180948 Testing RMSE:  0.19979643212858636\n"
     ]
    },
    {
     "name": "stderr",
     "output_type": "stream",
     "text": [
      " 40%|██████████████████████████████████████████████████████████████████████████████▍                                                                                                                     | 4/10 [02:45<04:09, 41.50s/it]"
     ]
    },
    {
     "name": "stdout",
     "output_type": "stream",
     "text": [
      "Training RMSE:  0.15900033150991458 Testing RMSE:  0.18930573911128398\n"
     ]
    },
    {
     "name": "stderr",
     "output_type": "stream",
     "text": [
      " 50%|██████████████████████████████████████████████████████████████████████████████████████████████████                                                                                                  | 5/10 [03:27<03:27, 41.59s/it]"
     ]
    },
    {
     "name": "stdout",
     "output_type": "stream",
     "text": [
      "Training RMSE:  0.1609821497832985 Testing RMSE:  0.19288545520375852\n"
     ]
    },
    {
     "name": "stderr",
     "output_type": "stream",
     "text": [
      " 60%|█████████████████████████████████████████████████████████████████████████████████████████████████████████████████████▌                                                                              | 6/10 [04:08<02:46, 41.60s/it]"
     ]
    },
    {
     "name": "stdout",
     "output_type": "stream",
     "text": [
      "Training RMSE:  0.16072004410762877 Testing RMSE:  0.19014519033061533\n"
     ]
    },
    {
     "name": "stderr",
     "output_type": "stream",
     "text": [
      " 70%|█████████████████████████████████████████████████████████████████████████████████████████████████████████████████████████████████████████▏                                                          | 7/10 [04:50<02:04, 41.61s/it]"
     ]
    },
    {
     "name": "stdout",
     "output_type": "stream",
     "text": [
      "Training RMSE:  0.16208376414653483 Testing RMSE:  0.19052375796360077\n"
     ]
    },
    {
     "name": "stderr",
     "output_type": "stream",
     "text": [
      " 80%|████████████████████████████████████████████████████████████████████████████████████████████████████████████████████████████████████████████████████████████▊                                       | 8/10 [05:32<01:23, 41.64s/it]"
     ]
    },
    {
     "name": "stdout",
     "output_type": "stream",
     "text": [
      "Training RMSE:  0.16478470491701663 Testing RMSE:  0.18448150632265398\n"
     ]
    },
    {
     "name": "stderr",
     "output_type": "stream",
     "text": [
      " 90%|████████████████████████████████████████████████████████████████████████████████████████████████████████████████████████████████████████████████████████████████████████████████▍                   | 9/10 [06:13<00:41, 41.61s/it]"
     ]
    },
    {
     "name": "stdout",
     "output_type": "stream",
     "text": [
      "Training RMSE:  0.16032021826402218 Testing RMSE:  0.19971600233597045\n"
     ]
    },
    {
     "name": "stderr",
     "output_type": "stream",
     "text": [
      "100%|███████████████████████████████████████████████████████████████████████████████████████████████████████████████████████████████████████████████████████████████████████████████████████████████████| 10/10 [06:55<00:00, 41.52s/it]\n"
     ]
    },
    {
     "name": "stdout",
     "output_type": "stream",
     "text": [
      "Training RMSE:  0.16178838035220214 Testing RMSE:  0.19226927566167099\n",
      "new_data_trans\n"
     ]
    },
    {
     "name": "stderr",
     "output_type": "stream",
     "text": [
      " 10%|███████████████████▌                                                                                                                                                                                | 1/10 [00:00<00:04,  2.16it/s]"
     ]
    },
    {
     "name": "stdout",
     "output_type": "stream",
     "text": [
      "Training RMSE:  2.276921521871177 Testing RMSE:  2.7444502906707293\n"
     ]
    },
    {
     "name": "stderr",
     "output_type": "stream",
     "text": [
      " 20%|███████████████████████████████████████▏                                                                                                                                                            | 2/10 [00:00<00:03,  2.13it/s]"
     ]
    },
    {
     "name": "stdout",
     "output_type": "stream",
     "text": [
      "Training RMSE:  2.3024847493358083 Testing RMSE:  2.723293880351289\n"
     ]
    },
    {
     "name": "stderr",
     "output_type": "stream",
     "text": [
      " 30%|██████████████████████████████████████████████████████████▊                                                                                                                                         | 3/10 [00:01<00:03,  2.15it/s]"
     ]
    },
    {
     "name": "stdout",
     "output_type": "stream",
     "text": [
      "Training RMSE:  2.298916382605879 Testing RMSE:  2.604045469525744\n"
     ]
    },
    {
     "name": "stderr",
     "output_type": "stream",
     "text": [
      " 40%|██████████████████████████████████████████████████████████████████████████████▍                                                                                                                     | 4/10 [00:01<00:02,  2.14it/s]"
     ]
    },
    {
     "name": "stdout",
     "output_type": "stream",
     "text": [
      "Training RMSE:  2.2721512240618913 Testing RMSE:  2.65378514427359\n"
     ]
    },
    {
     "name": "stderr",
     "output_type": "stream",
     "text": [
      " 50%|██████████████████████████████████████████████████████████████████████████████████████████████████                                                                                                  | 5/10 [00:02<00:02,  2.15it/s]"
     ]
    },
    {
     "name": "stdout",
     "output_type": "stream",
     "text": [
      "Training RMSE:  2.321458579280115 Testing RMSE:  2.851783876230694\n"
     ]
    },
    {
     "name": "stderr",
     "output_type": "stream",
     "text": [
      " 60%|█████████████████████████████████████████████████████████████████████████████████████████████████████████████████████▌                                                                              | 6/10 [00:02<00:01,  2.14it/s]"
     ]
    },
    {
     "name": "stdout",
     "output_type": "stream",
     "text": [
      "Training RMSE:  2.3394507594358203 Testing RMSE:  2.828589919298459\n"
     ]
    },
    {
     "name": "stderr",
     "output_type": "stream",
     "text": [
      " 70%|█████████████████████████████████████████████████████████████████████████████████████████████████████████████████████████████████████████▏                                                          | 7/10 [00:03<00:01,  2.15it/s]"
     ]
    },
    {
     "name": "stdout",
     "output_type": "stream",
     "text": [
      "Training RMSE:  2.1947508940472016 Testing RMSE:  2.73281787675687\n"
     ]
    },
    {
     "name": "stderr",
     "output_type": "stream",
     "text": [
      " 80%|████████████████████████████████████████████████████████████████████████████████████████████████████████████████████████████████████████████████████████████▊                                       | 8/10 [00:03<00:00,  2.13it/s]"
     ]
    },
    {
     "name": "stdout",
     "output_type": "stream",
     "text": [
      "Training RMSE:  2.2720664698483515 Testing RMSE:  2.736020631771219\n"
     ]
    },
    {
     "name": "stderr",
     "output_type": "stream",
     "text": [
      " 90%|████████████████████████████████████████████████████████████████████████████████████████████████████████████████████████████████████████████████████████████████████████████████▍                   | 9/10 [00:04<00:00,  2.13it/s]"
     ]
    },
    {
     "name": "stdout",
     "output_type": "stream",
     "text": [
      "Training RMSE:  2.261121436512034 Testing RMSE:  2.8628326785147324\n"
     ]
    },
    {
     "name": "stderr",
     "output_type": "stream",
     "text": [
      "100%|███████████████████████████████████████████████████████████████████████████████████████████████████████████████████████████████████████████████████████████████████████████████████████████████████| 10/10 [00:04<00:00,  2.14it/s]\n"
     ]
    },
    {
     "name": "stdout",
     "output_type": "stream",
     "text": [
      "Training RMSE:  2.343917497849507 Testing RMSE:  2.8426837601982533\n",
      "OnlineNewsPopularity\n"
     ]
    },
    {
     "name": "stderr",
     "output_type": "stream",
     "text": [
      " 10%|███████████████████▌                                                                                                                                                                                | 1/10 [00:16<02:24, 16.05s/it]"
     ]
    },
    {
     "name": "stdout",
     "output_type": "stream",
     "text": [
      "Training RMSE:  8719.71625892466 Testing RMSE:  11959.958379579492\n"
     ]
    },
    {
     "name": "stderr",
     "output_type": "stream",
     "text": [
      " 20%|███████████████████████████████████████▏                                                                                                                                                            | 2/10 [00:31<02:07, 15.98s/it]"
     ]
    },
    {
     "name": "stdout",
     "output_type": "stream",
     "text": [
      "Training RMSE:  8454.826621933023 Testing RMSE:  15313.715161030428\n"
     ]
    },
    {
     "name": "stderr",
     "output_type": "stream",
     "text": [
      " 30%|██████████████████████████████████████████████████████████▊                                                                                                                                         | 3/10 [00:47<01:50, 15.86s/it]"
     ]
    },
    {
     "name": "stdout",
     "output_type": "stream",
     "text": [
      "Training RMSE:  8637.789718256792 Testing RMSE:  8520.122697337538\n"
     ]
    },
    {
     "name": "stderr",
     "output_type": "stream",
     "text": [
      " 40%|██████████████████████████████████████████████████████████████████████████████▍                                                                                                                     | 4/10 [01:03<01:34, 15.82s/it]"
     ]
    },
    {
     "name": "stdout",
     "output_type": "stream",
     "text": [
      "Training RMSE:  9525.85256675981 Testing RMSE:  11240.307520364107\n"
     ]
    },
    {
     "name": "stderr",
     "output_type": "stream",
     "text": [
      " 50%|██████████████████████████████████████████████████████████████████████████████████████████████████                                                                                                  | 5/10 [01:19<01:19, 15.80s/it]"
     ]
    },
    {
     "name": "stdout",
     "output_type": "stream",
     "text": [
      "Training RMSE:  8069.6433371326275 Testing RMSE:  9540.440932182617\n"
     ]
    },
    {
     "name": "stderr",
     "output_type": "stream",
     "text": [
      " 60%|█████████████████████████████████████████████████████████████████████████████████████████████████████████████████████▌                                                                              | 6/10 [01:34<01:03, 15.78s/it]"
     ]
    },
    {
     "name": "stdout",
     "output_type": "stream",
     "text": [
      "Training RMSE:  8143.540651189748 Testing RMSE:  16086.004411603237\n"
     ]
    },
    {
     "name": "stderr",
     "output_type": "stream",
     "text": [
      " 70%|█████████████████████████████████████████████████████████████████████████████████████████████████████████████████████████████████████████▏                                                          | 7/10 [01:50<00:47, 15.79s/it]"
     ]
    },
    {
     "name": "stdout",
     "output_type": "stream",
     "text": [
      "Training RMSE:  8301.844745098328 Testing RMSE:  12016.400295566009\n"
     ]
    },
    {
     "name": "stderr",
     "output_type": "stream",
     "text": [
      " 80%|████████████████████████████████████████████████████████████████████████████████████████████████████████████████████████████████████████████████████████████▊                                       | 8/10 [02:06<00:31, 15.78s/it]"
     ]
    },
    {
     "name": "stdout",
     "output_type": "stream",
     "text": [
      "Training RMSE:  9035.503357062216 Testing RMSE:  11388.170400328368\n"
     ]
    },
    {
     "name": "stderr",
     "output_type": "stream",
     "text": [
      " 90%|████████████████████████████████████████████████████████████████████████████████████████████████████████████████████████████████████████████████████████████████████████████████▍                   | 9/10 [02:22<00:15, 15.76s/it]"
     ]
    },
    {
     "name": "stdout",
     "output_type": "stream",
     "text": [
      "Training RMSE:  9371.862515979969 Testing RMSE:  7408.387326766352\n"
     ]
    },
    {
     "name": "stderr",
     "output_type": "stream",
     "text": [
      "100%|███████████████████████████████████████████████████████████████████████████████████████████████████████████████████████████████████████████████████████████████████████████████████████████████████| 10/10 [02:38<00:00, 15.81s/it]\n"
     ]
    },
    {
     "name": "stdout",
     "output_type": "stream",
     "text": [
      "Training RMSE:  8811.314518191424 Testing RMSE:  7118.723272729139\n",
      "ParkinsonData\n"
     ]
    },
    {
     "name": "stderr",
     "output_type": "stream",
     "text": [
      " 10%|███████████████████▌                                                                                                                                                                                | 1/10 [00:01<00:11,  1.26s/it]"
     ]
    },
    {
     "name": "stdout",
     "output_type": "stream",
     "text": [
      "Training RMSE:  1.4286730725402201 Testing RMSE:  1.5315259586470007\n"
     ]
    },
    {
     "name": "stderr",
     "output_type": "stream",
     "text": [
      " 20%|███████████████████████████████████████▏                                                                                                                                                            | 2/10 [00:02<00:10,  1.26s/it]"
     ]
    },
    {
     "name": "stdout",
     "output_type": "stream",
     "text": [
      "Training RMSE:  1.468090457062437 Testing RMSE:  1.570451927816659\n"
     ]
    },
    {
     "name": "stderr",
     "output_type": "stream",
     "text": [
      " 30%|██████████████████████████████████████████████████████████▊                                                                                                                                         | 3/10 [00:03<00:08,  1.26s/it]"
     ]
    },
    {
     "name": "stdout",
     "output_type": "stream",
     "text": [
      "Training RMSE:  1.398845245859764 Testing RMSE:  1.4733230167822269\n"
     ]
    },
    {
     "name": "stderr",
     "output_type": "stream",
     "text": [
      " 40%|██████████████████████████████████████████████████████████████████████████████▍                                                                                                                     | 4/10 [00:05<00:07,  1.26s/it]"
     ]
    },
    {
     "name": "stdout",
     "output_type": "stream",
     "text": [
      "Training RMSE:  1.3799391306359199 Testing RMSE:  1.4835096191141048\n"
     ]
    },
    {
     "name": "stderr",
     "output_type": "stream",
     "text": [
      " 50%|██████████████████████████████████████████████████████████████████████████████████████████████████                                                                                                  | 5/10 [00:06<00:06,  1.25s/it]"
     ]
    },
    {
     "name": "stdout",
     "output_type": "stream",
     "text": [
      "Training RMSE:  1.4433315353167155 Testing RMSE:  1.529079959319239\n"
     ]
    },
    {
     "name": "stderr",
     "output_type": "stream",
     "text": [
      " 60%|█████████████████████████████████████████████████████████████████████████████████████████████████████████████████████▌                                                                              | 6/10 [00:07<00:05,  1.25s/it]"
     ]
    },
    {
     "name": "stdout",
     "output_type": "stream",
     "text": [
      "Training RMSE:  1.4319846211876839 Testing RMSE:  1.439047908981686\n"
     ]
    },
    {
     "name": "stderr",
     "output_type": "stream",
     "text": [
      " 70%|█████████████████████████████████████████████████████████████████████████████████████████████████████████████████████████████████████████▏                                                          | 7/10 [00:08<00:03,  1.25s/it]"
     ]
    },
    {
     "name": "stdout",
     "output_type": "stream",
     "text": [
      "Training RMSE:  1.455421045180306 Testing RMSE:  1.6566851622064547\n"
     ]
    },
    {
     "name": "stderr",
     "output_type": "stream",
     "text": [
      " 80%|████████████████████████████████████████████████████████████████████████████████████████████████████████████████████████████████████████████████████████████▊                                       | 8/10 [00:10<00:02,  1.25s/it]"
     ]
    },
    {
     "name": "stdout",
     "output_type": "stream",
     "text": [
      "Training RMSE:  1.3849847777527435 Testing RMSE:  1.479323969974863\n"
     ]
    },
    {
     "name": "stderr",
     "output_type": "stream",
     "text": [
      " 90%|████████████████████████████████████████████████████████████████████████████████████████████████████████████████████████████████████████████████████████████████████████████████▍                   | 9/10 [00:11<00:01,  1.26s/it]"
     ]
    },
    {
     "name": "stdout",
     "output_type": "stream",
     "text": [
      "Training RMSE:  1.4353298416951183 Testing RMSE:  1.5606735206678515\n"
     ]
    },
    {
     "name": "stderr",
     "output_type": "stream",
     "text": [
      "100%|███████████████████████████████████████████████████████████████████████████████████████████████████████████████████████████████████████████████████████████████████████████████████████████████████| 10/10 [00:12<00:00,  1.26s/it]\n"
     ]
    },
    {
     "name": "stdout",
     "output_type": "stream",
     "text": [
      "Training RMSE:  1.394558438562097 Testing RMSE:  1.4537889840711842\n",
      "Sberbank_Russian_Housing_Market\n"
     ]
    },
    {
     "name": "stderr",
     "output_type": "stream",
     "text": [
      " 10%|███████████████████▌                                                                                                                                                                                | 1/10 [00:19<02:52, 19.20s/it]"
     ]
    },
    {
     "name": "stdout",
     "output_type": "stream",
     "text": [
      "Training RMSE:  2142728.888111471 Testing RMSE:  2547627.9608465554\n"
     ]
    },
    {
     "name": "stderr",
     "output_type": "stream",
     "text": [
      " 20%|███████████████████████████████████████▏                                                                                                                                                            | 2/10 [00:38<02:34, 19.28s/it]"
     ]
    },
    {
     "name": "stdout",
     "output_type": "stream",
     "text": [
      "Training RMSE:  2110573.325937479 Testing RMSE:  3000438.8762932615\n"
     ]
    },
    {
     "name": "stderr",
     "output_type": "stream",
     "text": [
      " 30%|██████████████████████████████████████████████████████████▊                                                                                                                                         | 3/10 [00:57<02:14, 19.27s/it]"
     ]
    },
    {
     "name": "stdout",
     "output_type": "stream",
     "text": [
      "Training RMSE:  2135234.6197283436 Testing RMSE:  2829288.3134994255\n"
     ]
    },
    {
     "name": "stderr",
     "output_type": "stream",
     "text": [
      " 40%|██████████████████████████████████████████████████████████████████████████████▍                                                                                                                     | 4/10 [01:17<01:55, 19.26s/it]"
     ]
    },
    {
     "name": "stdout",
     "output_type": "stream",
     "text": [
      "Training RMSE:  2168688.1172023723 Testing RMSE:  2444602.216407528\n"
     ]
    },
    {
     "name": "stderr",
     "output_type": "stream",
     "text": [
      " 50%|██████████████████████████████████████████████████████████████████████████████████████████████████                                                                                                  | 5/10 [01:36<01:36, 19.28s/it]"
     ]
    },
    {
     "name": "stdout",
     "output_type": "stream",
     "text": [
      "Training RMSE:  2183996.2357130125 Testing RMSE:  2474367.2272232464\n"
     ]
    },
    {
     "name": "stderr",
     "output_type": "stream",
     "text": [
      " 60%|█████████████████████████████████████████████████████████████████████████████████████████████████████████████████████▌                                                                              | 6/10 [01:55<01:17, 19.35s/it]"
     ]
    },
    {
     "name": "stdout",
     "output_type": "stream",
     "text": [
      "Training RMSE:  2178356.553215733 Testing RMSE:  2789665.819771106\n"
     ]
    },
    {
     "name": "stderr",
     "output_type": "stream",
     "text": [
      " 70%|█████████████████████████████████████████████████████████████████████████████████████████████████████████████████████████████████████████▏                                                          | 7/10 [02:15<00:57, 19.33s/it]"
     ]
    },
    {
     "name": "stdout",
     "output_type": "stream",
     "text": [
      "Training RMSE:  2167133.778865215 Testing RMSE:  2727263.834184271\n"
     ]
    },
    {
     "name": "stderr",
     "output_type": "stream",
     "text": [
      " 80%|████████████████████████████████████████████████████████████████████████████████████████████████████████████████████████████████████████████████████████████▊                                       | 8/10 [02:34<00:38, 19.38s/it]"
     ]
    },
    {
     "name": "stdout",
     "output_type": "stream",
     "text": [
      "Training RMSE:  2192196.64200154 Testing RMSE:  2564369.3629936315\n"
     ]
    },
    {
     "name": "stderr",
     "output_type": "stream",
     "text": [
      " 90%|████████████████████████████████████████████████████████████████████████████████████████████████████████████████████████████████████████████████████████████████████████████████▍                   | 9/10 [02:54<00:19, 19.40s/it]"
     ]
    },
    {
     "name": "stdout",
     "output_type": "stream",
     "text": [
      "Training RMSE:  2200174.316794118 Testing RMSE:  2655858.9328332297\n"
     ]
    },
    {
     "name": "stderr",
     "output_type": "stream",
     "text": [
      "100%|███████████████████████████████████████████████████████████████████████████████████████████████████████████████████████████████████████████████████████████████████████████████████████████████████| 10/10 [03:13<00:00, 19.34s/it]\n"
     ]
    },
    {
     "name": "stdout",
     "output_type": "stream",
     "text": [
      "Training RMSE:  2161715.291095068 Testing RMSE:  2633367.98541634\n",
      "slice_localization_data\n"
     ]
    },
    {
     "name": "stderr",
     "output_type": "stream",
     "text": [
      " 10%|███████████████████▌                                                                                                                                                                                | 1/10 [01:12<10:50, 72.27s/it]"
     ]
    },
    {
     "name": "stdout",
     "output_type": "stream",
     "text": [
      "Training RMSE:  5.8334155772315075 Testing RMSE:  6.113603860194434\n"
     ]
    },
    {
     "name": "stderr",
     "output_type": "stream",
     "text": [
      " 20%|███████████████████████████████████████▏                                                                                                                                                            | 2/10 [02:24<09:38, 72.30s/it]"
     ]
    },
    {
     "name": "stdout",
     "output_type": "stream",
     "text": [
      "Training RMSE:  5.817703550817182 Testing RMSE:  5.861280296599916\n"
     ]
    },
    {
     "name": "stderr",
     "output_type": "stream",
     "text": [
      " 30%|██████████████████████████████████████████████████████████▊                                                                                                                                         | 3/10 [03:36<08:25, 72.19s/it]"
     ]
    },
    {
     "name": "stdout",
     "output_type": "stream",
     "text": [
      "Training RMSE:  5.794670637245884 Testing RMSE:  6.1302872980004\n"
     ]
    },
    {
     "name": "stderr",
     "output_type": "stream",
     "text": [
      " 40%|██████████████████████████████████████████████████████████████████████████████▍                                                                                                                     | 4/10 [04:48<07:12, 72.04s/it]"
     ]
    },
    {
     "name": "stdout",
     "output_type": "stream",
     "text": [
      "Training RMSE:  5.809001680864862 Testing RMSE:  5.9898235007178595\n"
     ]
    },
    {
     "name": "stderr",
     "output_type": "stream",
     "text": [
      " 50%|██████████████████████████████████████████████████████████████████████████████████████████████████                                                                                                  | 5/10 [06:00<06:00, 72.03s/it]"
     ]
    },
    {
     "name": "stdout",
     "output_type": "stream",
     "text": [
      "Training RMSE:  5.789273377882691 Testing RMSE:  6.043061100853527\n"
     ]
    },
    {
     "name": "stderr",
     "output_type": "stream",
     "text": [
      " 60%|█████████████████████████████████████████████████████████████████████████████████████████████████████████████████████▌                                                                              | 6/10 [07:12<04:47, 71.97s/it]"
     ]
    },
    {
     "name": "stdout",
     "output_type": "stream",
     "text": [
      "Training RMSE:  5.781057038548521 Testing RMSE:  5.898037650394096\n"
     ]
    },
    {
     "name": "stderr",
     "output_type": "stream",
     "text": [
      " 70%|█████████████████████████████████████████████████████████████████████████████████████████████████████████████████████████████████████████▏                                                          | 7/10 [08:23<03:35, 71.82s/it]"
     ]
    },
    {
     "name": "stdout",
     "output_type": "stream",
     "text": [
      "Training RMSE:  5.818093567748587 Testing RMSE:  6.094920301347074\n"
     ]
    },
    {
     "name": "stderr",
     "output_type": "stream",
     "text": [
      " 80%|████████████████████████████████████████████████████████████████████████████████████████████████████████████████████████████████████████████████████████████▊                                       | 8/10 [09:35<02:23, 71.88s/it]"
     ]
    },
    {
     "name": "stdout",
     "output_type": "stream",
     "text": [
      "Training RMSE:  5.814100420574985 Testing RMSE:  6.111379006117948\n"
     ]
    },
    {
     "name": "stderr",
     "output_type": "stream",
     "text": [
      " 90%|████████████████████████████████████████████████████████████████████████████████████████████████████████████████████████████████████████████████████████████████████████████████▍                   | 9/10 [10:47<01:11, 71.96s/it]"
     ]
    },
    {
     "name": "stdout",
     "output_type": "stream",
     "text": [
      "Training RMSE:  5.792367509116818 Testing RMSE:  6.015849283432256\n"
     ]
    },
    {
     "name": "stderr",
     "output_type": "stream",
     "text": [
      "100%|███████████████████████████████████████████████████████████████████████████████████████████████████████████████████████████████████████████████████████████████████████████████████████████████████| 10/10 [12:00<00:00, 72.01s/it]\n"
     ]
    },
    {
     "name": "stdout",
     "output_type": "stream",
     "text": [
      "Training RMSE:  5.8290395513378055 Testing RMSE:  6.025599458522634\n",
      "Telecom_data\n"
     ]
    },
    {
     "name": "stderr",
     "output_type": "stream",
     "text": [
      " 10%|███████████████████▌                                                                                                                                                                                | 1/10 [00:00<00:04,  1.93it/s]"
     ]
    },
    {
     "name": "stdout",
     "output_type": "stream",
     "text": [
      "Training RMSE:  0.18671108189651228 Testing RMSE:  0.22016384532734398\n"
     ]
    },
    {
     "name": "stderr",
     "output_type": "stream",
     "text": [
      " 20%|███████████████████████████████████████▏                                                                                                                                                            | 2/10 [00:01<00:04,  1.93it/s]"
     ]
    },
    {
     "name": "stdout",
     "output_type": "stream",
     "text": [
      "Training RMSE:  0.16585802470350053 Testing RMSE:  0.23764044512674737\n"
     ]
    },
    {
     "name": "stderr",
     "output_type": "stream",
     "text": [
      " 30%|██████████████████████████████████████████████████████████▊                                                                                                                                         | 3/10 [00:01<00:03,  1.94it/s]"
     ]
    },
    {
     "name": "stdout",
     "output_type": "stream",
     "text": [
      "Training RMSE:  0.1836354836861924 Testing RMSE:  0.2053949411408719\n"
     ]
    },
    {
     "name": "stderr",
     "output_type": "stream",
     "text": [
      " 40%|██████████████████████████████████████████████████████████████████████████████▍                                                                                                                     | 4/10 [00:02<00:03,  1.94it/s]"
     ]
    },
    {
     "name": "stdout",
     "output_type": "stream",
     "text": [
      "Training RMSE:  0.18152692799312628 Testing RMSE:  0.24200205965242072\n"
     ]
    },
    {
     "name": "stderr",
     "output_type": "stream",
     "text": [
      " 50%|██████████████████████████████████████████████████████████████████████████████████████████████████                                                                                                  | 5/10 [00:02<00:02,  1.94it/s]"
     ]
    },
    {
     "name": "stdout",
     "output_type": "stream",
     "text": [
      "Training RMSE:  0.16443567912607226 Testing RMSE:  0.21872431864690464\n"
     ]
    },
    {
     "name": "stderr",
     "output_type": "stream",
     "text": [
      " 60%|█████████████████████████████████████████████████████████████████████████████████████████████████████████████████████▌                                                                              | 6/10 [00:03<00:02,  1.94it/s]"
     ]
    },
    {
     "name": "stdout",
     "output_type": "stream",
     "text": [
      "Training RMSE:  0.1810996265490227 Testing RMSE:  0.22205433244429112\n"
     ]
    },
    {
     "name": "stderr",
     "output_type": "stream",
     "text": [
      " 70%|█████████████████████████████████████████████████████████████████████████████████████████████████████████████████████████████████████████▏                                                          | 7/10 [00:03<00:01,  1.95it/s]"
     ]
    },
    {
     "name": "stdout",
     "output_type": "stream",
     "text": [
      "Training RMSE:  0.18806669495545278 Testing RMSE:  0.21410412002456994\n"
     ]
    },
    {
     "name": "stderr",
     "output_type": "stream",
     "text": [
      " 80%|████████████████████████████████████████████████████████████████████████████████████████████████████████████████████████████████████████████████████████████▊                                       | 8/10 [00:04<00:01,  1.95it/s]"
     ]
    },
    {
     "name": "stdout",
     "output_type": "stream",
     "text": [
      "Training RMSE:  0.17546721396676454 Testing RMSE:  0.24004264442645076\n"
     ]
    },
    {
     "name": "stderr",
     "output_type": "stream",
     "text": [
      " 90%|████████████████████████████████████████████████████████████████████████████████████████████████████████████████████████████████████████████████████████████████████████████████▍                   | 9/10 [00:04<00:00,  1.95it/s]"
     ]
    },
    {
     "name": "stdout",
     "output_type": "stream",
     "text": [
      "Training RMSE:  0.1804897946696197 Testing RMSE:  0.22864884091450333\n"
     ]
    },
    {
     "name": "stderr",
     "output_type": "stream",
     "text": [
      "100%|███████████████████████████████████████████████████████████████████████████████████████████████████████████████████████████████████████████████████████████████████████████████████████████████████| 10/10 [00:05<00:00,  1.95it/s]\n"
     ]
    },
    {
     "name": "stdout",
     "output_type": "stream",
     "text": [
      "Training RMSE:  0.19132207027264858 Testing RMSE:  0.21991204526203803\n",
      "yearMSD_new\n"
     ]
    },
    {
     "name": "stderr",
     "output_type": "stream",
     "text": [
      " 10%|███████████████████▌                                                                                                                                                                                | 1/10 [01:13<11:01, 73.50s/it]"
     ]
    },
    {
     "name": "stdout",
     "output_type": "stream",
     "text": [
      "Training RMSE:  9.048783010969052 Testing RMSE:  9.242710887334026\n"
     ]
    },
    {
     "name": "stderr",
     "output_type": "stream",
     "text": [
      " 20%|███████████████████████████████████████▏                                                                                                                                                            | 2/10 [02:26<09:47, 73.49s/it]"
     ]
    },
    {
     "name": "stdout",
     "output_type": "stream",
     "text": [
      "Training RMSE:  9.025970443671417 Testing RMSE:  9.255207755345324\n"
     ]
    },
    {
     "name": "stderr",
     "output_type": "stream",
     "text": [
      " 30%|██████████████████████████████████████████████████████████▊                                                                                                                                         | 3/10 [03:40<08:34, 73.48s/it]"
     ]
    },
    {
     "name": "stdout",
     "output_type": "stream",
     "text": [
      "Training RMSE:  9.11854735446702 Testing RMSE:  9.24435911304646\n"
     ]
    },
    {
     "name": "stderr",
     "output_type": "stream",
     "text": [
      " 40%|██████████████████████████████████████████████████████████████████████████████▍                                                                                                                     | 4/10 [04:54<07:21, 73.56s/it]"
     ]
    },
    {
     "name": "stdout",
     "output_type": "stream",
     "text": [
      "Training RMSE:  8.987501063918979 Testing RMSE:  9.539300668305327\n"
     ]
    },
    {
     "name": "stderr",
     "output_type": "stream",
     "text": [
      " 50%|██████████████████████████████████████████████████████████████████████████████████████████████████                                                                                                  | 5/10 [06:07<06:06, 73.40s/it]"
     ]
    },
    {
     "name": "stdout",
     "output_type": "stream",
     "text": [
      "Training RMSE:  9.09559216299351 Testing RMSE:  9.197885346551976\n"
     ]
    },
    {
     "name": "stderr",
     "output_type": "stream",
     "text": [
      " 60%|█████████████████████████████████████████████████████████████████████████████████████████████████████████████████████▌                                                                              | 6/10 [07:20<04:53, 73.42s/it]"
     ]
    },
    {
     "name": "stdout",
     "output_type": "stream",
     "text": [
      "Training RMSE:  9.055954421739395 Testing RMSE:  9.469670422597467\n"
     ]
    },
    {
     "name": "stderr",
     "output_type": "stream",
     "text": [
      " 70%|█████████████████████████████████████████████████████████████████████████████████████████████████████████████████████████████████████████▏                                                          | 7/10 [08:34<03:40, 73.46s/it]"
     ]
    },
    {
     "name": "stdout",
     "output_type": "stream",
     "text": [
      "Training RMSE:  9.070375458864406 Testing RMSE:  9.27462843268191\n"
     ]
    },
    {
     "name": "stderr",
     "output_type": "stream",
     "text": [
      " 80%|████████████████████████████████████████████████████████████████████████████████████████████████████████████████████████████████████████████████████████████▊                                       | 8/10 [09:47<02:26, 73.36s/it]"
     ]
    },
    {
     "name": "stdout",
     "output_type": "stream",
     "text": [
      "Training RMSE:  9.062917203473628 Testing RMSE:  9.318553992505334\n"
     ]
    },
    {
     "name": "stderr",
     "output_type": "stream",
     "text": [
      " 90%|████████████████████████████████████████████████████████████████████████████████████████████████████████████████████████████████████████████████████████████████████████████████▍                   | 9/10 [11:01<01:13, 73.45s/it]"
     ]
    },
    {
     "name": "stdout",
     "output_type": "stream",
     "text": [
      "Training RMSE:  9.060945402722506 Testing RMSE:  9.333312472037454\n"
     ]
    },
    {
     "name": "stderr",
     "output_type": "stream",
     "text": [
      "100%|███████████████████████████████████████████████████████████████████████████████████████████████████████████████████████████████████████████████████████████████████████████████████████████████████| 10/10 [12:13<00:00, 73.39s/it]\n"
     ]
    },
    {
     "name": "stdout",
     "output_type": "stream",
     "text": [
      "Training RMSE:  9.000106924211336 Testing RMSE:  9.297190400590788\n",
      "arrhythmia\n"
     ]
    },
    {
     "name": "stderr",
     "output_type": "stream",
     "text": [
      " 10%|███████████████████▌                                                                                                                                                                                | 1/10 [00:00<00:04,  2.07it/s]"
     ]
    },
    {
     "name": "stdout",
     "output_type": "stream",
     "text": [
      "Training RMSE:  0.9090015179585226 Testing RMSE:  4.510271114486179\n"
     ]
    },
    {
     "name": "stderr",
     "output_type": "stream",
     "text": [
      " 20%|███████████████████████████████████████▏                                                                                                                                                            | 2/10 [00:00<00:03,  2.08it/s]"
     ]
    },
    {
     "name": "stdout",
     "output_type": "stream",
     "text": [
      "Training RMSE:  1.102049585133927 Testing RMSE:  5.312168490514631\n"
     ]
    },
    {
     "name": "stderr",
     "output_type": "stream",
     "text": [
      " 30%|██████████████████████████████████████████████████████████▊                                                                                                                                         | 3/10 [00:01<00:03,  2.08it/s]"
     ]
    },
    {
     "name": "stdout",
     "output_type": "stream",
     "text": [
      "Training RMSE:  0.8941181754764912 Testing RMSE:  9.998728506232759\n"
     ]
    },
    {
     "name": "stderr",
     "output_type": "stream",
     "text": [
      " 40%|██████████████████████████████████████████████████████████████████████████████▍                                                                                                                     | 4/10 [00:01<00:02,  2.08it/s]"
     ]
    },
    {
     "name": "stdout",
     "output_type": "stream",
     "text": [
      "Training RMSE:  0.9704113779852729 Testing RMSE:  4.487973607338949\n"
     ]
    },
    {
     "name": "stderr",
     "output_type": "stream",
     "text": [
      " 50%|██████████████████████████████████████████████████████████████████████████████████████████████████                                                                                                  | 5/10 [00:02<00:02,  2.07it/s]"
     ]
    },
    {
     "name": "stdout",
     "output_type": "stream",
     "text": [
      "Training RMSE:  1.0312569589709544 Testing RMSE:  5.429020689150606\n"
     ]
    },
    {
     "name": "stderr",
     "output_type": "stream",
     "text": [
      " 60%|█████████████████████████████████████████████████████████████████████████████████████████████████████████████████████▌                                                                              | 6/10 [00:02<00:01,  2.08it/s]"
     ]
    },
    {
     "name": "stdout",
     "output_type": "stream",
     "text": [
      "Training RMSE:  1.0937761690446661 Testing RMSE:  5.938844424049875\n"
     ]
    },
    {
     "name": "stderr",
     "output_type": "stream",
     "text": [
      " 70%|█████████████████████████████████████████████████████████████████████████████████████████████████████████████████████████████████████████▏                                                          | 7/10 [00:03<00:01,  2.08it/s]"
     ]
    },
    {
     "name": "stdout",
     "output_type": "stream",
     "text": [
      "Training RMSE:  0.9502300347816288 Testing RMSE:  5.272545388049532\n"
     ]
    },
    {
     "name": "stderr",
     "output_type": "stream",
     "text": [
      " 80%|████████████████████████████████████████████████████████████████████████████████████████████████████████████████████████████████████████████████████████████▊                                       | 8/10 [00:03<00:00,  2.09it/s]"
     ]
    },
    {
     "name": "stdout",
     "output_type": "stream",
     "text": [
      "Training RMSE:  0.9710378721066799 Testing RMSE:  4.188924853722205\n"
     ]
    },
    {
     "name": "stderr",
     "output_type": "stream",
     "text": [
      " 90%|████████████████████████████████████████████████████████████████████████████████████████████████████████████████████████████████████████████████████████████████████████████████▍                   | 9/10 [00:04<00:00,  2.09it/s]"
     ]
    },
    {
     "name": "stdout",
     "output_type": "stream",
     "text": [
      "Training RMSE:  1.0289153083352582 Testing RMSE:  7.4108536045392945\n"
     ]
    },
    {
     "name": "stderr",
     "output_type": "stream",
     "text": [
      "100%|███████████████████████████████████████████████████████████████████████████████████████████████████████████████████████████████████████████████████████████████████████████████████████████████████| 10/10 [00:04<00:00,  2.08it/s]\n"
     ]
    },
    {
     "name": "stdout",
     "output_type": "stream",
     "text": [
      "Training RMSE:  1.0399367663736303 Testing RMSE:  7.694284391631295\n",
      "Big_mart_sales\n"
     ]
    },
    {
     "name": "stderr",
     "output_type": "stream",
     "text": [
      " 10%|███████████████████▌                                                                                                                                                                                | 1/10 [00:00<00:04,  1.88it/s]"
     ]
    },
    {
     "name": "stdout",
     "output_type": "stream",
     "text": [
      "Training RMSE:  1018.0484599179406 Testing RMSE:  1078.2730175702125\n"
     ]
    },
    {
     "name": "stderr",
     "output_type": "stream",
     "text": [
      " 20%|███████████████████████████████████████▏                                                                                                                                                            | 2/10 [00:01<00:04,  1.88it/s]"
     ]
    },
    {
     "name": "stdout",
     "output_type": "stream",
     "text": [
      "Training RMSE:  1026.9141644456947 Testing RMSE:  1088.247103859888\n"
     ]
    },
    {
     "name": "stderr",
     "output_type": "stream",
     "text": [
      " 30%|██████████████████████████████████████████████████████████▊                                                                                                                                         | 3/10 [00:01<00:03,  1.89it/s]"
     ]
    },
    {
     "name": "stdout",
     "output_type": "stream",
     "text": [
      "Training RMSE:  1000.9572616664294 Testing RMSE:  1123.912325484472\n"
     ]
    },
    {
     "name": "stderr",
     "output_type": "stream",
     "text": [
      " 40%|██████████████████████████████████████████████████████████████████████████████▍                                                                                                                     | 4/10 [00:02<00:03,  1.89it/s]"
     ]
    },
    {
     "name": "stdout",
     "output_type": "stream",
     "text": [
      "Training RMSE:  1032.6275034749776 Testing RMSE:  1052.528739986088\n"
     ]
    },
    {
     "name": "stderr",
     "output_type": "stream",
     "text": [
      " 50%|██████████████████████████████████████████████████████████████████████████████████████████████████                                                                                                  | 5/10 [00:02<00:02,  1.89it/s]"
     ]
    },
    {
     "name": "stdout",
     "output_type": "stream",
     "text": [
      "Training RMSE:  1035.0008107622793 Testing RMSE:  1021.7350431699554\n"
     ]
    },
    {
     "name": "stderr",
     "output_type": "stream",
     "text": [
      " 60%|█████████████████████████████████████████████████████████████████████████████████████████████████████████████████████▌                                                                              | 6/10 [00:03<00:02,  1.90it/s]"
     ]
    },
    {
     "name": "stdout",
     "output_type": "stream",
     "text": [
      "Training RMSE:  1024.2471795398608 Testing RMSE:  1049.3795409864595\n"
     ]
    },
    {
     "name": "stderr",
     "output_type": "stream",
     "text": [
      " 70%|█████████████████████████████████████████████████████████████████████████████████████████████████████████████████████████████████████████▏                                                          | 7/10 [00:03<00:01,  1.91it/s]"
     ]
    },
    {
     "name": "stdout",
     "output_type": "stream",
     "text": [
      "Training RMSE:  1003.8276950922681 Testing RMSE:  1068.816261600285\n"
     ]
    },
    {
     "name": "stderr",
     "output_type": "stream",
     "text": [
      " 80%|████████████████████████████████████████████████████████████████████████████████████████████████████████████████████████████████████████████████████████████▊                                       | 8/10 [00:04<00:01,  1.91it/s]"
     ]
    },
    {
     "name": "stdout",
     "output_type": "stream",
     "text": [
      "Training RMSE:  1004.1186376037228 Testing RMSE:  1093.9515830383593\n"
     ]
    },
    {
     "name": "stderr",
     "output_type": "stream",
     "text": [
      " 90%|████████████████████████████████████████████████████████████████████████████████████████████████████████████████████████████████████████████████████████████████████████████████▍                   | 9/10 [00:04<00:00,  1.91it/s]"
     ]
    },
    {
     "name": "stdout",
     "output_type": "stream",
     "text": [
      "Training RMSE:  1001.7520399946279 Testing RMSE:  1161.5330760259708\n"
     ]
    },
    {
     "name": "stderr",
     "output_type": "stream",
     "text": [
      "100%|███████████████████████████████████████████████████████████████████████████████████████████████████████████████████████████████████████████████████████████████████████████████████████████████████| 10/10 [00:05<00:00,  1.90it/s]\n"
     ]
    },
    {
     "name": "stdout",
     "output_type": "stream",
     "text": [
      "Training RMSE:  1006.6430884469867 Testing RMSE:  1143.5890745302027\n",
      "blogData\n"
     ]
    },
    {
     "name": "stderr",
     "output_type": "stream",
     "text": [
      " 10%|███████████████████▌                                                                                                                                                                                | 1/10 [00:16<02:24, 16.08s/it]"
     ]
    },
    {
     "name": "stdout",
     "output_type": "stream",
     "text": [
      "Training RMSE:  19.575310080399078 Testing RMSE:  22.196021891050275\n"
     ]
    },
    {
     "name": "stderr",
     "output_type": "stream",
     "text": [
      " 20%|███████████████████████████████████████▏                                                                                                                                                            | 2/10 [00:31<02:05, 15.75s/it]"
     ]
    },
    {
     "name": "stdout",
     "output_type": "stream",
     "text": [
      "Training RMSE:  19.474037812476876 Testing RMSE:  26.037941396787026\n"
     ]
    },
    {
     "name": "stderr",
     "output_type": "stream",
     "text": [
      " 30%|██████████████████████████████████████████████████████████▊                                                                                                                                         | 3/10 [00:47<01:50, 15.73s/it]"
     ]
    },
    {
     "name": "stdout",
     "output_type": "stream",
     "text": [
      "Training RMSE:  21.179340162803417 Testing RMSE:  23.534555281137568\n"
     ]
    },
    {
     "name": "stderr",
     "output_type": "stream",
     "text": [
      " 40%|██████████████████████████████████████████████████████████████████████████████▍                                                                                                                     | 4/10 [01:03<01:35, 15.84s/it]"
     ]
    },
    {
     "name": "stdout",
     "output_type": "stream",
     "text": [
      "Training RMSE:  20.301780595514927 Testing RMSE:  23.163790515888955\n"
     ]
    },
    {
     "name": "stderr",
     "output_type": "stream",
     "text": [
      " 50%|██████████████████████████████████████████████████████████████████████████████████████████████████                                                                                                  | 5/10 [01:18<01:18, 15.75s/it]"
     ]
    },
    {
     "name": "stdout",
     "output_type": "stream",
     "text": [
      "Training RMSE:  19.21357358326149 Testing RMSE:  27.469298994492775\n"
     ]
    },
    {
     "name": "stderr",
     "output_type": "stream",
     "text": [
      " 60%|█████████████████████████████████████████████████████████████████████████████████████████████████████████████████████▌                                                                              | 6/10 [01:34<01:02, 15.70s/it]"
     ]
    },
    {
     "name": "stdout",
     "output_type": "stream",
     "text": [
      "Training RMSE:  19.077799135165005 Testing RMSE:  32.85181993909319\n"
     ]
    },
    {
     "name": "stderr",
     "output_type": "stream",
     "text": [
      " 70%|█████████████████████████████████████████████████████████████████████████████████████████████████████████████████████████████████████████▏                                                          | 7/10 [01:50<00:47, 15.84s/it]"
     ]
    },
    {
     "name": "stdout",
     "output_type": "stream",
     "text": [
      "Training RMSE:  19.546073020855513 Testing RMSE:  30.917176384697857\n"
     ]
    },
    {
     "name": "stderr",
     "output_type": "stream",
     "text": [
      " 80%|████████████████████████████████████████████████████████████████████████████████████████████████████████████████████████████████████████████████████████████▊                                       | 8/10 [02:06<00:31, 15.90s/it]"
     ]
    },
    {
     "name": "stdout",
     "output_type": "stream",
     "text": [
      "Training RMSE:  19.862898583803176 Testing RMSE:  24.74435685563564\n"
     ]
    },
    {
     "name": "stderr",
     "output_type": "stream",
     "text": [
      " 90%|████████████████████████████████████████████████████████████████████████████████████████████████████████████████████████████████████████████████████████████████████████████████▍                   | 9/10 [02:22<00:15, 15.86s/it]"
     ]
    },
    {
     "name": "stdout",
     "output_type": "stream",
     "text": [
      "Training RMSE:  18.641911833844855 Testing RMSE:  24.800716057504598\n"
     ]
    },
    {
     "name": "stderr",
     "output_type": "stream",
     "text": [
      "100%|███████████████████████████████████████████████████████████████████████████████████████████████████████████████████████████████████████████████████████████████████████████████████████████████████| 10/10 [02:38<00:00, 15.85s/it]\n"
     ]
    },
    {
     "name": "stdout",
     "output_type": "stream",
     "text": [
      "Training RMSE:  20.57944532492891 Testing RMSE:  24.700159708102746\n",
      "communities\n"
     ]
    },
    {
     "name": "stderr",
     "output_type": "stream",
     "text": [
      " 10%|███████████████████▌                                                                                                                                                                                | 1/10 [00:01<00:10,  1.15s/it]"
     ]
    },
    {
     "name": "stdout",
     "output_type": "stream",
     "text": [
      "Training RMSE:  0.08342656559009481 Testing RMSE:  0.1257021898886718\n"
     ]
    },
    {
     "name": "stderr",
     "output_type": "stream",
     "text": [
      " 20%|███████████████████████████████████████▏                                                                                                                                                            | 2/10 [00:02<00:09,  1.15s/it]"
     ]
    },
    {
     "name": "stdout",
     "output_type": "stream",
     "text": [
      "Training RMSE:  0.08406185147039115 Testing RMSE:  0.13923815697277486\n"
     ]
    },
    {
     "name": "stderr",
     "output_type": "stream",
     "text": [
      " 30%|██████████████████████████████████████████████████████████▊                                                                                                                                         | 3/10 [00:03<00:08,  1.15s/it]"
     ]
    },
    {
     "name": "stdout",
     "output_type": "stream",
     "text": [
      "Training RMSE:  0.08169732926016882 Testing RMSE:  0.13880322156249406\n"
     ]
    },
    {
     "name": "stderr",
     "output_type": "stream",
     "text": [
      " 40%|██████████████████████████████████████████████████████████████████████████████▍                                                                                                                     | 4/10 [00:04<00:06,  1.15s/it]"
     ]
    },
    {
     "name": "stdout",
     "output_type": "stream",
     "text": [
      "Training RMSE:  0.08338801306661231 Testing RMSE:  0.1315278697050382\n"
     ]
    },
    {
     "name": "stderr",
     "output_type": "stream",
     "text": [
      " 50%|██████████████████████████████████████████████████████████████████████████████████████████████████                                                                                                  | 5/10 [00:05<00:05,  1.15s/it]"
     ]
    },
    {
     "name": "stdout",
     "output_type": "stream",
     "text": [
      "Training RMSE:  0.07939922100590151 Testing RMSE:  0.1469104794844473\n"
     ]
    },
    {
     "name": "stderr",
     "output_type": "stream",
     "text": [
      " 60%|█████████████████████████████████████████████████████████████████████████████████████████████████████████████████████▌                                                                              | 6/10 [00:06<00:04,  1.14s/it]"
     ]
    },
    {
     "name": "stdout",
     "output_type": "stream",
     "text": [
      "Training RMSE:  0.08200294012018641 Testing RMSE:  0.13893700705547155\n"
     ]
    },
    {
     "name": "stderr",
     "output_type": "stream",
     "text": [
      " 70%|█████████████████████████████████████████████████████████████████████████████████████████████████████████████████████████████████████████▏                                                          | 7/10 [00:08<00:03,  1.15s/it]"
     ]
    },
    {
     "name": "stdout",
     "output_type": "stream",
     "text": [
      "Training RMSE:  0.07908966900597131 Testing RMSE:  0.14887167059507048\n"
     ]
    },
    {
     "name": "stderr",
     "output_type": "stream",
     "text": [
      " 80%|████████████████████████████████████████████████████████████████████████████████████████████████████████████████████████████████████████████████████████████▊                                       | 8/10 [00:09<00:02,  1.15s/it]"
     ]
    },
    {
     "name": "stdout",
     "output_type": "stream",
     "text": [
      "Training RMSE:  0.08540213167553702 Testing RMSE:  0.13099429510513783\n"
     ]
    },
    {
     "name": "stderr",
     "output_type": "stream",
     "text": [
      " 90%|████████████████████████████████████████████████████████████████████████████████████████████████████████████████████████████████████████████████████████████████████████████████▍                   | 9/10 [00:10<00:01,  1.15s/it]"
     ]
    },
    {
     "name": "stdout",
     "output_type": "stream",
     "text": [
      "Training RMSE:  0.07731876844985326 Testing RMSE:  0.146844767514462\n"
     ]
    },
    {
     "name": "stderr",
     "output_type": "stream",
     "text": [
      "100%|███████████████████████████████████████████████████████████████████████████████████████████████████████████████████████████████████████████████████████████████████████████████████████████████████| 10/10 [00:11<00:00,  1.15s/it]\n"
     ]
    },
    {
     "name": "stdout",
     "output_type": "stream",
     "text": [
      "Training RMSE:  0.08108557747942047 Testing RMSE:  0.12765135415970214\n",
      "dengue_features\n"
     ]
    },
    {
     "name": "stderr",
     "output_type": "stream",
     "text": [
      " 10%|███████████████████▌                                                                                                                                                                                | 1/10 [00:00<00:02,  3.22it/s]"
     ]
    },
    {
     "name": "stdout",
     "output_type": "stream",
     "text": [
      "Training RMSE:  19.110818522570472 Testing RMSE:  28.952795282192007\n"
     ]
    },
    {
     "name": "stderr",
     "output_type": "stream",
     "text": [
      " 20%|███████████████████████████████████████▏                                                                                                                                                            | 2/10 [00:00<00:02,  3.21it/s]"
     ]
    },
    {
     "name": "stdout",
     "output_type": "stream",
     "text": [
      "Training RMSE:  17.393929749403707 Testing RMSE:  38.65238963376018\n"
     ]
    },
    {
     "name": "stderr",
     "output_type": "stream",
     "text": [
      " 30%|██████████████████████████████████████████████████████████▊                                                                                                                                         | 3/10 [00:00<00:02,  3.20it/s]"
     ]
    },
    {
     "name": "stdout",
     "output_type": "stream",
     "text": [
      "Training RMSE:  18.496367183286644 Testing RMSE:  35.68887330295818\n"
     ]
    },
    {
     "name": "stderr",
     "output_type": "stream",
     "text": [
      " 40%|██████████████████████████████████████████████████████████████████████████████▍                                                                                                                     | 4/10 [00:01<00:01,  3.20it/s]"
     ]
    },
    {
     "name": "stdout",
     "output_type": "stream",
     "text": [
      "Training RMSE:  17.934038922177244 Testing RMSE:  42.136304479834294\n"
     ]
    },
    {
     "name": "stderr",
     "output_type": "stream",
     "text": [
      " 50%|██████████████████████████████████████████████████████████████████████████████████████████████████                                                                                                  | 5/10 [00:01<00:01,  3.20it/s]"
     ]
    },
    {
     "name": "stdout",
     "output_type": "stream",
     "text": [
      "Training RMSE:  16.90427063264319 Testing RMSE:  33.844663529623936\n"
     ]
    },
    {
     "name": "stderr",
     "output_type": "stream",
     "text": [
      " 60%|█████████████████████████████████████████████████████████████████████████████████████████████████████████████████████▌                                                                              | 6/10 [00:01<00:01,  3.19it/s]"
     ]
    },
    {
     "name": "stdout",
     "output_type": "stream",
     "text": [
      "Training RMSE:  17.34203820076945 Testing RMSE:  27.456937626861926\n"
     ]
    },
    {
     "name": "stderr",
     "output_type": "stream",
     "text": [
      " 70%|█████████████████████████████████████████████████████████████████████████████████████████████████████████████████████████████████████████▏                                                          | 7/10 [00:02<00:00,  3.20it/s]"
     ]
    },
    {
     "name": "stdout",
     "output_type": "stream",
     "text": [
      "Training RMSE:  17.648020562153256 Testing RMSE:  35.36656233857966\n"
     ]
    },
    {
     "name": "stderr",
     "output_type": "stream",
     "text": [
      " 80%|████████████████████████████████████████████████████████████████████████████████████████████████████████████████████████████████████████████████████████████▊                                       | 8/10 [00:02<00:00,  3.21it/s]"
     ]
    },
    {
     "name": "stdout",
     "output_type": "stream",
     "text": [
      "Training RMSE:  18.196121435287548 Testing RMSE:  32.92917805699492\n"
     ]
    },
    {
     "name": "stderr",
     "output_type": "stream",
     "text": [
      " 90%|████████████████████████████████████████████████████████████████████████████████████████████████████████████████████████████████████████████████████████████████████████████████▍                   | 9/10 [00:02<00:00,  3.21it/s]"
     ]
    },
    {
     "name": "stdout",
     "output_type": "stream",
     "text": [
      "Training RMSE:  17.554766577864317 Testing RMSE:  28.614287789564262\n"
     ]
    },
    {
     "name": "stderr",
     "output_type": "stream",
     "text": [
      "100%|███████████████████████████████████████████████████████████████████████████████████████████████████████████████████████████████████████████████████████████████████████████████████████████████████| 10/10 [00:03<00:00,  3.21it/s]\n"
     ]
    },
    {
     "name": "stdout",
     "output_type": "stream",
     "text": [
      "Training RMSE:  16.244049965341347 Testing RMSE:  30.504529753605357\n",
      "ECG0_p02\n"
     ]
    },
    {
     "name": "stderr",
     "output_type": "stream",
     "text": [
      " 10%|███████████████████▌                                                                                                                                                                               | 1/10 [02:10<19:30, 130.04s/it]"
     ]
    },
    {
     "name": "stdout",
     "output_type": "stream",
     "text": [
      "Training RMSE:  0.06443686609561744 Testing RMSE:  0.067233876895983\n"
     ]
    },
    {
     "name": "stderr",
     "output_type": "stream",
     "text": [
      " 20%|███████████████████████████████████████                                                                                                                                                            | 2/10 [04:19<17:19, 129.96s/it]"
     ]
    },
    {
     "name": "stdout",
     "output_type": "stream",
     "text": [
      "Training RMSE:  0.06389611980138526 Testing RMSE:  0.06532348189031505\n"
     ]
    },
    {
     "name": "stderr",
     "output_type": "stream",
     "text": [
      " 30%|██████████████████████████████████████████████████████████▌                                                                                                                                        | 3/10 [06:30<15:11, 130.23s/it]"
     ]
    },
    {
     "name": "stdout",
     "output_type": "stream",
     "text": [
      "Training RMSE:  0.06550326681493748 Testing RMSE:  0.06720902761641095\n"
     ]
    },
    {
     "name": "stderr",
     "output_type": "stream",
     "text": [
      " 40%|██████████████████████████████████████████████████████████████████████████████                                                                                                                     | 4/10 [08:40<13:01, 130.26s/it]"
     ]
    },
    {
     "name": "stdout",
     "output_type": "stream",
     "text": [
      "Training RMSE:  0.06530083281389755 Testing RMSE:  0.06743718887488886\n"
     ]
    },
    {
     "name": "stderr",
     "output_type": "stream",
     "text": [
      " 50%|█████████████████████████████████████████████████████████████████████████████████████████████████▌                                                                                                 | 5/10 [10:50<10:51, 130.23s/it]"
     ]
    },
    {
     "name": "stdout",
     "output_type": "stream",
     "text": [
      "Training RMSE:  0.06483359137867824 Testing RMSE:  0.06410502999226166\n"
     ]
    },
    {
     "name": "stderr",
     "output_type": "stream",
     "text": [
      " 60%|█████████████████████████████████████████████████████████████████████████████████████████████████████████████████████                                                                              | 6/10 [13:01<08:41, 130.26s/it]"
     ]
    },
    {
     "name": "stdout",
     "output_type": "stream",
     "text": [
      "Training RMSE:  0.06503689483020701 Testing RMSE:  0.06787102788502038\n"
     ]
    },
    {
     "name": "stderr",
     "output_type": "stream",
     "text": [
      " 70%|████████████████████████████████████████████████████████████████████████████████████████████████████████████████████████████████████████▌                                                          | 7/10 [15:11<06:30, 130.20s/it]"
     ]
    },
    {
     "name": "stdout",
     "output_type": "stream",
     "text": [
      "Training RMSE:  0.06436092252385732 Testing RMSE:  0.0658770901122448\n"
     ]
    },
    {
     "name": "stderr",
     "output_type": "stream",
     "text": [
      " 80%|████████████████████████████████████████████████████████████████████████████████████████████████████████████████████████████████████████████████████████████                                       | 8/10 [17:21<04:20, 130.27s/it]"
     ]
    },
    {
     "name": "stdout",
     "output_type": "stream",
     "text": [
      "Training RMSE:  0.064594232383244 Testing RMSE:  0.067649049943977\n"
     ]
    },
    {
     "name": "stderr",
     "output_type": "stream",
     "text": [
      " 90%|███████████████████████████████████████████████████████████████████████████████████████████████████████████████████████████████████████████████████████████████████████████████▌                   | 9/10 [19:32<02:10, 130.38s/it]"
     ]
    },
    {
     "name": "stdout",
     "output_type": "stream",
     "text": [
      "Training RMSE:  0.06485918732156544 Testing RMSE:  0.06613089650403702\n"
     ]
    },
    {
     "name": "stderr",
     "output_type": "stream",
     "text": [
      "100%|██████████████████████████████████████████████████████████████████████████████████████████████████████████████████████████████████████████████████████████████████████████████████████████████████| 10/10 [21:42<00:00, 130.30s/it]\n"
     ]
    },
    {
     "name": "stdout",
     "output_type": "stream",
     "text": [
      "Training RMSE:  0.06531342601412524 Testing RMSE:  0.06849072597860263\n",
      "ENERGY_DATA_COMPLETE\n"
     ]
    },
    {
     "name": "stderr",
     "output_type": "stream",
     "text": [
      " 10%|███████████████████▌                                                                                                                                                                                | 1/10 [00:04<00:42,  4.69s/it]"
     ]
    },
    {
     "name": "stdout",
     "output_type": "stream",
     "text": [
      "Training RMSE:  80.25654488635983 Testing RMSE:  90.16889975266493\n"
     ]
    },
    {
     "name": "stderr",
     "output_type": "stream",
     "text": [
      " 20%|███████████████████████████████████████▏                                                                                                                                                            | 2/10 [00:09<00:37,  4.69s/it]"
     ]
    },
    {
     "name": "stdout",
     "output_type": "stream",
     "text": [
      "Training RMSE:  83.4629974949815 Testing RMSE:  83.99283370157143\n"
     ]
    },
    {
     "name": "stderr",
     "output_type": "stream",
     "text": [
      " 30%|██████████████████████████████████████████████████████████▊                                                                                                                                         | 3/10 [00:14<00:32,  4.69s/it]"
     ]
    },
    {
     "name": "stdout",
     "output_type": "stream",
     "text": [
      "Training RMSE:  82.36547388164242 Testing RMSE:  86.8950889148739\n"
     ]
    },
    {
     "name": "stderr",
     "output_type": "stream",
     "text": [
      " 40%|██████████████████████████████████████████████████████████████████████████████▍                                                                                                                     | 4/10 [00:18<00:28,  4.71s/it]"
     ]
    },
    {
     "name": "stdout",
     "output_type": "stream",
     "text": [
      "Training RMSE:  82.68687700211275 Testing RMSE:  84.66397593348307\n"
     ]
    },
    {
     "name": "stderr",
     "output_type": "stream",
     "text": [
      " 50%|██████████████████████████████████████████████████████████████████████████████████████████████████                                                                                                  | 5/10 [00:23<00:23,  4.73s/it]"
     ]
    },
    {
     "name": "stdout",
     "output_type": "stream",
     "text": [
      "Training RMSE:  81.3235033592432 Testing RMSE:  87.21344676337732\n"
     ]
    },
    {
     "name": "stderr",
     "output_type": "stream",
     "text": [
      " 60%|█████████████████████████████████████████████████████████████████████████████████████████████████████████████████████▌                                                                              | 6/10 [00:28<00:18,  4.75s/it]"
     ]
    },
    {
     "name": "stdout",
     "output_type": "stream",
     "text": [
      "Training RMSE:  81.42560634766463 Testing RMSE:  92.0908969036724\n"
     ]
    },
    {
     "name": "stderr",
     "output_type": "stream",
     "text": [
      " 70%|█████████████████████████████████████████████████████████████████████████████████████████████████████████████████████████████████████████▏                                                          | 7/10 [00:33<00:14,  4.76s/it]"
     ]
    },
    {
     "name": "stdout",
     "output_type": "stream",
     "text": [
      "Training RMSE:  83.93064829090271 Testing RMSE:  80.46848566352713\n"
     ]
    },
    {
     "name": "stderr",
     "output_type": "stream",
     "text": [
      " 80%|████████████████████████████████████████████████████████████████████████████████████████████████████████████████████████████████████████████████████████████▊                                       | 8/10 [00:37<00:09,  4.77s/it]"
     ]
    },
    {
     "name": "stdout",
     "output_type": "stream",
     "text": [
      "Training RMSE:  81.58120194851018 Testing RMSE:  89.87322047115264\n"
     ]
    },
    {
     "name": "stderr",
     "output_type": "stream",
     "text": [
      " 90%|████████████████████████████████████████████████████████████████████████████████████████████████████████████████████████████████████████████████████████████████████████████████▍                   | 9/10 [00:42<00:04,  4.76s/it]"
     ]
    },
    {
     "name": "stdout",
     "output_type": "stream",
     "text": [
      "Training RMSE:  83.12094692494883 Testing RMSE:  88.72690594649517\n"
     ]
    },
    {
     "name": "stderr",
     "output_type": "stream",
     "text": [
      "100%|███████████████████████████████████████████████████████████████████████████████████████████████████████████████████████████████████████████████████████████████████████████████████████████████████| 10/10 [00:47<00:00,  4.74s/it]"
     ]
    },
    {
     "name": "stdout",
     "output_type": "stream",
     "text": [
      "Training RMSE:  81.76292646072821 Testing RMSE:  93.6270749945793\n"
     ]
    },
    {
     "name": "stderr",
     "output_type": "stream",
     "text": [
      "\n"
     ]
    }
   ],
   "source": [
    "# For GB default\n",
    "\n",
    "for index, dataset in enumerate(datasets):\n",
    "    df = pd.DataFrame()\n",
    "    print(dataset)\n",
    "    for seed in tqdm(seeds):\n",
    "        csv_path_train = os.path.join(data_dir, dataset, \"Train\", dataset + '_seed_' + str(seed) + '_train.csv')\n",
    "        csv_path_validation = os.path.join(data_dir, dataset, \"Train\", dataset + '_seed_' + str(seed) + '_validation.csv')\n",
    "        csv_path_test = os.path.join(data_dir, dataset, \"Test\", dataset + '_Test_seed' + str(seed) + '_modified.csv')\n",
    "        df_test = pd.read_csv(csv_path_test)\n",
    "        \n",
    "        # print(csv_path_train, csv_path_test)\n",
    "        \n",
    "        X_test = df_test.drop(x_column_drop[dataset], axis = 1)\n",
    "        y_test = df_test[target_column[dataset]]\n",
    "        \n",
    "        details = {\n",
    "            'dataset': dataset,\n",
    "            'seed': str(seed)\n",
    "        }\n",
    "        \n",
    "        # For GB\n",
    "        model_GB = GB_pred_default(csv_path_train, csv_path_validation, x_column_drop[dataset], target_column[dataset], details)\n",
    "        \n",
    "        importances = model_GB.feature_importances_\n",
    "        indices = np.argsort(importances)[::-1]\n",
    "        top_k = 10\n",
    "        top_indices = indices[:top_k]\n",
    "        details['best_feature_list'] = np.array(X_test.columns)[indices][0:top_k]\n",
    "        \n",
    "        y_pred = model_GB.predict(X_test)\n",
    "        validation_rmse = mean_squared_error(y_test, y_pred, squared=False)\n",
    "        details['validation_rmse'] = validation_rmse\n",
    "        \n",
    "        df = df.append(details, ignore_index=True)\n",
    "        filepath = Path(dataset + '_GB_default.csv')\n",
    "        filepath.parent.mkdir(parents=True, exist_ok=True)\n",
    "        df.to_csv(filepath, index=False)"
   ]
  }
 ],
 "metadata": {
  "kernelspec": {
   "display_name": "Python 3 (ipykernel)",
   "language": "python",
   "name": "python3"
  },
  "language_info": {
   "codemirror_mode": {
    "name": "ipython",
    "version": 3
   },
   "file_extension": ".py",
   "mimetype": "text/x-python",
   "name": "python",
   "nbconvert_exporter": "python",
   "pygments_lexer": "ipython3",
   "version": "3.8.10"
  }
 },
 "nbformat": 4,
 "nbformat_minor": 5
}
